{
  "nbformat": 4,
  "nbformat_minor": 0,
  "metadata": {
    "colab": {
      "name": "finalNotebookP4.ipynb",
      "provenance": [],
      "collapsed_sections": []
    },
    "kernelspec": {
      "name": "python3",
      "display_name": "Python 3",
      "language": "python"
    }
  },
  "cells": [
    {
      "cell_type": "markdown",
      "metadata": {
        "id": "zqHTONNAmSdN"
      },
      "source": [
        "# P4 Notebook\n",
        "\n",
        "\"a (single!) supporting notebook is also expected and will be graded.\""
      ]
    },
    {
      "cell_type": "code",
      "metadata": {
        "id": "eC_gfdHkmlYt"
      },
      "source": [
        "import numpy as np\n",
        "import pandas as pd\n",
        "import seaborn as sns\n",
        "import matplotlib.pyplot as plt\n",
        "\n",
        "import plotly.graph_objects as go\n",
        "import plotly.express as px\n",
        "\n",
        "%matplotlib inline\n",
        "# sns.set_theme()\n",
        "\n",
        "custom_hlegend = dict(\n",
        "    orientation=\"h\",\n",
        "    yanchor=\"bottom\",\n",
        "    y=1.02,\n",
        "    xanchor=\"right\",\n",
        "    x=1\n",
        ")\n",
        "FIGURE_WIDTH=950\n",
        "FIGURE_HEIGHT=600"
      ],
      "execution_count": 1,
      "outputs": []
    },
    {
      "cell_type": "code",
      "metadata": {
        "id": "YMn9Menymlcs"
      },
      "source": [
        "data_address = 'data/'\n",
        "\n",
        "paper_data = pd.read_csv(f'{data_address}SambnisImp.csv')\n",
        "paper_data['ccode'] = paper_data['cowcode']         # interoperability with teammates\n",
        "var_filter =  [\"ccode\", \"year\", \"warstds\", \"ager\", \"agexp\", \"anoc\", \"army85\", \"autch98\", \"auto4\",\n",
        "    \"autonomy\", \"avgnabo\", \"centpol3\", \"coldwar\", \"decade1\", \"decade2\",\n",
        "    \"decade3\", \"decade4\", \"dem\", \"dem4\", \"demch98\", \"dlang\", \"drel\", \"durable\",\n",
        "    \"ef\", \"ef2\", \"ehet\", \"elfo\", \"elfo2\", \"etdo4590\", \"expgdp\", \"exrec\",\n",
        "    \"fedpol3\", \"fuelexp\", \"gdpgrowth\", \"geo1\", \"geo2\", \"geo34\", \"geo57\",\n",
        "    \"geo69\", \"geo8\", \"illiteracy\", \"incumb\", \"infant\", \"inst\", \"inst3\", \"life\",\n",
        "    \"lmtnest\", \"ln_gdpen\", \"lpopns\", \"major\", \"manuexp\", \"milper\", \"mirps0\",\n",
        "    \"mirps1\", \"mirps2\", \"mirps3\", \"nat_war\", \"ncontig\", \"nmgdp\", \"nmdp4_alt\",\n",
        "    \"numlang\", \"nwstate\", \"oil\", \"p4mchg\", \"parcomp\", \"parreg\", \"part\",\n",
        "    \"partfree\", \"plural\", \"plurrel\", \"pol4\", \"pol4m\", \"pol4sq\", \"polch98\",\n",
        "    \"polcomp\", \"popdense\", \"presi\", \"pri\", \"proxregc\", \"ptime\", \"reg\",\n",
        "    \"regd4_alt\", \"relfrac\", \"seceduc\", \"second\", \"semipol3\", \"sip2\", \"sxpnew\",\n",
        "    \"sxpsq\", \"tnatwar\", \"trade\", \"warhist\", \"xconst\"]\n",
        "paper_data = paper_data[var_filter]\n",
        "\n",
        "national_trade_data = pd.read_csv(f'{data_address}National_COW_4.0.csv')\n",
        "national_trade_data = national_trade_data[['year', 'ccode', 'imports', 'exports']]\n",
        "\n",
        "inter_war = pd.read_csv(f'{data_address}Inter-StateWar.csv')\n",
        "inter_war = inter_war.rename(columns={'CcodeA':'ccode'})\n",
        "\n",
        "civil_war = pd.read_csv(f'{data_address}civil_wars.csv', encoding='latin-1')\n",
        "civil_war = civil_war.rename(columns={\n",
        "    'CcodeA':'ccode',\n",
        "    'StartYr1':'StartYear1',\n",
        "    'EndYr1':'EndYear1',\n",
        "    'StartYr2':'StartYear2',\n",
        "    'EndYr2':'EndYear2',\n",
        "})\n",
        "\n",
        "country_codes = (pd.read_csv(f'{data_address}country_codes.csv')\n",
        "    .rename(columns={'CCode':'ccode'})\n",
        "    .set_index('ccode')\n",
        ")"
      ],
      "execution_count": 2,
      "outputs": []
    },
    {
      "cell_type": "code",
      "metadata": {
        "id": "TPA03P1IVzDW"
      },
      "source": [
        "\n",
        "# build war status\n",
        "def build_war_state():\n",
        "    # DB dates\n",
        "    start_year = 1800\n",
        "    end_year = 2020\n",
        "    duration = end_year-start_year+1\n",
        "\n",
        "    # initialize values\n",
        "    at_war = np.zeros((1000, duration), dtype=np.int16)\n",
        "    new_war = np.zeros((1000, duration), dtype=np.int16)\n",
        "    year_at_war = np.zeros((1000, duration), dtype=np.int16)\n",
        "    from_prev_war = np.zeros((1000, duration), dtype=np.int16)\n",
        "    till_next_war = np.zeros((1000, duration), dtype=np.int16)\n",
        "\n",
        "    \n",
        "    for db in [civil_war, inter_war]:\n",
        "        for row in db.itertuples():\n",
        "            # compute the war period\n",
        "            year_range = list(range(int(row.StartYear1), int(row.EndYear1)+1))\n",
        "            if not pd.isna(row.StartYear2) and row.StartYear2 > 0:\n",
        "                year_range += list(range(int(row.StartYear2), int(row.EndYear2)+1))\n",
        "            # civil war can go up to startyear4\n",
        "\n",
        "            # make sure ccode is valid\n",
        "            if not pd.isna(row.ccode) and row.ccode > 0 and row.ccode < 1000:\n",
        "                # print(f'add war: {len(year_range)}years , {ccode}-{ccode}.')\n",
        "                new_war[int(row.ccode)][row.StartYear1 - start_year] = 1\n",
        "                for year in year_range:\n",
        "                    if year >= start_year and year <= end_year:\n",
        "                        at_war[int(row.ccode)][year - start_year] = 1\n",
        "\n",
        "    # compute stats about past/future wars per country\n",
        "    unknown_value = 999\n",
        "    for country in range(1000):\n",
        "        year_at_war[country][0] = at_war[country][0]\n",
        "        for year in range(1, duration):\n",
        "            if at_war[country][year]:\n",
        "                year_at_war[country][year] = year_at_war[country][year-1]+1\n",
        "        last_war = 0\n",
        "        for year in range(duration):\n",
        "            if at_war[country][year]:\n",
        "                last_war = year\n",
        "            from_prev_war[country][year] = year - last_war if last_war else unknown_value\n",
        "        comming_war = 0\n",
        "        for year in range(duration)[::-1]:\n",
        "            if at_war[country][year]:\n",
        "                comming_war = year\n",
        "            till_next_war[country][year] = comming_war - year if comming_war else unknown_value\n",
        "\n",
        "    # repack as dataframe\n",
        "    df = pd.DataFrame([\n",
        "        {\n",
        "            'year':start_year+year, \n",
        "            'ccode':country,\n",
        "            'at_war':at_war[country][year],\n",
        "            'year_at_war':year_at_war[country][year],\n",
        "            'from_prev_war':from_prev_war[country][year],\n",
        "            'till_next_war':till_next_war[country][year],\n",
        "            'war_start_hard':new_war[country][year]==1,\n",
        "            'war_start_soft':(\n",
        "                new_war[country][year-1]==1 or \n",
        "                new_war[country][year]==1 or \n",
        "                new_war[country][year+1]==1 \n",
        "            ),\n",
        "        } \n",
        "        for country in country_codes.index\n",
        "        for year in range(1, duration-1)\n",
        "    ])\n",
        "    return df\n",
        "\n",
        "# Unknown values are represented as 999\n",
        "war_state = build_war_state()\n"
      ],
      "execution_count": 3,
      "outputs": []
    },
    {
      "cell_type": "code",
      "metadata": {
        "id": "zZ23OlMBV3cv"
      },
      "source": [
        "# process annual growth \n",
        "def add_annual_change(df, columns, periods=[1]):\n",
        "    # new_columns_names = []\n",
        "    country_dfs = {}\n",
        "    for country in country_codes.index:\n",
        "        c_df = df[df['ccode']==country]\n",
        "        for period in periods:\n",
        "            for column in columns:\n",
        "                name = f'{column}_growth{\"\" if period == 1 else f\"_{period}years\"}'\n",
        "                # print(name)\n",
        "                c_df[name] = c_df[column].pct_change(period)*100\n",
        "                # new_columns_names.append(name)\n",
        "        country_dfs[country] = c_df\n",
        "\n",
        "    data = pd.concat(country_dfs.values())\n",
        "    # Annual changes for (0,0) values results in Nan\n",
        "    data.fillna('0', inplace=True)\n",
        "    return data\n"
      ],
      "execution_count": 4,
      "outputs": []
    },
    {
      "cell_type": "code",
      "metadata": {
        "id": "LIrgLyBWV5aE",
        "colab": {
          "base_uri": "https://localhost:8080/"
        },
        "outputId": "a25ad88c-3464-4cd0-fbee-c3cece506df3"
      },
      "source": [
        "\n",
        "# process trade data\n",
        "national_trade_data = pd.read_csv(f'{data_address}National_COW_4.0.csv')\n",
        "national_trade_data = national_trade_data[['year', 'ccode', 'imports', 'exports']]\n",
        "ntrade_no_nan_data = national_trade_data.copy()\n",
        "\n",
        "# Add net trade\n",
        "national_trade_data['net'] = national_trade_data['exports'] - national_trade_data['imports']\n",
        "# add annual growth\n",
        "national_trade_data = add_annual_change(\n",
        "    national_trade_data, \n",
        "    ['imports', 'exports', 'net'], \n",
        "    [1, 2, 3]\n",
        ")\n",
        "\n",
        "for c in national_trade_data.columns[2:]:\n",
        "    national_trade_data[c] = pd.to_numeric(national_trade_data[c])\n"
      ],
      "execution_count": 5,
      "outputs": []
    },
    {
      "cell_type": "code",
      "metadata": {
        "colab": {
          "base_uri": "https://localhost:8080/"
        },
        "id": "tdzVKFJq6-Gv",
        "outputId": "1bbedac5-3dea-4a4d-e176-461b72528e70"
      },
      "source": [
        "\n",
        "# Build a no-nan trade version\n",
        "# Fix NA values\n",
        "# Drop NA values\n",
        "ntrade_no_nan_data.dropna(inplace=True)\n",
        "# Add net trade\n",
        "ntrade_no_nan_data['net'] = ntrade_no_nan_data['exports'] - ntrade_no_nan_data['imports']\n",
        "# Change format to wide\n",
        "wide_trade = ntrade_no_nan_data.pivot(\n",
        "    index='year', \n",
        "    columns='ccode', \n",
        "    values=['imports', 'exports', 'net']\n",
        ")\n",
        "# Use next year's trade value to fill\n",
        "wide_trade = (wide_trade\n",
        "    .fillna(method='bfill') # Fill data with the next value\n",
        "    .fillna(method='ffill') # if data missing at the end\n",
        "    .reset_index()\n",
        "    .melt(id_vars='year')\n",
        ")\n",
        "# bring back to the long format\n",
        "wide_trade = wide_trade.rename(columns={wide_trade.columns[1]:'direction'})\n",
        "ntrade_no_nan_data = wide_trade.pivot(\n",
        "    index=['year', 'ccode'], \n",
        "    columns='direction', \n",
        "    values='value'\n",
        ").reset_index()\n",
        "\n",
        "# drop two countries with less than 3 measurements\n",
        "ntrade_no_nan_data.drop(\n",
        "    ntrade_no_nan_data[ntrade_no_nan_data['ccode'].isin([451,517])].index,\n",
        "    inplace=True\n",
        ")\n",
        "# add annual growth\n",
        "ntrade_no_nan_data = add_annual_change(\n",
        "    ntrade_no_nan_data, \n",
        "    ['imports', 'exports', 'net'], \n",
        "    [1, 2, 3]\n",
        ")\n",
        "\n",
        "# fills the remaining two Nan cells with zero\n",
        "ntrade_no_nan_data.fillna(0., inplace=True)"
      ],
      "execution_count": 6,
      "outputs": []
    },
    {
      "cell_type": "code",
      "metadata": {
        "id": "aP1G7-FkV8zr",
        "colab": {
          "base_uri": "https://localhost:8080/"
        },
        "outputId": "4132eb23-9480-4117-c3cc-309f94736842"
      },
      "source": [
        "\n",
        "# Extend the original data\n",
        "\n",
        "# ****** IMPORTANT ******\n",
        "# This new data contains leakage about upcoming year.\n",
        "# This is useful for re-targeting the prediction, but should be handled with care \n",
        "# Leaky column: 'at_war', 'year_at_war', 'till_next_war, 'war_start_hard', 'war_start_soft'\n",
        "# Targets: 'war_start_hard' a new war starts this year\n",
        "# Targets: 'war_start_soft' a new war starts in with -/+ 1 year tolerance\n",
        "extended_paper_data = pd.merge(paper_data, war_state, how='left', on=['ccode', 'year'])\n",
        "\n",
        "# Add annual changes\n",
        "interesting_growth_fields = ['agexp', 'army85', 'expgdp', 'fuelexp', 'gdpgrowth',\n",
        "    'infant', 'life', 'manuexp', 'milper', 'trade']\n",
        "\n",
        "extended_paper_data = add_annual_change(\n",
        "    extended_paper_data, \n",
        "    interesting_growth_fields, \n",
        "    [1, 2, 3]\n",
        ")\n",
        "\n",
        "# Add trade data\n",
        "extended_paper_data = pd.merge(\n",
        "    extended_paper_data, \n",
        "    ntrade_no_nan_data, \n",
        "    how='left', \n",
        "    on=['ccode', 'year']\n",
        ")\n",
        "# Does not have trade data for all countries\n",
        "extended_paper_data.fillna('0', inplace=True)"
      ],
      "execution_count": 7,
      "outputs": []
    },
    {
      "cell_type": "code",
      "metadata": {
        "colab": {
          "base_uri": "https://localhost:8080/",
          "height": 490
        },
        "id": "1X9oYuyDWOMs",
        "outputId": "e03f45b9-8ac4-4982-dd4e-cc1cd57d5474"
      },
      "source": [
        "# how many countries are on each side of a war\n",
        "sides_of_war = (inter_war\n",
        "    .groupby(['WarNum', 'Side'])\n",
        "    .count()\n",
        "    .reset_index()\n",
        "    .pivot(index='WarNum', columns='Side', values='WarName')\n",
        "    .rename(columns={1:'SideA', 2:'SideB'})\n",
        ")\n",
        "sides_of_war['SideMax'] = sides_of_war[['SideA', 'SideB']].max(axis=1)\n",
        "sides_of_war['SideMin'] = sides_of_war[['SideA', 'SideB']].min(axis=1)\n",
        "sides_of_war['ratio'] = sides_of_war['SideMax']/sides_of_war['SideMin']\n",
        "\n",
        "\n",
        "unfair_wars = pd.merge(inter_war, sides_of_war[['SideMin', 'SideMax',  'ratio']], left_on='WarNum', right_index=True)\n",
        "fig = px.sunburst(unfair_wars, path=[ 'SideMax', 'SideMin', 'WarName'],  width=FIGURE_WIDTH, height=FIGURE_HEIGHT)\n",
        "fig.write_html('fig/sides.html', include_plotlyjs='cdn', full_html=False)\n",
        "fig.show()"
      ],
      "execution_count": 12,
      "outputs": [
        {
          "output_type": "display_data",
          "data": {
            "application/vnd.plotly.v1+json": {
              "config": {
                "plotlyServerURL": "https://plot.ly"
              },
              "data": [
                {
                  "branchvalues": "total",
                  "domain": {
                    "x": [
                      0,
                      1
                    ],
                    "y": [
                      0,
                      1
                    ]
                  },
                  "hovertemplate": "labels=%{label}<br>count=%{value}<br>parent=%{parent}<br>id=%{id}<extra></extra>",
                  "ids": [
                    "1/1/Anglo-Persian",
                    "5/1/Arab-Israeli",
                    "1/1/Assam",
                    "3/1/Austro-Sardinian",
                    "1/1/Azeri-Armenian",
                    "1/1/Badme Border",
                    "1/1/Bangladesh",
                    "2/1/Bosnian Independence",
                    "5/1/Boxer Rebellion",
                    "1/1/Cenepa Valley",
                    "1/1/Chaco",
                    "1/1/Changkufeng",
                    "3/1/Communist Coalition",
                    "1/1/Conquest of Egypt",
                    "1/1/Conquest of Ethiopia",
                    "4/1/Crimean",
                    "1/1/Ecuadorian-Colombian",
                    "2/1/Estonian Liberation",
                    "1/1/Falkland Islands",
                    "3/1/First Balkan",
                    "1/1/First Central American",
                    "1/1/First Kashmir",
                    "1/1/First Russo-Turkish",
                    "1/1/First Schleswig-Holstein",
                    "1/1/First Sino-Japanese",
                    "1/1/First Spanish-Moroccan",
                    "1/1/Football War",
                    "2/1/Fourth Central American",
                    "1/1/Franco-Mexican",
                    "4/1/Franco-Prussian",
                    "1/1/Franco-Spanish War",
                    "1/1/Franco-Thai",
                    "1/1/Franco-Turkish",
                    "1/1/Greco-Turkish",
                    "13/1/Gulf War",
                    "2/1/Hungarian Adversaries",
                    "2/1/IfniWar",
                    "5/1/Invasion of Afghanistan",
                    "3/1/Invasion of Iraq",
                    "1/1/Iran-Iraq",
                    "2/1/Italian Unification",
                    "1/1/Italian-Roman",
                    "1/1/Italian-Turkish",
                    "1/1/Kargil War",
                    "14/2/Korean",
                    "1/1/La Plata",
                    "3/2/Latvian Liberation",
                    "1/1/Lithuanian-Polish",
                    "2/1/Lopez",
                    "1/1/Manchurian",
                    "1/1/Mexican-American",
                    "2/1/Naval War",
                    "1/1/Neapolitan",
                    "2/1/Nomonhan",
                    "1/1/Off-shore Islands",
                    "3/1/Roman Republic",
                    "1/1/Russo-Finnish",
                    "1/1/Russo-Japanese",
                    "1/1/Russo-Polish",
                    "1/1/Saudi-Yemeni",
                    "4/1/Second Balkan",
                    "1/1/Second Central American",
                    "1/1/Second Greco-Turkish",
                    "1/1/Second Kashmir",
                    "3/1/Second Laotian, Phase 2",
                    "2/1/Second Ogaden War, Phase 2",
                    "1/1/Second Russo-Turkish",
                    "2/1/Second Schleswig-Holstein",
                    "1/1/Second Sino-Japanese",
                    "1/1/Second Spanish-Moroccan",
                    "8/3/Seven Weeks",
                    "3/1/Sinai War",
                    "1/1/Sino-French",
                    "1/1/Sino-Russian",
                    "1/1/Sino-Vietnamese Border War",
                    "1/1/Sino-Vietnamese Punitive",
                    "3/1/Six Day War",
                    "1/1/Soviet Invasion of Hungary",
                    "1/1/Spanish-American",
                    "1/1/Taiwan Straits",
                    "2/1/Third Central American",
                    "1/1/Third Sino-Japanese",
                    "1/1/Turco-Cypriot",
                    "2/1/Ugandian-Tanzanian",
                    "7/1/Vietnam War, Phase 2",
                    "1/1/Vietnamese-Cambodian",
                    "7/1/War for Kosovo",
                    "1/1/War of Attrition",
                    "2/1/War of the Pacific",
                    "2/2/War over Angola",
                    "1/1/War over Lebanon",
                    "1/1/War over the Aouzou Strip",
                    "11/4/World War I",
                    "21/8/World War II",
                    "5/1/Yom Kippur War",
                    "1/1",
                    "2/1",
                    "3/1",
                    "4/1",
                    "5/1",
                    "7/1",
                    "13/1",
                    "2/2",
                    "3/2",
                    "14/2",
                    "8/3",
                    "11/4",
                    "21/8",
                    "1",
                    "2",
                    "3",
                    "4",
                    "5",
                    "7",
                    "8",
                    "11",
                    "13",
                    "14",
                    "21"
                  ],
                  "labels": [
                    "Anglo-Persian",
                    "Arab-Israeli",
                    "Assam",
                    "Austro-Sardinian",
                    "Azeri-Armenian",
                    "Badme Border",
                    "Bangladesh",
                    "Bosnian Independence",
                    "Boxer Rebellion",
                    "Cenepa Valley",
                    "Chaco",
                    "Changkufeng",
                    "Communist Coalition",
                    "Conquest of Egypt",
                    "Conquest of Ethiopia",
                    "Crimean",
                    "Ecuadorian-Colombian",
                    "Estonian Liberation",
                    "Falkland Islands",
                    "First Balkan",
                    "First Central American",
                    "First Kashmir",
                    "First Russo-Turkish",
                    "First Schleswig-Holstein",
                    "First Sino-Japanese",
                    "First Spanish-Moroccan",
                    "Football War",
                    "Fourth Central American",
                    "Franco-Mexican",
                    "Franco-Prussian",
                    "Franco-Spanish War",
                    "Franco-Thai",
                    "Franco-Turkish",
                    "Greco-Turkish",
                    "Gulf War",
                    "Hungarian Adversaries",
                    "IfniWar",
                    "Invasion of Afghanistan",
                    "Invasion of Iraq",
                    "Iran-Iraq",
                    "Italian Unification",
                    "Italian-Roman",
                    "Italian-Turkish",
                    "Kargil War",
                    "Korean",
                    "La Plata",
                    "Latvian Liberation",
                    "Lithuanian-Polish",
                    "Lopez",
                    "Manchurian",
                    "Mexican-American",
                    "Naval War",
                    "Neapolitan",
                    "Nomonhan",
                    "Off-shore Islands",
                    "Roman Republic",
                    "Russo-Finnish",
                    "Russo-Japanese",
                    "Russo-Polish",
                    "Saudi-Yemeni",
                    "Second Balkan",
                    "Second Central American",
                    "Second Greco-Turkish",
                    "Second Kashmir",
                    "Second Laotian, Phase 2",
                    "Second Ogaden War, Phase 2",
                    "Second Russo-Turkish",
                    "Second Schleswig-Holstein",
                    "Second Sino-Japanese",
                    "Second Spanish-Moroccan",
                    "Seven Weeks",
                    "Sinai War",
                    "Sino-French",
                    "Sino-Russian",
                    "Sino-Vietnamese Border War",
                    "Sino-Vietnamese Punitive",
                    "Six Day War",
                    "Soviet Invasion of Hungary",
                    "Spanish-American",
                    "Taiwan Straits",
                    "Third Central American",
                    "Third Sino-Japanese",
                    "Turco-Cypriot",
                    "Ugandian-Tanzanian",
                    "Vietnam War, Phase 2",
                    "Vietnamese-Cambodian",
                    "War for Kosovo",
                    "War of Attrition",
                    "War of the Pacific",
                    "War over Angola",
                    "War over Lebanon",
                    "War over the Aouzou Strip",
                    "World War I",
                    "World War II",
                    "Yom Kippur War",
                    "1",
                    "1",
                    "1",
                    "1",
                    "1",
                    "1",
                    "1",
                    "2",
                    "2",
                    "2",
                    "3",
                    "4",
                    "8",
                    "1",
                    "2",
                    "3",
                    "4",
                    "5",
                    "7",
                    "8",
                    "11",
                    "13",
                    "14",
                    "21"
                  ],
                  "name": "",
                  "parents": [
                    "1/1",
                    "5/1",
                    "1/1",
                    "3/1",
                    "1/1",
                    "1/1",
                    "1/1",
                    "2/1",
                    "5/1",
                    "1/1",
                    "1/1",
                    "1/1",
                    "3/1",
                    "1/1",
                    "1/1",
                    "4/1",
                    "1/1",
                    "2/1",
                    "1/1",
                    "3/1",
                    "1/1",
                    "1/1",
                    "1/1",
                    "1/1",
                    "1/1",
                    "1/1",
                    "1/1",
                    "2/1",
                    "1/1",
                    "4/1",
                    "1/1",
                    "1/1",
                    "1/1",
                    "1/1",
                    "13/1",
                    "2/1",
                    "2/1",
                    "5/1",
                    "3/1",
                    "1/1",
                    "2/1",
                    "1/1",
                    "1/1",
                    "1/1",
                    "14/2",
                    "1/1",
                    "3/2",
                    "1/1",
                    "2/1",
                    "1/1",
                    "1/1",
                    "2/1",
                    "1/1",
                    "2/1",
                    "1/1",
                    "3/1",
                    "1/1",
                    "1/1",
                    "1/1",
                    "1/1",
                    "4/1",
                    "1/1",
                    "1/1",
                    "1/1",
                    "3/1",
                    "2/1",
                    "1/1",
                    "2/1",
                    "1/1",
                    "1/1",
                    "8/3",
                    "3/1",
                    "1/1",
                    "1/1",
                    "1/1",
                    "1/1",
                    "3/1",
                    "1/1",
                    "1/1",
                    "1/1",
                    "2/1",
                    "1/1",
                    "1/1",
                    "2/1",
                    "7/1",
                    "1/1",
                    "7/1",
                    "1/1",
                    "2/1",
                    "2/2",
                    "1/1",
                    "1/1",
                    "11/4",
                    "21/8",
                    "5/1",
                    "1",
                    "2",
                    "3",
                    "4",
                    "5",
                    "7",
                    "13",
                    "2",
                    "3",
                    "14",
                    "8",
                    "11",
                    "21",
                    "",
                    "",
                    "",
                    "",
                    "",
                    "",
                    "",
                    "",
                    "",
                    "",
                    ""
                  ],
                  "type": "sunburst",
                  "values": [
                    2,
                    6,
                    2,
                    4,
                    2,
                    2,
                    2,
                    3,
                    6,
                    2,
                    2,
                    2,
                    4,
                    2,
                    2,
                    5,
                    2,
                    3,
                    2,
                    4,
                    2,
                    2,
                    2,
                    2,
                    2,
                    2,
                    2,
                    3,
                    2,
                    5,
                    2,
                    2,
                    2,
                    2,
                    14,
                    3,
                    3,
                    6,
                    4,
                    2,
                    3,
                    2,
                    2,
                    2,
                    16,
                    2,
                    5,
                    2,
                    3,
                    2,
                    2,
                    3,
                    2,
                    3,
                    2,
                    4,
                    2,
                    2,
                    2,
                    2,
                    5,
                    2,
                    2,
                    2,
                    4,
                    3,
                    2,
                    3,
                    2,
                    2,
                    11,
                    4,
                    2,
                    2,
                    2,
                    2,
                    4,
                    2,
                    2,
                    2,
                    3,
                    2,
                    2,
                    3,
                    8,
                    2,
                    8,
                    2,
                    3,
                    4,
                    2,
                    2,
                    15,
                    29,
                    6,
                    114,
                    42,
                    32,
                    15,
                    24,
                    16,
                    14,
                    4,
                    5,
                    16,
                    11,
                    15,
                    29,
                    114,
                    46,
                    37,
                    15,
                    24,
                    16,
                    11,
                    15,
                    14,
                    16,
                    29
                  ]
                }
              ],
              "layout": {
                "height": 600,
                "legend": {
                  "tracegroupgap": 0
                },
                "margin": {
                  "t": 60
                },
                "template": {
                  "data": {
                    "bar": [
                      {
                        "error_x": {
                          "color": "#2a3f5f"
                        },
                        "error_y": {
                          "color": "#2a3f5f"
                        },
                        "marker": {
                          "line": {
                            "color": "#E5ECF6",
                            "width": 0.5
                          }
                        },
                        "type": "bar"
                      }
                    ],
                    "barpolar": [
                      {
                        "marker": {
                          "line": {
                            "color": "#E5ECF6",
                            "width": 0.5
                          }
                        },
                        "type": "barpolar"
                      }
                    ],
                    "carpet": [
                      {
                        "aaxis": {
                          "endlinecolor": "#2a3f5f",
                          "gridcolor": "white",
                          "linecolor": "white",
                          "minorgridcolor": "white",
                          "startlinecolor": "#2a3f5f"
                        },
                        "baxis": {
                          "endlinecolor": "#2a3f5f",
                          "gridcolor": "white",
                          "linecolor": "white",
                          "minorgridcolor": "white",
                          "startlinecolor": "#2a3f5f"
                        },
                        "type": "carpet"
                      }
                    ],
                    "choropleth": [
                      {
                        "colorbar": {
                          "outlinewidth": 0,
                          "ticks": ""
                        },
                        "type": "choropleth"
                      }
                    ],
                    "contour": [
                      {
                        "colorbar": {
                          "outlinewidth": 0,
                          "ticks": ""
                        },
                        "colorscale": [
                          [
                            0,
                            "#0d0887"
                          ],
                          [
                            0.1111111111111111,
                            "#46039f"
                          ],
                          [
                            0.2222222222222222,
                            "#7201a8"
                          ],
                          [
                            0.3333333333333333,
                            "#9c179e"
                          ],
                          [
                            0.4444444444444444,
                            "#bd3786"
                          ],
                          [
                            0.5555555555555556,
                            "#d8576b"
                          ],
                          [
                            0.6666666666666666,
                            "#ed7953"
                          ],
                          [
                            0.7777777777777778,
                            "#fb9f3a"
                          ],
                          [
                            0.8888888888888888,
                            "#fdca26"
                          ],
                          [
                            1,
                            "#f0f921"
                          ]
                        ],
                        "type": "contour"
                      }
                    ],
                    "contourcarpet": [
                      {
                        "colorbar": {
                          "outlinewidth": 0,
                          "ticks": ""
                        },
                        "type": "contourcarpet"
                      }
                    ],
                    "heatmap": [
                      {
                        "colorbar": {
                          "outlinewidth": 0,
                          "ticks": ""
                        },
                        "colorscale": [
                          [
                            0,
                            "#0d0887"
                          ],
                          [
                            0.1111111111111111,
                            "#46039f"
                          ],
                          [
                            0.2222222222222222,
                            "#7201a8"
                          ],
                          [
                            0.3333333333333333,
                            "#9c179e"
                          ],
                          [
                            0.4444444444444444,
                            "#bd3786"
                          ],
                          [
                            0.5555555555555556,
                            "#d8576b"
                          ],
                          [
                            0.6666666666666666,
                            "#ed7953"
                          ],
                          [
                            0.7777777777777778,
                            "#fb9f3a"
                          ],
                          [
                            0.8888888888888888,
                            "#fdca26"
                          ],
                          [
                            1,
                            "#f0f921"
                          ]
                        ],
                        "type": "heatmap"
                      }
                    ],
                    "heatmapgl": [
                      {
                        "colorbar": {
                          "outlinewidth": 0,
                          "ticks": ""
                        },
                        "colorscale": [
                          [
                            0,
                            "#0d0887"
                          ],
                          [
                            0.1111111111111111,
                            "#46039f"
                          ],
                          [
                            0.2222222222222222,
                            "#7201a8"
                          ],
                          [
                            0.3333333333333333,
                            "#9c179e"
                          ],
                          [
                            0.4444444444444444,
                            "#bd3786"
                          ],
                          [
                            0.5555555555555556,
                            "#d8576b"
                          ],
                          [
                            0.6666666666666666,
                            "#ed7953"
                          ],
                          [
                            0.7777777777777778,
                            "#fb9f3a"
                          ],
                          [
                            0.8888888888888888,
                            "#fdca26"
                          ],
                          [
                            1,
                            "#f0f921"
                          ]
                        ],
                        "type": "heatmapgl"
                      }
                    ],
                    "histogram": [
                      {
                        "marker": {
                          "colorbar": {
                            "outlinewidth": 0,
                            "ticks": ""
                          }
                        },
                        "type": "histogram"
                      }
                    ],
                    "histogram2d": [
                      {
                        "colorbar": {
                          "outlinewidth": 0,
                          "ticks": ""
                        },
                        "colorscale": [
                          [
                            0,
                            "#0d0887"
                          ],
                          [
                            0.1111111111111111,
                            "#46039f"
                          ],
                          [
                            0.2222222222222222,
                            "#7201a8"
                          ],
                          [
                            0.3333333333333333,
                            "#9c179e"
                          ],
                          [
                            0.4444444444444444,
                            "#bd3786"
                          ],
                          [
                            0.5555555555555556,
                            "#d8576b"
                          ],
                          [
                            0.6666666666666666,
                            "#ed7953"
                          ],
                          [
                            0.7777777777777778,
                            "#fb9f3a"
                          ],
                          [
                            0.8888888888888888,
                            "#fdca26"
                          ],
                          [
                            1,
                            "#f0f921"
                          ]
                        ],
                        "type": "histogram2d"
                      }
                    ],
                    "histogram2dcontour": [
                      {
                        "colorbar": {
                          "outlinewidth": 0,
                          "ticks": ""
                        },
                        "colorscale": [
                          [
                            0,
                            "#0d0887"
                          ],
                          [
                            0.1111111111111111,
                            "#46039f"
                          ],
                          [
                            0.2222222222222222,
                            "#7201a8"
                          ],
                          [
                            0.3333333333333333,
                            "#9c179e"
                          ],
                          [
                            0.4444444444444444,
                            "#bd3786"
                          ],
                          [
                            0.5555555555555556,
                            "#d8576b"
                          ],
                          [
                            0.6666666666666666,
                            "#ed7953"
                          ],
                          [
                            0.7777777777777778,
                            "#fb9f3a"
                          ],
                          [
                            0.8888888888888888,
                            "#fdca26"
                          ],
                          [
                            1,
                            "#f0f921"
                          ]
                        ],
                        "type": "histogram2dcontour"
                      }
                    ],
                    "mesh3d": [
                      {
                        "colorbar": {
                          "outlinewidth": 0,
                          "ticks": ""
                        },
                        "type": "mesh3d"
                      }
                    ],
                    "parcoords": [
                      {
                        "line": {
                          "colorbar": {
                            "outlinewidth": 0,
                            "ticks": ""
                          }
                        },
                        "type": "parcoords"
                      }
                    ],
                    "pie": [
                      {
                        "automargin": true,
                        "type": "pie"
                      }
                    ],
                    "scatter": [
                      {
                        "marker": {
                          "colorbar": {
                            "outlinewidth": 0,
                            "ticks": ""
                          }
                        },
                        "type": "scatter"
                      }
                    ],
                    "scatter3d": [
                      {
                        "line": {
                          "colorbar": {
                            "outlinewidth": 0,
                            "ticks": ""
                          }
                        },
                        "marker": {
                          "colorbar": {
                            "outlinewidth": 0,
                            "ticks": ""
                          }
                        },
                        "type": "scatter3d"
                      }
                    ],
                    "scattercarpet": [
                      {
                        "marker": {
                          "colorbar": {
                            "outlinewidth": 0,
                            "ticks": ""
                          }
                        },
                        "type": "scattercarpet"
                      }
                    ],
                    "scattergeo": [
                      {
                        "marker": {
                          "colorbar": {
                            "outlinewidth": 0,
                            "ticks": ""
                          }
                        },
                        "type": "scattergeo"
                      }
                    ],
                    "scattergl": [
                      {
                        "marker": {
                          "colorbar": {
                            "outlinewidth": 0,
                            "ticks": ""
                          }
                        },
                        "type": "scattergl"
                      }
                    ],
                    "scattermapbox": [
                      {
                        "marker": {
                          "colorbar": {
                            "outlinewidth": 0,
                            "ticks": ""
                          }
                        },
                        "type": "scattermapbox"
                      }
                    ],
                    "scatterpolar": [
                      {
                        "marker": {
                          "colorbar": {
                            "outlinewidth": 0,
                            "ticks": ""
                          }
                        },
                        "type": "scatterpolar"
                      }
                    ],
                    "scatterpolargl": [
                      {
                        "marker": {
                          "colorbar": {
                            "outlinewidth": 0,
                            "ticks": ""
                          }
                        },
                        "type": "scatterpolargl"
                      }
                    ],
                    "scatterternary": [
                      {
                        "marker": {
                          "colorbar": {
                            "outlinewidth": 0,
                            "ticks": ""
                          }
                        },
                        "type": "scatterternary"
                      }
                    ],
                    "surface": [
                      {
                        "colorbar": {
                          "outlinewidth": 0,
                          "ticks": ""
                        },
                        "colorscale": [
                          [
                            0,
                            "#0d0887"
                          ],
                          [
                            0.1111111111111111,
                            "#46039f"
                          ],
                          [
                            0.2222222222222222,
                            "#7201a8"
                          ],
                          [
                            0.3333333333333333,
                            "#9c179e"
                          ],
                          [
                            0.4444444444444444,
                            "#bd3786"
                          ],
                          [
                            0.5555555555555556,
                            "#d8576b"
                          ],
                          [
                            0.6666666666666666,
                            "#ed7953"
                          ],
                          [
                            0.7777777777777778,
                            "#fb9f3a"
                          ],
                          [
                            0.8888888888888888,
                            "#fdca26"
                          ],
                          [
                            1,
                            "#f0f921"
                          ]
                        ],
                        "type": "surface"
                      }
                    ],
                    "table": [
                      {
                        "cells": {
                          "fill": {
                            "color": "#EBF0F8"
                          },
                          "line": {
                            "color": "white"
                          }
                        },
                        "header": {
                          "fill": {
                            "color": "#C8D4E3"
                          },
                          "line": {
                            "color": "white"
                          }
                        },
                        "type": "table"
                      }
                    ]
                  },
                  "layout": {
                    "annotationdefaults": {
                      "arrowcolor": "#2a3f5f",
                      "arrowhead": 0,
                      "arrowwidth": 1
                    },
                    "autotypenumbers": "strict",
                    "coloraxis": {
                      "colorbar": {
                        "outlinewidth": 0,
                        "ticks": ""
                      }
                    },
                    "colorscale": {
                      "diverging": [
                        [
                          0,
                          "#8e0152"
                        ],
                        [
                          0.1,
                          "#c51b7d"
                        ],
                        [
                          0.2,
                          "#de77ae"
                        ],
                        [
                          0.3,
                          "#f1b6da"
                        ],
                        [
                          0.4,
                          "#fde0ef"
                        ],
                        [
                          0.5,
                          "#f7f7f7"
                        ],
                        [
                          0.6,
                          "#e6f5d0"
                        ],
                        [
                          0.7,
                          "#b8e186"
                        ],
                        [
                          0.8,
                          "#7fbc41"
                        ],
                        [
                          0.9,
                          "#4d9221"
                        ],
                        [
                          1,
                          "#276419"
                        ]
                      ],
                      "sequential": [
                        [
                          0,
                          "#0d0887"
                        ],
                        [
                          0.1111111111111111,
                          "#46039f"
                        ],
                        [
                          0.2222222222222222,
                          "#7201a8"
                        ],
                        [
                          0.3333333333333333,
                          "#9c179e"
                        ],
                        [
                          0.4444444444444444,
                          "#bd3786"
                        ],
                        [
                          0.5555555555555556,
                          "#d8576b"
                        ],
                        [
                          0.6666666666666666,
                          "#ed7953"
                        ],
                        [
                          0.7777777777777778,
                          "#fb9f3a"
                        ],
                        [
                          0.8888888888888888,
                          "#fdca26"
                        ],
                        [
                          1,
                          "#f0f921"
                        ]
                      ],
                      "sequentialminus": [
                        [
                          0,
                          "#0d0887"
                        ],
                        [
                          0.1111111111111111,
                          "#46039f"
                        ],
                        [
                          0.2222222222222222,
                          "#7201a8"
                        ],
                        [
                          0.3333333333333333,
                          "#9c179e"
                        ],
                        [
                          0.4444444444444444,
                          "#bd3786"
                        ],
                        [
                          0.5555555555555556,
                          "#d8576b"
                        ],
                        [
                          0.6666666666666666,
                          "#ed7953"
                        ],
                        [
                          0.7777777777777778,
                          "#fb9f3a"
                        ],
                        [
                          0.8888888888888888,
                          "#fdca26"
                        ],
                        [
                          1,
                          "#f0f921"
                        ]
                      ]
                    },
                    "colorway": [
                      "#636efa",
                      "#EF553B",
                      "#00cc96",
                      "#ab63fa",
                      "#FFA15A",
                      "#19d3f3",
                      "#FF6692",
                      "#B6E880",
                      "#FF97FF",
                      "#FECB52"
                    ],
                    "font": {
                      "color": "#2a3f5f"
                    },
                    "geo": {
                      "bgcolor": "white",
                      "lakecolor": "white",
                      "landcolor": "#E5ECF6",
                      "showlakes": true,
                      "showland": true,
                      "subunitcolor": "white"
                    },
                    "hoverlabel": {
                      "align": "left"
                    },
                    "hovermode": "closest",
                    "mapbox": {
                      "style": "light"
                    },
                    "paper_bgcolor": "white",
                    "plot_bgcolor": "#E5ECF6",
                    "polar": {
                      "angularaxis": {
                        "gridcolor": "white",
                        "linecolor": "white",
                        "ticks": ""
                      },
                      "bgcolor": "#E5ECF6",
                      "radialaxis": {
                        "gridcolor": "white",
                        "linecolor": "white",
                        "ticks": ""
                      }
                    },
                    "scene": {
                      "xaxis": {
                        "backgroundcolor": "#E5ECF6",
                        "gridcolor": "white",
                        "gridwidth": 2,
                        "linecolor": "white",
                        "showbackground": true,
                        "ticks": "",
                        "zerolinecolor": "white"
                      },
                      "yaxis": {
                        "backgroundcolor": "#E5ECF6",
                        "gridcolor": "white",
                        "gridwidth": 2,
                        "linecolor": "white",
                        "showbackground": true,
                        "ticks": "",
                        "zerolinecolor": "white"
                      },
                      "zaxis": {
                        "backgroundcolor": "#E5ECF6",
                        "gridcolor": "white",
                        "gridwidth": 2,
                        "linecolor": "white",
                        "showbackground": true,
                        "ticks": "",
                        "zerolinecolor": "white"
                      }
                    },
                    "shapedefaults": {
                      "line": {
                        "color": "#2a3f5f"
                      }
                    },
                    "ternary": {
                      "aaxis": {
                        "gridcolor": "white",
                        "linecolor": "white",
                        "ticks": ""
                      },
                      "baxis": {
                        "gridcolor": "white",
                        "linecolor": "white",
                        "ticks": ""
                      },
                      "bgcolor": "#E5ECF6",
                      "caxis": {
                        "gridcolor": "white",
                        "linecolor": "white",
                        "ticks": ""
                      }
                    },
                    "title": {
                      "x": 0.05
                    },
                    "xaxis": {
                      "automargin": true,
                      "gridcolor": "white",
                      "linecolor": "white",
                      "ticks": "",
                      "title": {
                        "standoff": 15
                      },
                      "zerolinecolor": "white",
                      "zerolinewidth": 2
                    },
                    "yaxis": {
                      "automargin": true,
                      "gridcolor": "white",
                      "linecolor": "white",
                      "ticks": "",
                      "title": {
                        "standoff": 15
                      },
                      "zerolinecolor": "white",
                      "zerolinewidth": 2
                    }
                  }
                },
                "width": 950
              }
            }
          },
          "metadata": {}
        }
      ]
    },
    {
      "cell_type": "code",
      "metadata": {
        "colab": {
          "base_uri": "https://localhost:8080/",
          "height": 389
        },
        "id": "JLVxG0WZ71Wa",
        "outputId": "c4981b80-9397-4aa4-9b2e-639eca104b0a"
      },
      "source": [
        "def plot_country_trade(cowcode):\n",
        "    country_name = country_codes.loc[cowcode]['StateNme']\n",
        "    trade_df = (national_trade_data[national_trade_data['ccode']==cowcode]\n",
        "        .copy()\n",
        "        .dropna()\n",
        "        .rename(columns={'exports_growth':'Export', 'imports_growth':'Import'})\n",
        "    )\n",
        "    war_df = inter_war[inter_war['ccode']==cowcode]\n",
        "\n",
        "    fig = px.line(\n",
        "        trade_df, x=\"year\", \n",
        "        # y=[\"exports_growth\", \"imports_growth\"], \n",
        "        y=['Export', 'Import'],\n",
        "        width=FIGURE_WIDTH, \n",
        "        height=FIGURE_HEIGHT\n",
        "    )\n",
        "\n",
        "    fig.add_trace(go.Scatter(\n",
        "        x=war_df['StartYear1'],\n",
        "        y=[-90]*len(war_df),\n",
        "        mode='markers',\n",
        "        text=war_df['WarName'], \n",
        "        marker_symbol='star',\n",
        "        marker_line_color=\"rgba(255,0,0,1)\", \n",
        "        marker_color=\"rgba(255,0,0,0.25)\",\n",
        "        marker_line_width=2, \n",
        "        marker_size=10,\n",
        "        name='Wars',\n",
        "    ))\n",
        "    \n",
        "    fig.update_layout(\n",
        "        xaxis=dict(\n",
        "            rangeslider=dict(\n",
        "                visible=True\n",
        "            ),\n",
        "        ),\n",
        "        title=f\"Trade and war in {country_name}\",\n",
        "        xaxis_title=\"year\",\n",
        "        yaxis_title=\"% growth from last year\",\n",
        "        legend=custom_hlegend,\n",
        "        width=950,\n",
        "        height=600\n",
        "    )\n",
        "    fig.update_yaxes(range=[-100, 100])\n",
        "    fig.update_xaxes(range=[1870,2015])\n",
        "    fig.write_html(f'fig/country_trade_{cowcode}.html', include_plotlyjs='cdn', full_html=False)\n",
        "    fig.show()\n",
        "plot_country_trade(2)  \n",
        "plot_country_trade(200)  \n",
        "plot_country_trade(700)  "
      ],
      "execution_count": 13,
      "outputs": [
        {
          "output_type": "display_data",
          "data": {
            "application/vnd.plotly.v1+json": {
              "config": {
                "plotlyServerURL": "https://plot.ly"
              },
              "data": [
                {
                  "hovertemplate": "variable=Export<br>year=%{x}<br>value=%{y}<extra></extra>",
                  "legendgroup": "Export",
                  "line": {
                    "color": "#636efa",
                    "dash": "solid"
                  },
                  "mode": "lines",
                  "name": "Export",
                  "orientation": "v",
                  "showlegend": true,
                  "type": "scatter",
                  "x": [
                    1870,
                    1871,
                    1872,
                    1873,
                    1874,
                    1875,
                    1876,
                    1877,
                    1878,
                    1879,
                    1880,
                    1881,
                    1882,
                    1883,
                    1884,
                    1885,
                    1886,
                    1887,
                    1888,
                    1889,
                    1890,
                    1891,
                    1892,
                    1893,
                    1894,
                    1895,
                    1896,
                    1897,
                    1898,
                    1899,
                    1900,
                    1901,
                    1902,
                    1903,
                    1904,
                    1905,
                    1906,
                    1907,
                    1908,
                    1909,
                    1910,
                    1911,
                    1912,
                    1913,
                    1914,
                    1915,
                    1916,
                    1917,
                    1918,
                    1919,
                    1920,
                    1921,
                    1922,
                    1923,
                    1924,
                    1925,
                    1926,
                    1927,
                    1928,
                    1929,
                    1930,
                    1931,
                    1932,
                    1933,
                    1934,
                    1935,
                    1936,
                    1937,
                    1938,
                    1939,
                    1940,
                    1941,
                    1942,
                    1943,
                    1944,
                    1945,
                    1946,
                    1947,
                    1948,
                    1949,
                    1950,
                    1951,
                    1952,
                    1953,
                    1954,
                    1955,
                    1956,
                    1957,
                    1958,
                    1959,
                    1960,
                    1961,
                    1962,
                    1963,
                    1964,
                    1965,
                    1966,
                    1967,
                    1968,
                    1969,
                    1970,
                    1971,
                    1972,
                    1973,
                    1974,
                    1975,
                    1976,
                    1977,
                    1978,
                    1979,
                    1980,
                    1981,
                    1982,
                    1983,
                    1984,
                    1985,
                    1986,
                    1987,
                    1988,
                    1989,
                    1990,
                    1991,
                    1992,
                    1993,
                    1994,
                    1995,
                    1996,
                    1997,
                    1998,
                    1999,
                    2000,
                    2001,
                    2002,
                    2003,
                    2004,
                    2005,
                    2006,
                    2007,
                    2008,
                    2009,
                    2010,
                    2011,
                    2012,
                    2013,
                    2014
                  ],
                  "xaxis": "x",
                  "y": [
                    0,
                    13.636363636363647,
                    -0.21052631578947212,
                    32.191988788073566,
                    -1.2113226400297439,
                    -11.945073092311166,
                    3.6583133105934085,
                    11.858407079646028,
                    13.924050632911399,
                    1.388888888888884,
                    14.469863682577056,
                    9.976903010906035,
                    -16.430903155603914,
                    9.505208333333325,
                    -8.799048751486326,
                    -5.25684580498289,
                    -2.2953697423761743,
                    4.507042253521121,
                    -2.425876010781669,
                    7.596685082872923,
                    8.509624907232837,
                    7.3004558881283765,
                    17.19955898566703,
                    -16.36876763875823,
                    5.961754780652417,
                    -8.36517917122811,
                    9.36051745254025,
                    17.902542372881356,
                    15.543575920934405,
                    -0.2332814930015581,
                    13.831641538386585,
                    6.2678910419248,
                    -7.731958762886593,
                    2.2346368715083775,
                    3.1420765027322384,
                    15.487416248447893,
                    3.792736527244922,
                    7.07182320441988,
                    -0.9803921568627416,
                    -10.422094841063057,
                    19.215827129690233,
                    3.1561654345387824,
                    7.332071901608317,
                    9.475981038590797,
                    -2.576882118589552,
                    16.528925619834702,
                    96.95035460992906,
                    13.755851638458761,
                    1.3295346628680038,
                    27.444548578569194,
                    0.845811565449206,
                    -44.85908343285286,
                    -14.150319594445671,
                    8.831835686777922,
                    10.898796886058037,
                    6.551797489895761,
                    -2.156118985825517,
                    0.8161599673536024,
                    5.545436146529048,
                    2.0901246404602114,
                    -27.817430503380912,
                    -36.221701795472285,
                    -33.700530395756836,
                    4.246153846153855,
                    26.859504132231415,
                    6.23545835272219,
                    8.103372755146744,
                    36.183144246353315,
                    -7.944064266587326,
                    3.167420814479649,
                    26.096491228070185,
                    28.024844720496887,
                    56.821269163594025,
                    60.82168048508847,
                    10.695598645737148,
                    -31.203948283052974,
                    -1.2326967768010455,
                    57.22762148337597,
                    -18.862645585269043,
                    -4.410585404971934,
                    -14.261744966442958,
                    45.98825831702544,
                    0.20107238605897582,
                    2.5418060200668835,
                    -4.174820613176777,
                    4.901293396868622,
                    22.452952628163537,
                    9.167991520932706,
                    -13.39805825242718,
                    -1.5695067264574036,
                    16.947608200455576,
                    2.064666926373193,
                    3.1345419847328193,
                    7.674515427672657,
                    13.786733115655615,
                    3.3634132527845972,
                    11.066708552809423,
                    3.8118228998796244,
                    9.514516353866998,
                    9.825385621217553,
                    13.849436308081353,
                    2.13503370984085,
                    12.844153078745757,
                    43.39510906441084,
                    38.03493406988774,
                    9.226709343848484,
                    6.880331444414622,
                    5.4242830447500445,
                    18.51372988188913,
                    26.599077033686115,
                    21.339690476478168,
                    5.878087497561424,
                    -9.17518263153575,
                    -5.548887370111599,
                    8.674647879603059,
                    -2.1710489811285205,
                    1.929357213738192,
                    16.346510689979787,
                    26.266872729716173,
                    13.905825737498724,
                    8.032166266017171,
                    7.315275704164348,
                    6.05152787519756,
                    4.147984994609799,
                    9.988674590089698,
                    13.869700412872588,
                    6.768533622041484,
                    10.375629209138882,
                    -1.045279650294817,
                    1.5091792743866517,
                    11.77695183430627,
                    -5.325515821602855,
                    -5.166902408395879,
                    4.40486078274851,
                    12.813565785174319,
                    10.748504350701449,
                    14.677933867764947,
                    12.112113318680628,
                    11.82154915603677,
                    -18.705135024227324,
                    20.87111404632134,
                    15.893870321260618,
                    4.346320455091646,
                    2.1977870466944216,
                    2.824299059341273
                  ],
                  "yaxis": "y"
                },
                {
                  "hovertemplate": "variable=Import<br>year=%{x}<br>value=%{y}<extra></extra>",
                  "legendgroup": "Import",
                  "line": {
                    "color": "#EF553B",
                    "dash": "solid"
                  },
                  "mode": "lines",
                  "name": "Import",
                  "orientation": "v",
                  "showlegend": true,
                  "type": "scatter",
                  "x": [
                    1870,
                    1871,
                    1872,
                    1873,
                    1874,
                    1875,
                    1876,
                    1877,
                    1878,
                    1879,
                    1880,
                    1881,
                    1882,
                    1883,
                    1884,
                    1885,
                    1886,
                    1887,
                    1888,
                    1889,
                    1890,
                    1891,
                    1892,
                    1893,
                    1894,
                    1895,
                    1896,
                    1897,
                    1898,
                    1899,
                    1900,
                    1901,
                    1902,
                    1903,
                    1904,
                    1905,
                    1906,
                    1907,
                    1908,
                    1909,
                    1910,
                    1911,
                    1912,
                    1913,
                    1914,
                    1915,
                    1916,
                    1917,
                    1918,
                    1919,
                    1920,
                    1921,
                    1922,
                    1923,
                    1924,
                    1925,
                    1926,
                    1927,
                    1928,
                    1929,
                    1930,
                    1931,
                    1932,
                    1933,
                    1934,
                    1935,
                    1936,
                    1937,
                    1938,
                    1939,
                    1940,
                    1941,
                    1942,
                    1943,
                    1944,
                    1945,
                    1946,
                    1947,
                    1948,
                    1949,
                    1950,
                    1951,
                    1952,
                    1953,
                    1954,
                    1955,
                    1956,
                    1957,
                    1958,
                    1959,
                    1960,
                    1961,
                    1962,
                    1963,
                    1964,
                    1965,
                    1966,
                    1967,
                    1968,
                    1969,
                    1970,
                    1971,
                    1972,
                    1973,
                    1974,
                    1975,
                    1976,
                    1977,
                    1978,
                    1979,
                    1980,
                    1981,
                    1982,
                    1983,
                    1984,
                    1985,
                    1986,
                    1987,
                    1988,
                    1989,
                    1990,
                    1991,
                    1992,
                    1993,
                    1994,
                    1995,
                    1996,
                    1997,
                    1998,
                    1999,
                    2000,
                    2001,
                    2002,
                    2003,
                    2004,
                    2005,
                    2006,
                    2007,
                    2008,
                    2009,
                    2010,
                    2011,
                    2012,
                    2013,
                    2014
                  ],
                  "xaxis": "x",
                  "y": [
                    0,
                    18.666666666666675,
                    18.352059925093634,
                    -45.88132930707328,
                    68.40628075190503,
                    -7.465277777777779,
                    -12.007504690431524,
                    -0.6396588486140775,
                    -2.7896995708154515,
                    1.7660044150110465,
                    44.89154277809788,
                    -2.088481465991421,
                    12.079510703363905,
                    0.13642564802183177,
                    -6.948228882833785,
                    -15.443628179904834,
                    13.069673416691963,
                    8.575803981623276,
                    4.231311706629048,
                    3.247631935047357,
                    3.4482303484395516,
                    9.336002669336008,
                    -1.8539976825028948,
                    4.958677685950419,
                    -24.85939257592801,
                    16.72454651244386,
                    3.7551980707216215,
                    -1.606922126081578,
                    -18.718592964824122,
                    12.519319938176189,
                    13.07279985029619,
                    4.352687517002707,
                    8.381839348079168,
                    12.781954887218049,
                    -2.9523809523809508,
                    20.368994955225705,
                    3.6231361925481487,
                    14.712824547600324,
                    -15.775034293552814,
                    7.9804560260586355,
                    15.174960083191923,
                    2.9976054645093564,
                    8.073744437380803,
                    5.446468577665486,
                    7.330735789294218,
                    -11.486486486486491,
                    42.337052260716376,
                    23.96864686468647,
                    3.3277870216306127,
                    28.599033816425123,
                    32.193337852961434,
                    -51.27385138303402,
                    23.794712286158635,
                    21.419597989949747,
                    -4.707708225556129,
                    16.503800217155273,
                    4.869524697110905,
                    -5.798711397467226,
                    -1.910377358490567,
                    7.309449386871836,
                    -31.41384718799014,
                    -30.774256778830445,
                    -36.6682397357244,
                    12.518628912071538,
                    16.42384105960264,
                    16.4391353811149,
                    27.259404005862244,
                    21.91938579654511,
                    -38.287153652392945,
                    22.60204081632653,
                    11.693716188098202,
                    26.378539493293584,
                    -17.54127358490566,
                    21.880586342509822,
                    15.928424757993543,
                    5.921052631578938,
                    19.44577161968466,
                    16.480000000000004,
                    32.383241758241766,
                    -7.133592736705574,
                    27.6536312849162,
                    24.726477024070025,
                    -1.5789473684210575,
                    2.1390374331550888,
                    -6.893542757417103,
                    11.059044048734767,
                    12.57383966244725,
                    3.9730134932533634,
                    4.470079307858699,
                    15.804002760524494,
                    -3.6311084624553014,
                    -2.672116853321127,
                    11.337094786067393,
                    4.873622516820841,
                    9.270333951863474,
                    14.120166330519668,
                    21.030812667187405,
                    3.6740183087978107,
                    23.001777125508195,
                    8.596963947942072,
                    11.170848423151924,
                    14.167847398681488,
                    21.73147811959606,
                    25.198591240752922,
                    48.20624362353054,
                    -4.169565225288386,
                    25.30870632385971,
                    21.34201033071914,
                    15.971015956057744,
                    19.527290257153297,
                    15.598046281879085,
                    6.372283232295262,
                    -6.781828925467526,
                    5.887999158997359,
                    26.41152267338114,
                    5.993159667061976,
                    7.03488439605211,
                    9.554306957444435,
                    8.410877369527746,
                    7.297537479567073,
                    4.797299184145087,
                    -1.4890953633002746,
                    8.5002798831461,
                    9.119541639696326,
                    14.321823667337696,
                    11.854574677495865,
                    6.064184216430446,
                    9.886746220441678,
                    5.1162629743924715,
                    10.986626238722398,
                    18.09902497226945,
                    -4.690263228325298,
                    1.884786028059815,
                    8.557504448548038,
                    16.866525729682145,
                    13.572617055886038,
                    10.777442113611823,
                    5.113472265765218,
                    7.366050129284041,
                    -25.966609400849283,
                    22.734950866175517,
                    15.083690223011349,
                    3.115749916687993,
                    -0.2038876741147333,
                    0.617685886940933
                  ],
                  "yaxis": "y"
                },
                {
                  "marker": {
                    "color": "rgba(255,0,0,0.25)",
                    "line": {
                      "color": "rgba(255,0,0,1)",
                      "width": 2
                    },
                    "size": 10,
                    "symbol": "star"
                  },
                  "mode": "markers",
                  "name": "Wars",
                  "text": [
                    "Mexican-American",
                    "Spanish-American",
                    "Boxer Rebellion",
                    "World War I",
                    "World War II",
                    "Korean",
                    "Vietnam War, Phase 2",
                    "Second Laotian, Phase 2",
                    "Communist Coalition",
                    "Gulf War",
                    "War for Kosovo",
                    "Invasion of Afghanistan",
                    "Invasion of Iraq"
                  ],
                  "type": "scatter",
                  "x": [
                    1846,
                    1898,
                    1900,
                    1917,
                    1941,
                    1950,
                    1965,
                    1968,
                    1970,
                    1991,
                    1999,
                    2001,
                    2003
                  ],
                  "y": [
                    -90,
                    -90,
                    -90,
                    -90,
                    -90,
                    -90,
                    -90,
                    -90,
                    -90,
                    -90,
                    -90,
                    -90,
                    -90
                  ]
                }
              ],
              "layout": {
                "height": 600,
                "legend": {
                  "orientation": "h",
                  "title": {
                    "text": "variable"
                  },
                  "tracegroupgap": 0,
                  "x": 1,
                  "xanchor": "right",
                  "y": 1.02,
                  "yanchor": "bottom"
                },
                "margin": {
                  "t": 60
                },
                "template": {
                  "data": {
                    "bar": [
                      {
                        "error_x": {
                          "color": "#2a3f5f"
                        },
                        "error_y": {
                          "color": "#2a3f5f"
                        },
                        "marker": {
                          "line": {
                            "color": "#E5ECF6",
                            "width": 0.5
                          }
                        },
                        "type": "bar"
                      }
                    ],
                    "barpolar": [
                      {
                        "marker": {
                          "line": {
                            "color": "#E5ECF6",
                            "width": 0.5
                          }
                        },
                        "type": "barpolar"
                      }
                    ],
                    "carpet": [
                      {
                        "aaxis": {
                          "endlinecolor": "#2a3f5f",
                          "gridcolor": "white",
                          "linecolor": "white",
                          "minorgridcolor": "white",
                          "startlinecolor": "#2a3f5f"
                        },
                        "baxis": {
                          "endlinecolor": "#2a3f5f",
                          "gridcolor": "white",
                          "linecolor": "white",
                          "minorgridcolor": "white",
                          "startlinecolor": "#2a3f5f"
                        },
                        "type": "carpet"
                      }
                    ],
                    "choropleth": [
                      {
                        "colorbar": {
                          "outlinewidth": 0,
                          "ticks": ""
                        },
                        "type": "choropleth"
                      }
                    ],
                    "contour": [
                      {
                        "colorbar": {
                          "outlinewidth": 0,
                          "ticks": ""
                        },
                        "colorscale": [
                          [
                            0,
                            "#0d0887"
                          ],
                          [
                            0.1111111111111111,
                            "#46039f"
                          ],
                          [
                            0.2222222222222222,
                            "#7201a8"
                          ],
                          [
                            0.3333333333333333,
                            "#9c179e"
                          ],
                          [
                            0.4444444444444444,
                            "#bd3786"
                          ],
                          [
                            0.5555555555555556,
                            "#d8576b"
                          ],
                          [
                            0.6666666666666666,
                            "#ed7953"
                          ],
                          [
                            0.7777777777777778,
                            "#fb9f3a"
                          ],
                          [
                            0.8888888888888888,
                            "#fdca26"
                          ],
                          [
                            1,
                            "#f0f921"
                          ]
                        ],
                        "type": "contour"
                      }
                    ],
                    "contourcarpet": [
                      {
                        "colorbar": {
                          "outlinewidth": 0,
                          "ticks": ""
                        },
                        "type": "contourcarpet"
                      }
                    ],
                    "heatmap": [
                      {
                        "colorbar": {
                          "outlinewidth": 0,
                          "ticks": ""
                        },
                        "colorscale": [
                          [
                            0,
                            "#0d0887"
                          ],
                          [
                            0.1111111111111111,
                            "#46039f"
                          ],
                          [
                            0.2222222222222222,
                            "#7201a8"
                          ],
                          [
                            0.3333333333333333,
                            "#9c179e"
                          ],
                          [
                            0.4444444444444444,
                            "#bd3786"
                          ],
                          [
                            0.5555555555555556,
                            "#d8576b"
                          ],
                          [
                            0.6666666666666666,
                            "#ed7953"
                          ],
                          [
                            0.7777777777777778,
                            "#fb9f3a"
                          ],
                          [
                            0.8888888888888888,
                            "#fdca26"
                          ],
                          [
                            1,
                            "#f0f921"
                          ]
                        ],
                        "type": "heatmap"
                      }
                    ],
                    "heatmapgl": [
                      {
                        "colorbar": {
                          "outlinewidth": 0,
                          "ticks": ""
                        },
                        "colorscale": [
                          [
                            0,
                            "#0d0887"
                          ],
                          [
                            0.1111111111111111,
                            "#46039f"
                          ],
                          [
                            0.2222222222222222,
                            "#7201a8"
                          ],
                          [
                            0.3333333333333333,
                            "#9c179e"
                          ],
                          [
                            0.4444444444444444,
                            "#bd3786"
                          ],
                          [
                            0.5555555555555556,
                            "#d8576b"
                          ],
                          [
                            0.6666666666666666,
                            "#ed7953"
                          ],
                          [
                            0.7777777777777778,
                            "#fb9f3a"
                          ],
                          [
                            0.8888888888888888,
                            "#fdca26"
                          ],
                          [
                            1,
                            "#f0f921"
                          ]
                        ],
                        "type": "heatmapgl"
                      }
                    ],
                    "histogram": [
                      {
                        "marker": {
                          "colorbar": {
                            "outlinewidth": 0,
                            "ticks": ""
                          }
                        },
                        "type": "histogram"
                      }
                    ],
                    "histogram2d": [
                      {
                        "colorbar": {
                          "outlinewidth": 0,
                          "ticks": ""
                        },
                        "colorscale": [
                          [
                            0,
                            "#0d0887"
                          ],
                          [
                            0.1111111111111111,
                            "#46039f"
                          ],
                          [
                            0.2222222222222222,
                            "#7201a8"
                          ],
                          [
                            0.3333333333333333,
                            "#9c179e"
                          ],
                          [
                            0.4444444444444444,
                            "#bd3786"
                          ],
                          [
                            0.5555555555555556,
                            "#d8576b"
                          ],
                          [
                            0.6666666666666666,
                            "#ed7953"
                          ],
                          [
                            0.7777777777777778,
                            "#fb9f3a"
                          ],
                          [
                            0.8888888888888888,
                            "#fdca26"
                          ],
                          [
                            1,
                            "#f0f921"
                          ]
                        ],
                        "type": "histogram2d"
                      }
                    ],
                    "histogram2dcontour": [
                      {
                        "colorbar": {
                          "outlinewidth": 0,
                          "ticks": ""
                        },
                        "colorscale": [
                          [
                            0,
                            "#0d0887"
                          ],
                          [
                            0.1111111111111111,
                            "#46039f"
                          ],
                          [
                            0.2222222222222222,
                            "#7201a8"
                          ],
                          [
                            0.3333333333333333,
                            "#9c179e"
                          ],
                          [
                            0.4444444444444444,
                            "#bd3786"
                          ],
                          [
                            0.5555555555555556,
                            "#d8576b"
                          ],
                          [
                            0.6666666666666666,
                            "#ed7953"
                          ],
                          [
                            0.7777777777777778,
                            "#fb9f3a"
                          ],
                          [
                            0.8888888888888888,
                            "#fdca26"
                          ],
                          [
                            1,
                            "#f0f921"
                          ]
                        ],
                        "type": "histogram2dcontour"
                      }
                    ],
                    "mesh3d": [
                      {
                        "colorbar": {
                          "outlinewidth": 0,
                          "ticks": ""
                        },
                        "type": "mesh3d"
                      }
                    ],
                    "parcoords": [
                      {
                        "line": {
                          "colorbar": {
                            "outlinewidth": 0,
                            "ticks": ""
                          }
                        },
                        "type": "parcoords"
                      }
                    ],
                    "pie": [
                      {
                        "automargin": true,
                        "type": "pie"
                      }
                    ],
                    "scatter": [
                      {
                        "marker": {
                          "colorbar": {
                            "outlinewidth": 0,
                            "ticks": ""
                          }
                        },
                        "type": "scatter"
                      }
                    ],
                    "scatter3d": [
                      {
                        "line": {
                          "colorbar": {
                            "outlinewidth": 0,
                            "ticks": ""
                          }
                        },
                        "marker": {
                          "colorbar": {
                            "outlinewidth": 0,
                            "ticks": ""
                          }
                        },
                        "type": "scatter3d"
                      }
                    ],
                    "scattercarpet": [
                      {
                        "marker": {
                          "colorbar": {
                            "outlinewidth": 0,
                            "ticks": ""
                          }
                        },
                        "type": "scattercarpet"
                      }
                    ],
                    "scattergeo": [
                      {
                        "marker": {
                          "colorbar": {
                            "outlinewidth": 0,
                            "ticks": ""
                          }
                        },
                        "type": "scattergeo"
                      }
                    ],
                    "scattergl": [
                      {
                        "marker": {
                          "colorbar": {
                            "outlinewidth": 0,
                            "ticks": ""
                          }
                        },
                        "type": "scattergl"
                      }
                    ],
                    "scattermapbox": [
                      {
                        "marker": {
                          "colorbar": {
                            "outlinewidth": 0,
                            "ticks": ""
                          }
                        },
                        "type": "scattermapbox"
                      }
                    ],
                    "scatterpolar": [
                      {
                        "marker": {
                          "colorbar": {
                            "outlinewidth": 0,
                            "ticks": ""
                          }
                        },
                        "type": "scatterpolar"
                      }
                    ],
                    "scatterpolargl": [
                      {
                        "marker": {
                          "colorbar": {
                            "outlinewidth": 0,
                            "ticks": ""
                          }
                        },
                        "type": "scatterpolargl"
                      }
                    ],
                    "scatterternary": [
                      {
                        "marker": {
                          "colorbar": {
                            "outlinewidth": 0,
                            "ticks": ""
                          }
                        },
                        "type": "scatterternary"
                      }
                    ],
                    "surface": [
                      {
                        "colorbar": {
                          "outlinewidth": 0,
                          "ticks": ""
                        },
                        "colorscale": [
                          [
                            0,
                            "#0d0887"
                          ],
                          [
                            0.1111111111111111,
                            "#46039f"
                          ],
                          [
                            0.2222222222222222,
                            "#7201a8"
                          ],
                          [
                            0.3333333333333333,
                            "#9c179e"
                          ],
                          [
                            0.4444444444444444,
                            "#bd3786"
                          ],
                          [
                            0.5555555555555556,
                            "#d8576b"
                          ],
                          [
                            0.6666666666666666,
                            "#ed7953"
                          ],
                          [
                            0.7777777777777778,
                            "#fb9f3a"
                          ],
                          [
                            0.8888888888888888,
                            "#fdca26"
                          ],
                          [
                            1,
                            "#f0f921"
                          ]
                        ],
                        "type": "surface"
                      }
                    ],
                    "table": [
                      {
                        "cells": {
                          "fill": {
                            "color": "#EBF0F8"
                          },
                          "line": {
                            "color": "white"
                          }
                        },
                        "header": {
                          "fill": {
                            "color": "#C8D4E3"
                          },
                          "line": {
                            "color": "white"
                          }
                        },
                        "type": "table"
                      }
                    ]
                  },
                  "layout": {
                    "annotationdefaults": {
                      "arrowcolor": "#2a3f5f",
                      "arrowhead": 0,
                      "arrowwidth": 1
                    },
                    "autotypenumbers": "strict",
                    "coloraxis": {
                      "colorbar": {
                        "outlinewidth": 0,
                        "ticks": ""
                      }
                    },
                    "colorscale": {
                      "diverging": [
                        [
                          0,
                          "#8e0152"
                        ],
                        [
                          0.1,
                          "#c51b7d"
                        ],
                        [
                          0.2,
                          "#de77ae"
                        ],
                        [
                          0.3,
                          "#f1b6da"
                        ],
                        [
                          0.4,
                          "#fde0ef"
                        ],
                        [
                          0.5,
                          "#f7f7f7"
                        ],
                        [
                          0.6,
                          "#e6f5d0"
                        ],
                        [
                          0.7,
                          "#b8e186"
                        ],
                        [
                          0.8,
                          "#7fbc41"
                        ],
                        [
                          0.9,
                          "#4d9221"
                        ],
                        [
                          1,
                          "#276419"
                        ]
                      ],
                      "sequential": [
                        [
                          0,
                          "#0d0887"
                        ],
                        [
                          0.1111111111111111,
                          "#46039f"
                        ],
                        [
                          0.2222222222222222,
                          "#7201a8"
                        ],
                        [
                          0.3333333333333333,
                          "#9c179e"
                        ],
                        [
                          0.4444444444444444,
                          "#bd3786"
                        ],
                        [
                          0.5555555555555556,
                          "#d8576b"
                        ],
                        [
                          0.6666666666666666,
                          "#ed7953"
                        ],
                        [
                          0.7777777777777778,
                          "#fb9f3a"
                        ],
                        [
                          0.8888888888888888,
                          "#fdca26"
                        ],
                        [
                          1,
                          "#f0f921"
                        ]
                      ],
                      "sequentialminus": [
                        [
                          0,
                          "#0d0887"
                        ],
                        [
                          0.1111111111111111,
                          "#46039f"
                        ],
                        [
                          0.2222222222222222,
                          "#7201a8"
                        ],
                        [
                          0.3333333333333333,
                          "#9c179e"
                        ],
                        [
                          0.4444444444444444,
                          "#bd3786"
                        ],
                        [
                          0.5555555555555556,
                          "#d8576b"
                        ],
                        [
                          0.6666666666666666,
                          "#ed7953"
                        ],
                        [
                          0.7777777777777778,
                          "#fb9f3a"
                        ],
                        [
                          0.8888888888888888,
                          "#fdca26"
                        ],
                        [
                          1,
                          "#f0f921"
                        ]
                      ]
                    },
                    "colorway": [
                      "#636efa",
                      "#EF553B",
                      "#00cc96",
                      "#ab63fa",
                      "#FFA15A",
                      "#19d3f3",
                      "#FF6692",
                      "#B6E880",
                      "#FF97FF",
                      "#FECB52"
                    ],
                    "font": {
                      "color": "#2a3f5f"
                    },
                    "geo": {
                      "bgcolor": "white",
                      "lakecolor": "white",
                      "landcolor": "#E5ECF6",
                      "showlakes": true,
                      "showland": true,
                      "subunitcolor": "white"
                    },
                    "hoverlabel": {
                      "align": "left"
                    },
                    "hovermode": "closest",
                    "mapbox": {
                      "style": "light"
                    },
                    "paper_bgcolor": "white",
                    "plot_bgcolor": "#E5ECF6",
                    "polar": {
                      "angularaxis": {
                        "gridcolor": "white",
                        "linecolor": "white",
                        "ticks": ""
                      },
                      "bgcolor": "#E5ECF6",
                      "radialaxis": {
                        "gridcolor": "white",
                        "linecolor": "white",
                        "ticks": ""
                      }
                    },
                    "scene": {
                      "xaxis": {
                        "backgroundcolor": "#E5ECF6",
                        "gridcolor": "white",
                        "gridwidth": 2,
                        "linecolor": "white",
                        "showbackground": true,
                        "ticks": "",
                        "zerolinecolor": "white"
                      },
                      "yaxis": {
                        "backgroundcolor": "#E5ECF6",
                        "gridcolor": "white",
                        "gridwidth": 2,
                        "linecolor": "white",
                        "showbackground": true,
                        "ticks": "",
                        "zerolinecolor": "white"
                      },
                      "zaxis": {
                        "backgroundcolor": "#E5ECF6",
                        "gridcolor": "white",
                        "gridwidth": 2,
                        "linecolor": "white",
                        "showbackground": true,
                        "ticks": "",
                        "zerolinecolor": "white"
                      }
                    },
                    "shapedefaults": {
                      "line": {
                        "color": "#2a3f5f"
                      }
                    },
                    "ternary": {
                      "aaxis": {
                        "gridcolor": "white",
                        "linecolor": "white",
                        "ticks": ""
                      },
                      "baxis": {
                        "gridcolor": "white",
                        "linecolor": "white",
                        "ticks": ""
                      },
                      "bgcolor": "#E5ECF6",
                      "caxis": {
                        "gridcolor": "white",
                        "linecolor": "white",
                        "ticks": ""
                      }
                    },
                    "title": {
                      "x": 0.05
                    },
                    "xaxis": {
                      "automargin": true,
                      "gridcolor": "white",
                      "linecolor": "white",
                      "ticks": "",
                      "title": {
                        "standoff": 15
                      },
                      "zerolinecolor": "white",
                      "zerolinewidth": 2
                    },
                    "yaxis": {
                      "automargin": true,
                      "gridcolor": "white",
                      "linecolor": "white",
                      "ticks": "",
                      "title": {
                        "standoff": 15
                      },
                      "zerolinecolor": "white",
                      "zerolinewidth": 2
                    }
                  }
                },
                "title": {
                  "text": "Trade and war in United States of America"
                },
                "width": 950,
                "xaxis": {
                  "anchor": "y",
                  "domain": [
                    0,
                    1
                  ],
                  "range": [
                    1870,
                    2015
                  ],
                  "rangeslider": {
                    "visible": true
                  },
                  "title": {
                    "text": "year"
                  }
                },
                "yaxis": {
                  "anchor": "x",
                  "domain": [
                    0,
                    1
                  ],
                  "range": [
                    -100,
                    100
                  ],
                  "title": {
                    "text": "% growth from last year"
                  }
                }
              }
            }
          },
          "metadata": {}
        },
        {
          "output_type": "display_data",
          "data": {
            "application/vnd.plotly.v1+json": {
              "config": {
                "plotlyServerURL": "https://plot.ly"
              },
              "data": [
                {
                  "hovertemplate": "variable=Export<br>year=%{x}<br>value=%{y}<extra></extra>",
                  "legendgroup": "Export",
                  "line": {
                    "color": "#636efa",
                    "dash": "solid"
                  },
                  "mode": "lines",
                  "name": "Export",
                  "orientation": "v",
                  "showlegend": true,
                  "type": "scatter",
                  "x": [
                    1870,
                    1871,
                    1872,
                    1873,
                    1874,
                    1875,
                    1876,
                    1877,
                    1878,
                    1879,
                    1880,
                    1881,
                    1882,
                    1883,
                    1884,
                    1885,
                    1886,
                    1887,
                    1888,
                    1889,
                    1890,
                    1891,
                    1892,
                    1893,
                    1894,
                    1895,
                    1896,
                    1897,
                    1898,
                    1899,
                    1900,
                    1901,
                    1902,
                    1903,
                    1904,
                    1905,
                    1906,
                    1907,
                    1908,
                    1909,
                    1910,
                    1911,
                    1912,
                    1913,
                    1914,
                    1915,
                    1916,
                    1917,
                    1918,
                    1919,
                    1920,
                    1921,
                    1922,
                    1923,
                    1924,
                    1925,
                    1926,
                    1927,
                    1928,
                    1929,
                    1930,
                    1931,
                    1932,
                    1933,
                    1934,
                    1935,
                    1936,
                    1937,
                    1938,
                    1939,
                    1940,
                    1941,
                    1942,
                    1943,
                    1944,
                    1945,
                    1946,
                    1947,
                    1948,
                    1949,
                    1950,
                    1951,
                    1952,
                    1953,
                    1954,
                    1955,
                    1956,
                    1957,
                    1958,
                    1959,
                    1960,
                    1961,
                    1962,
                    1963,
                    1964,
                    1965,
                    1966,
                    1967,
                    1968,
                    1969,
                    1970,
                    1971,
                    1972,
                    1973,
                    1974,
                    1975,
                    1976,
                    1977,
                    1978,
                    1979,
                    1980,
                    1981,
                    1982,
                    1983,
                    1984,
                    1985,
                    1986,
                    1987,
                    1988,
                    1989,
                    1990,
                    1991,
                    1992,
                    1993,
                    1994,
                    1995,
                    1996,
                    1997,
                    1998,
                    1999,
                    2000,
                    2001,
                    2002,
                    2003,
                    2004,
                    2005,
                    2006,
                    2007,
                    2008,
                    2009,
                    2010,
                    2011,
                    2012,
                    2013,
                    2014
                  ],
                  "xaxis": "x",
                  "y": [
                    0,
                    11.5,
                    14.798206278026903,
                    -26.171875,
                    26.984126984126977,
                    -36.66666666666667,
                    32.236842105263165,
                    -0.995024875621886,
                    -3.015075376884424,
                    -0.5181347150259086,
                    44.99687194824218,
                    -15.946462594376332,
                    2.991452991452981,
                    -0.4149377593360981,
                    -2.9166666666666674,
                    13.30643944474248,
                    -19.31940544521512,
                    4.225352112676051,
                    5.855855855855863,
                    5.957446808510647,
                    6.024096385542177,
                    -6.439393939393945,
                    -8.097165991902832,
                    -3.964757709251099,
                    -0.917431192660545,
                    -27.77777777777778,
                    53.846153846153854,
                    -2.500000000000002,
                    -0.42735042735042583,
                    9.4420600858369,
                    -22.745098039215684,
                    42.131979695431475,
                    1.0714285714285676,
                    2.8268551236749095,
                    3.436426116838498,
                    -28.113287738787374,
                    73.76917039645335,
                    13.297872340425542,
                    -11.502347417840376,
                    0.2652519893899141,
                    -0.8616420200892483,
                    21.149696800665364,
                    7.268722466960353,
                    7.855031602926088,
                    -17.944461766173024,
                    -10.67285382830626,
                    25.170074066558445,
                    4.150197428215052,
                    -4.933587962264852,
                    48.25594567926805,
                    70.92217086265708,
                    -55.240293444253005,
                    20.946588977469172,
                    11.600525501841052,
                    -4.64826159520304,
                    11.052884502478655,
                    -17.958558420819635,
                    8.62858883979889,
                    2.2150370471423653,
                    0.4950010657851278,
                    -21.597370533994088,
                    -36.119786449187394,
                    -29.021518333098793,
                    0.8219194556758236,
                    64.2448375555031,
                    -0.5378751086749456,
                    5.733182679842019,
                    17.498203627097155,
                    -11.585967993042601,
                    -1.5850162631752318,
                    -18.373906334229716,
                    -13.89521448549651,
                    -26.984126984126988,
                    -13.043478260869568,
                    17.500000000000004,
                    59.57446808510638,
                    103.33333333333331,
                    24.80874743852459,
                    32.819610167893146,
                    3.164556962025311,
                    -7.208588957055218,
                    19.00826446280992,
                    0.4166666666666652,
                    -0.9681881051175623,
                    1.6759776536312776,
                    8.791208791208781,
                    9.97474747474747,
                    4.592422502870264,
                    0.8781558726673966,
                    4.896626768226331,
                    7.271784232365142,
                    4.412532637075706,
                    2.676595074694599,
                    7.6599045668978905,
                    4.832642118051189,
                    7.220095426100737,
                    8.968596495151203,
                    -1.8482922791728473,
                    6.942092314983239,
                    14.146811949324857,
                    10.468382470483473,
                    16.966076116842043,
                    9.329268292682924,
                    25.395054842907605,
                    26.960067038385937,
                    13.074007600547311,
                    2.1247362040321516,
                    22.811749808742434,
                    21.46026768053757,
                    27.26755573371613,
                    27.468502478113855,
                    -7.0932358982418675,
                    -5.183893019076214,
                    -5.493094572185231,
                    2.452731155480037,
                    7.839520111110643,
                    5.767278229470385,
                    22.551992238166505,
                    11.355407328743983,
                    5.695139141026151,
                    19.83773751599889,
                    -0.0695901930795717,
                    2.7211943169952013,
                    -5.170589300199646,
                    13.179051585678003,
                    17.384900992493858,
                    7.899462837978022,
                    8.228053095977494,
                    -4.066931914296735,
                    0.48984495601900324,
                    4.954228872629107,
                    -5.044432868309768,
                    2.6898912071473102,
                    10.93289056960558,
                    11.773883881022051,
                    15.561206451331323,
                    14.785354546005225,
                    -2.147229333032319,
                    6.539836756717565,
                    -24.8701681324316,
                    8.027551259378152,
                    21.991459793603973,
                    -7.725339248198349,
                    14.748224646860365,
                    -6.832133295118092
                  ],
                  "yaxis": "y"
                },
                {
                  "hovertemplate": "variable=Import<br>year=%{x}<br>value=%{y}<extra></extra>",
                  "legendgroup": "Import",
                  "line": {
                    "color": "#EF553B",
                    "dash": "solid"
                  },
                  "mode": "lines",
                  "name": "Import",
                  "orientation": "v",
                  "showlegend": true,
                  "type": "scatter",
                  "x": [
                    1870,
                    1871,
                    1872,
                    1873,
                    1874,
                    1875,
                    1876,
                    1877,
                    1878,
                    1879,
                    1880,
                    1881,
                    1882,
                    1883,
                    1884,
                    1885,
                    1886,
                    1887,
                    1888,
                    1889,
                    1890,
                    1891,
                    1892,
                    1893,
                    1894,
                    1895,
                    1896,
                    1897,
                    1898,
                    1899,
                    1900,
                    1901,
                    1902,
                    1903,
                    1904,
                    1905,
                    1906,
                    1907,
                    1908,
                    1909,
                    1910,
                    1911,
                    1912,
                    1913,
                    1914,
                    1915,
                    1916,
                    1917,
                    1918,
                    1919,
                    1920,
                    1921,
                    1922,
                    1923,
                    1924,
                    1925,
                    1926,
                    1927,
                    1928,
                    1929,
                    1930,
                    1931,
                    1932,
                    1933,
                    1934,
                    1935,
                    1936,
                    1937,
                    1938,
                    1939,
                    1940,
                    1941,
                    1942,
                    1943,
                    1944,
                    1945,
                    1946,
                    1947,
                    1948,
                    1949,
                    1950,
                    1951,
                    1952,
                    1953,
                    1954,
                    1955,
                    1956,
                    1957,
                    1958,
                    1959,
                    1960,
                    1961,
                    1962,
                    1963,
                    1964,
                    1965,
                    1966,
                    1967,
                    1968,
                    1969,
                    1970,
                    1971,
                    1972,
                    1973,
                    1974,
                    1975,
                    1976,
                    1977,
                    1978,
                    1979,
                    1980,
                    1981,
                    1982,
                    1983,
                    1984,
                    1985,
                    1986,
                    1987,
                    1988,
                    1989,
                    1990,
                    1991,
                    1992,
                    1993,
                    1994,
                    1995,
                    1996,
                    1997,
                    1998,
                    1999,
                    2000,
                    2001,
                    2002,
                    2003,
                    2004,
                    2005,
                    2006,
                    2007,
                    2008,
                    2009,
                    2010,
                    2011,
                    2012,
                    2013,
                    2014
                  ],
                  "xaxis": "x",
                  "y": [
                    0,
                    9.24092409240924,
                    7.25075528700907,
                    -18.309859154929576,
                    27.586206896551737,
                    -21.62162162162162,
                    29.31034482758621,
                    5.066666666666664,
                    -6.345177664974622,
                    -1.6260162601625994,
                    -14.77906282283058,
                    28.33277221207573,
                    4.030226700251882,
                    3.3898305084745672,
                    -8.66510538641686,
                    -7.543588491586506,
                    -2.9341629429094684,
                    3.4285714285714253,
                    7.182320441988943,
                    10.309278350515472,
                    -1.6355140186915862,
                    3.325415676959631,
                    -2.5287356321839094,
                    -4.481132075471694,
                    0.7407407407407307,
                    -21.323529411764707,
                    37.69470404984423,
                    2.036199095022617,
                    4.434589800443467,
                    2.972399150743099,
                    -14.639175257731962,
                    26.086956521739136,
                    1.1494252873563315,
                    2.840909090909083,
                    1.4732965009208066,
                    -20.662254707350268,
                    39.08238402690003,
                    6.25,
                    -8.204334365325073,
                    5.396290050590213,
                    -18.750882812500002,
                    33.90914728208105,
                    9.558823529411775,
                    -11.521071466023491,
                    5.739353459664942,
                    22.238163558106173,
                    6.080935482687799,
                    12.11800959696423,
                    23.684211287141864,
                    14.859710429991658,
                    7.986413362016576,
                    -51.519162084223154,
                    8.440987715621917,
                    13.967909058239325,
                    6.148296430980249,
                    14.280771411749015,
                    -4.012856282632171,
                    -1.8340281221307153,
                    -1.7309341603307216,
                    3.1480628619422024,
                    -13.68753464729573,
                    -22.389856035042676,
                    -37.894040564421196,
                    -3.8402516897024785,
                    65.79788298869789,
                    -4.273526662268113,
                    14.171942840593976,
                    20.434325346422312,
                    -11.671535321474769,
                    -2.5583895660598377,
                    18.591186179573494,
                    -0.519930658310408,
                    -12.8919924293611,
                    23.700000925781282,
                    6.143903033545839,
                    -15.765422227085446,
                    17.631102451433158,
                    38.20137639912278,
                    8.787544076481346,
                    1.3496932515337345,
                    -14.648910411622273,
                    47.65957446808511,
                    -10.086455331412104,
                    -2.8846153846153855,
                    -1.650165016501648,
                    14.317673378076057,
                    0.09784735812132794,
                    5.8651026392961825,
                    -4.524469067405357,
                    6.4796905222437085,
                    14.06357856494096,
                    -2.2415275831316084,
                    2.1120967019361725,
                    7.8883553229846415,
                    16.382133958344113,
                    1.3004421630412821,
                    4.157285754601614,
                    6.4340935911948005,
                    7.247836171296029,
                    5.264212847211236,
                    8.874936110081077,
                    11.846847054166876,
                    16.167447832008985,
                    39.461994601526015,
                    39.744071688375016,
                    -1.569855574014234,
                    3.2206241078699405,
                    13.001134204679232,
                    20.02751497650621,
                    31.357323840186968,
                    16.217792951099508,
                    -11.325862073434456,
                    -2.9869651553210197,
                    0.468227424749168,
                    4.685644366070463,
                    4.042478829339835,
                    15.92905977493193,
                    22.232224148714643,
                    22.907798345648022,
                    5.089634237406249,
                    11.849629477829104,
                    -5.878925743654495,
                    5.536894199349907,
                    -7.298754200988933,
                    10.04086507883104,
                    16.148558194451823,
                    8.037807968157807,
                    6.781392174279244,
                    2.2962527479116313,
                    3.64384362301744,
                    4.326401846357397,
                    -3.620327571093429,
                    3.871399347543658,
                    14.400980057085878,
                    18.13090389256442,
                    14.700015011979062,
                    17.96155557309622,
                    4.3245677341001265,
                    3.1609773869620827,
                    -21.371898565323466,
                    9.531266365762136,
                    14.555938881842811,
                    1.87491677628846,
                    -6.188567091218056,
                    4.939650949593255
                  ],
                  "yaxis": "y"
                },
                {
                  "marker": {
                    "color": "rgba(255,0,0,0.25)",
                    "line": {
                      "color": "rgba(255,0,0,1)",
                      "width": 2
                    },
                    "size": 10,
                    "symbol": "star"
                  },
                  "mode": "markers",
                  "name": "Wars",
                  "text": [
                    "Crimean",
                    "Anglo-Persian",
                    "Conquest of Egypt",
                    "Boxer Rebellion",
                    "World War I",
                    "World War II",
                    "Korean",
                    "Sinai War",
                    "Falkland Islands",
                    "Gulf War",
                    "War for Kosovo",
                    "Invasion of Afghanistan",
                    "Invasion of Iraq"
                  ],
                  "type": "scatter",
                  "x": [
                    1854,
                    1856,
                    1882,
                    1900,
                    1914,
                    1939,
                    1950,
                    1956,
                    1982,
                    1991,
                    1999,
                    2001,
                    2003
                  ],
                  "y": [
                    -90,
                    -90,
                    -90,
                    -90,
                    -90,
                    -90,
                    -90,
                    -90,
                    -90,
                    -90,
                    -90,
                    -90,
                    -90
                  ]
                }
              ],
              "layout": {
                "height": 600,
                "legend": {
                  "orientation": "h",
                  "title": {
                    "text": "variable"
                  },
                  "tracegroupgap": 0,
                  "x": 1,
                  "xanchor": "right",
                  "y": 1.02,
                  "yanchor": "bottom"
                },
                "margin": {
                  "t": 60
                },
                "template": {
                  "data": {
                    "bar": [
                      {
                        "error_x": {
                          "color": "#2a3f5f"
                        },
                        "error_y": {
                          "color": "#2a3f5f"
                        },
                        "marker": {
                          "line": {
                            "color": "#E5ECF6",
                            "width": 0.5
                          }
                        },
                        "type": "bar"
                      }
                    ],
                    "barpolar": [
                      {
                        "marker": {
                          "line": {
                            "color": "#E5ECF6",
                            "width": 0.5
                          }
                        },
                        "type": "barpolar"
                      }
                    ],
                    "carpet": [
                      {
                        "aaxis": {
                          "endlinecolor": "#2a3f5f",
                          "gridcolor": "white",
                          "linecolor": "white",
                          "minorgridcolor": "white",
                          "startlinecolor": "#2a3f5f"
                        },
                        "baxis": {
                          "endlinecolor": "#2a3f5f",
                          "gridcolor": "white",
                          "linecolor": "white",
                          "minorgridcolor": "white",
                          "startlinecolor": "#2a3f5f"
                        },
                        "type": "carpet"
                      }
                    ],
                    "choropleth": [
                      {
                        "colorbar": {
                          "outlinewidth": 0,
                          "ticks": ""
                        },
                        "type": "choropleth"
                      }
                    ],
                    "contour": [
                      {
                        "colorbar": {
                          "outlinewidth": 0,
                          "ticks": ""
                        },
                        "colorscale": [
                          [
                            0,
                            "#0d0887"
                          ],
                          [
                            0.1111111111111111,
                            "#46039f"
                          ],
                          [
                            0.2222222222222222,
                            "#7201a8"
                          ],
                          [
                            0.3333333333333333,
                            "#9c179e"
                          ],
                          [
                            0.4444444444444444,
                            "#bd3786"
                          ],
                          [
                            0.5555555555555556,
                            "#d8576b"
                          ],
                          [
                            0.6666666666666666,
                            "#ed7953"
                          ],
                          [
                            0.7777777777777778,
                            "#fb9f3a"
                          ],
                          [
                            0.8888888888888888,
                            "#fdca26"
                          ],
                          [
                            1,
                            "#f0f921"
                          ]
                        ],
                        "type": "contour"
                      }
                    ],
                    "contourcarpet": [
                      {
                        "colorbar": {
                          "outlinewidth": 0,
                          "ticks": ""
                        },
                        "type": "contourcarpet"
                      }
                    ],
                    "heatmap": [
                      {
                        "colorbar": {
                          "outlinewidth": 0,
                          "ticks": ""
                        },
                        "colorscale": [
                          [
                            0,
                            "#0d0887"
                          ],
                          [
                            0.1111111111111111,
                            "#46039f"
                          ],
                          [
                            0.2222222222222222,
                            "#7201a8"
                          ],
                          [
                            0.3333333333333333,
                            "#9c179e"
                          ],
                          [
                            0.4444444444444444,
                            "#bd3786"
                          ],
                          [
                            0.5555555555555556,
                            "#d8576b"
                          ],
                          [
                            0.6666666666666666,
                            "#ed7953"
                          ],
                          [
                            0.7777777777777778,
                            "#fb9f3a"
                          ],
                          [
                            0.8888888888888888,
                            "#fdca26"
                          ],
                          [
                            1,
                            "#f0f921"
                          ]
                        ],
                        "type": "heatmap"
                      }
                    ],
                    "heatmapgl": [
                      {
                        "colorbar": {
                          "outlinewidth": 0,
                          "ticks": ""
                        },
                        "colorscale": [
                          [
                            0,
                            "#0d0887"
                          ],
                          [
                            0.1111111111111111,
                            "#46039f"
                          ],
                          [
                            0.2222222222222222,
                            "#7201a8"
                          ],
                          [
                            0.3333333333333333,
                            "#9c179e"
                          ],
                          [
                            0.4444444444444444,
                            "#bd3786"
                          ],
                          [
                            0.5555555555555556,
                            "#d8576b"
                          ],
                          [
                            0.6666666666666666,
                            "#ed7953"
                          ],
                          [
                            0.7777777777777778,
                            "#fb9f3a"
                          ],
                          [
                            0.8888888888888888,
                            "#fdca26"
                          ],
                          [
                            1,
                            "#f0f921"
                          ]
                        ],
                        "type": "heatmapgl"
                      }
                    ],
                    "histogram": [
                      {
                        "marker": {
                          "colorbar": {
                            "outlinewidth": 0,
                            "ticks": ""
                          }
                        },
                        "type": "histogram"
                      }
                    ],
                    "histogram2d": [
                      {
                        "colorbar": {
                          "outlinewidth": 0,
                          "ticks": ""
                        },
                        "colorscale": [
                          [
                            0,
                            "#0d0887"
                          ],
                          [
                            0.1111111111111111,
                            "#46039f"
                          ],
                          [
                            0.2222222222222222,
                            "#7201a8"
                          ],
                          [
                            0.3333333333333333,
                            "#9c179e"
                          ],
                          [
                            0.4444444444444444,
                            "#bd3786"
                          ],
                          [
                            0.5555555555555556,
                            "#d8576b"
                          ],
                          [
                            0.6666666666666666,
                            "#ed7953"
                          ],
                          [
                            0.7777777777777778,
                            "#fb9f3a"
                          ],
                          [
                            0.8888888888888888,
                            "#fdca26"
                          ],
                          [
                            1,
                            "#f0f921"
                          ]
                        ],
                        "type": "histogram2d"
                      }
                    ],
                    "histogram2dcontour": [
                      {
                        "colorbar": {
                          "outlinewidth": 0,
                          "ticks": ""
                        },
                        "colorscale": [
                          [
                            0,
                            "#0d0887"
                          ],
                          [
                            0.1111111111111111,
                            "#46039f"
                          ],
                          [
                            0.2222222222222222,
                            "#7201a8"
                          ],
                          [
                            0.3333333333333333,
                            "#9c179e"
                          ],
                          [
                            0.4444444444444444,
                            "#bd3786"
                          ],
                          [
                            0.5555555555555556,
                            "#d8576b"
                          ],
                          [
                            0.6666666666666666,
                            "#ed7953"
                          ],
                          [
                            0.7777777777777778,
                            "#fb9f3a"
                          ],
                          [
                            0.8888888888888888,
                            "#fdca26"
                          ],
                          [
                            1,
                            "#f0f921"
                          ]
                        ],
                        "type": "histogram2dcontour"
                      }
                    ],
                    "mesh3d": [
                      {
                        "colorbar": {
                          "outlinewidth": 0,
                          "ticks": ""
                        },
                        "type": "mesh3d"
                      }
                    ],
                    "parcoords": [
                      {
                        "line": {
                          "colorbar": {
                            "outlinewidth": 0,
                            "ticks": ""
                          }
                        },
                        "type": "parcoords"
                      }
                    ],
                    "pie": [
                      {
                        "automargin": true,
                        "type": "pie"
                      }
                    ],
                    "scatter": [
                      {
                        "marker": {
                          "colorbar": {
                            "outlinewidth": 0,
                            "ticks": ""
                          }
                        },
                        "type": "scatter"
                      }
                    ],
                    "scatter3d": [
                      {
                        "line": {
                          "colorbar": {
                            "outlinewidth": 0,
                            "ticks": ""
                          }
                        },
                        "marker": {
                          "colorbar": {
                            "outlinewidth": 0,
                            "ticks": ""
                          }
                        },
                        "type": "scatter3d"
                      }
                    ],
                    "scattercarpet": [
                      {
                        "marker": {
                          "colorbar": {
                            "outlinewidth": 0,
                            "ticks": ""
                          }
                        },
                        "type": "scattercarpet"
                      }
                    ],
                    "scattergeo": [
                      {
                        "marker": {
                          "colorbar": {
                            "outlinewidth": 0,
                            "ticks": ""
                          }
                        },
                        "type": "scattergeo"
                      }
                    ],
                    "scattergl": [
                      {
                        "marker": {
                          "colorbar": {
                            "outlinewidth": 0,
                            "ticks": ""
                          }
                        },
                        "type": "scattergl"
                      }
                    ],
                    "scattermapbox": [
                      {
                        "marker": {
                          "colorbar": {
                            "outlinewidth": 0,
                            "ticks": ""
                          }
                        },
                        "type": "scattermapbox"
                      }
                    ],
                    "scatterpolar": [
                      {
                        "marker": {
                          "colorbar": {
                            "outlinewidth": 0,
                            "ticks": ""
                          }
                        },
                        "type": "scatterpolar"
                      }
                    ],
                    "scatterpolargl": [
                      {
                        "marker": {
                          "colorbar": {
                            "outlinewidth": 0,
                            "ticks": ""
                          }
                        },
                        "type": "scatterpolargl"
                      }
                    ],
                    "scatterternary": [
                      {
                        "marker": {
                          "colorbar": {
                            "outlinewidth": 0,
                            "ticks": ""
                          }
                        },
                        "type": "scatterternary"
                      }
                    ],
                    "surface": [
                      {
                        "colorbar": {
                          "outlinewidth": 0,
                          "ticks": ""
                        },
                        "colorscale": [
                          [
                            0,
                            "#0d0887"
                          ],
                          [
                            0.1111111111111111,
                            "#46039f"
                          ],
                          [
                            0.2222222222222222,
                            "#7201a8"
                          ],
                          [
                            0.3333333333333333,
                            "#9c179e"
                          ],
                          [
                            0.4444444444444444,
                            "#bd3786"
                          ],
                          [
                            0.5555555555555556,
                            "#d8576b"
                          ],
                          [
                            0.6666666666666666,
                            "#ed7953"
                          ],
                          [
                            0.7777777777777778,
                            "#fb9f3a"
                          ],
                          [
                            0.8888888888888888,
                            "#fdca26"
                          ],
                          [
                            1,
                            "#f0f921"
                          ]
                        ],
                        "type": "surface"
                      }
                    ],
                    "table": [
                      {
                        "cells": {
                          "fill": {
                            "color": "#EBF0F8"
                          },
                          "line": {
                            "color": "white"
                          }
                        },
                        "header": {
                          "fill": {
                            "color": "#C8D4E3"
                          },
                          "line": {
                            "color": "white"
                          }
                        },
                        "type": "table"
                      }
                    ]
                  },
                  "layout": {
                    "annotationdefaults": {
                      "arrowcolor": "#2a3f5f",
                      "arrowhead": 0,
                      "arrowwidth": 1
                    },
                    "autotypenumbers": "strict",
                    "coloraxis": {
                      "colorbar": {
                        "outlinewidth": 0,
                        "ticks": ""
                      }
                    },
                    "colorscale": {
                      "diverging": [
                        [
                          0,
                          "#8e0152"
                        ],
                        [
                          0.1,
                          "#c51b7d"
                        ],
                        [
                          0.2,
                          "#de77ae"
                        ],
                        [
                          0.3,
                          "#f1b6da"
                        ],
                        [
                          0.4,
                          "#fde0ef"
                        ],
                        [
                          0.5,
                          "#f7f7f7"
                        ],
                        [
                          0.6,
                          "#e6f5d0"
                        ],
                        [
                          0.7,
                          "#b8e186"
                        ],
                        [
                          0.8,
                          "#7fbc41"
                        ],
                        [
                          0.9,
                          "#4d9221"
                        ],
                        [
                          1,
                          "#276419"
                        ]
                      ],
                      "sequential": [
                        [
                          0,
                          "#0d0887"
                        ],
                        [
                          0.1111111111111111,
                          "#46039f"
                        ],
                        [
                          0.2222222222222222,
                          "#7201a8"
                        ],
                        [
                          0.3333333333333333,
                          "#9c179e"
                        ],
                        [
                          0.4444444444444444,
                          "#bd3786"
                        ],
                        [
                          0.5555555555555556,
                          "#d8576b"
                        ],
                        [
                          0.6666666666666666,
                          "#ed7953"
                        ],
                        [
                          0.7777777777777778,
                          "#fb9f3a"
                        ],
                        [
                          0.8888888888888888,
                          "#fdca26"
                        ],
                        [
                          1,
                          "#f0f921"
                        ]
                      ],
                      "sequentialminus": [
                        [
                          0,
                          "#0d0887"
                        ],
                        [
                          0.1111111111111111,
                          "#46039f"
                        ],
                        [
                          0.2222222222222222,
                          "#7201a8"
                        ],
                        [
                          0.3333333333333333,
                          "#9c179e"
                        ],
                        [
                          0.4444444444444444,
                          "#bd3786"
                        ],
                        [
                          0.5555555555555556,
                          "#d8576b"
                        ],
                        [
                          0.6666666666666666,
                          "#ed7953"
                        ],
                        [
                          0.7777777777777778,
                          "#fb9f3a"
                        ],
                        [
                          0.8888888888888888,
                          "#fdca26"
                        ],
                        [
                          1,
                          "#f0f921"
                        ]
                      ]
                    },
                    "colorway": [
                      "#636efa",
                      "#EF553B",
                      "#00cc96",
                      "#ab63fa",
                      "#FFA15A",
                      "#19d3f3",
                      "#FF6692",
                      "#B6E880",
                      "#FF97FF",
                      "#FECB52"
                    ],
                    "font": {
                      "color": "#2a3f5f"
                    },
                    "geo": {
                      "bgcolor": "white",
                      "lakecolor": "white",
                      "landcolor": "#E5ECF6",
                      "showlakes": true,
                      "showland": true,
                      "subunitcolor": "white"
                    },
                    "hoverlabel": {
                      "align": "left"
                    },
                    "hovermode": "closest",
                    "mapbox": {
                      "style": "light"
                    },
                    "paper_bgcolor": "white",
                    "plot_bgcolor": "#E5ECF6",
                    "polar": {
                      "angularaxis": {
                        "gridcolor": "white",
                        "linecolor": "white",
                        "ticks": ""
                      },
                      "bgcolor": "#E5ECF6",
                      "radialaxis": {
                        "gridcolor": "white",
                        "linecolor": "white",
                        "ticks": ""
                      }
                    },
                    "scene": {
                      "xaxis": {
                        "backgroundcolor": "#E5ECF6",
                        "gridcolor": "white",
                        "gridwidth": 2,
                        "linecolor": "white",
                        "showbackground": true,
                        "ticks": "",
                        "zerolinecolor": "white"
                      },
                      "yaxis": {
                        "backgroundcolor": "#E5ECF6",
                        "gridcolor": "white",
                        "gridwidth": 2,
                        "linecolor": "white",
                        "showbackground": true,
                        "ticks": "",
                        "zerolinecolor": "white"
                      },
                      "zaxis": {
                        "backgroundcolor": "#E5ECF6",
                        "gridcolor": "white",
                        "gridwidth": 2,
                        "linecolor": "white",
                        "showbackground": true,
                        "ticks": "",
                        "zerolinecolor": "white"
                      }
                    },
                    "shapedefaults": {
                      "line": {
                        "color": "#2a3f5f"
                      }
                    },
                    "ternary": {
                      "aaxis": {
                        "gridcolor": "white",
                        "linecolor": "white",
                        "ticks": ""
                      },
                      "baxis": {
                        "gridcolor": "white",
                        "linecolor": "white",
                        "ticks": ""
                      },
                      "bgcolor": "#E5ECF6",
                      "caxis": {
                        "gridcolor": "white",
                        "linecolor": "white",
                        "ticks": ""
                      }
                    },
                    "title": {
                      "x": 0.05
                    },
                    "xaxis": {
                      "automargin": true,
                      "gridcolor": "white",
                      "linecolor": "white",
                      "ticks": "",
                      "title": {
                        "standoff": 15
                      },
                      "zerolinecolor": "white",
                      "zerolinewidth": 2
                    },
                    "yaxis": {
                      "automargin": true,
                      "gridcolor": "white",
                      "linecolor": "white",
                      "ticks": "",
                      "title": {
                        "standoff": 15
                      },
                      "zerolinecolor": "white",
                      "zerolinewidth": 2
                    }
                  }
                },
                "title": {
                  "text": "Trade and war in United Kingdom"
                },
                "width": 950,
                "xaxis": {
                  "anchor": "y",
                  "domain": [
                    0,
                    1
                  ],
                  "range": [
                    1870,
                    2015
                  ],
                  "rangeslider": {
                    "visible": true
                  },
                  "title": {
                    "text": "year"
                  }
                },
                "yaxis": {
                  "anchor": "x",
                  "domain": [
                    0,
                    1
                  ],
                  "range": [
                    -100,
                    100
                  ],
                  "title": {
                    "text": "% growth from last year"
                  }
                }
              }
            }
          },
          "metadata": {}
        },
        {
          "output_type": "display_data",
          "data": {
            "application/vnd.plotly.v1+json": {
              "config": {
                "plotlyServerURL": "https://plot.ly"
              },
              "data": [
                {
                  "hovertemplate": "variable=Export<br>year=%{x}<br>value=%{y}<extra></extra>",
                  "legendgroup": "Export",
                  "line": {
                    "color": "#636efa",
                    "dash": "solid"
                  },
                  "mode": "lines",
                  "name": "Export",
                  "orientation": "v",
                  "showlegend": true,
                  "type": "scatter",
                  "x": [
                    1919,
                    1920,
                    1921,
                    1922,
                    1923,
                    1924,
                    1925,
                    1926,
                    1927,
                    1928,
                    1929,
                    1930,
                    1931,
                    1932,
                    1933,
                    1934,
                    1935,
                    1936,
                    1937,
                    1938,
                    1939,
                    1940,
                    1941,
                    1942,
                    1943,
                    1944,
                    1945,
                    1946,
                    1947,
                    1948,
                    1949,
                    1950,
                    1951,
                    1952,
                    1953,
                    1954,
                    1955,
                    1956,
                    1957,
                    1958,
                    1959,
                    1960,
                    1961,
                    1962,
                    1963,
                    1964,
                    1965,
                    1966,
                    1967,
                    1968,
                    1969,
                    1970,
                    1971,
                    1972,
                    1973,
                    1974,
                    1975,
                    1976,
                    1977,
                    1978,
                    1979,
                    1980,
                    1981,
                    1982,
                    1983,
                    1984,
                    1985,
                    1986,
                    1987,
                    1988,
                    1989,
                    1990,
                    1991,
                    1992,
                    1993,
                    1994,
                    1995,
                    1996,
                    1997,
                    1998,
                    1999,
                    2000,
                    2001,
                    2002,
                    2003,
                    2004,
                    2005,
                    2006,
                    2007,
                    2008,
                    2009,
                    2010,
                    2011,
                    2012,
                    2013,
                    2014
                  ],
                  "xaxis": "x",
                  "y": [
                    0,
                    0,
                    -18.166092605897653,
                    -37.84355083794805,
                    65.98639521982112,
                    -32.991805240948345,
                    18.195719635498087,
                    15.394567325797915,
                    13.34080235655919,
                    11.770529915613404,
                    10.530969560151071,
                    9.527626548155554,
                    8.698827147928267,
                    8.002687219513426,
                    7.40971714588905,
                    6.898553820623898,
                    -40.34707331117679,
                    89.27272449840198,
                    5.7156606700308865,
                    5.40663571868607,
                    5.1293042567909675,
                    0,
                    0,
                    0,
                    0,
                    0,
                    0,
                    102.13202325041615,
                    0.8113621340144261,
                    -0.8048320316670576,
                    -0.8113543962916525,
                    -0.8179990049023145,
                    -0.8041224528833713,
                    -0.8314311386494522,
                    -0.8174374284894204,
                    -0.8453117676639699,
                    -0.8525100741508251,
                    -0.8383477768933667,
                    -0.8671179636182136,
                    1.4651257169240983,
                    29.95689063378397,
                    -17.24709679709031,
                    7.01402805611222,
                    10.299625468164786,
                    19.01528013582343,
                    -0.7132667617689048,
                    -0.1436781609195359,
                    3.021582733812922,
                    -7.252793296089366,
                    8.146731519267526,
                    14.017572441065518,
                    3.305896145767151,
                    18.097669964889906,
                    24.543543543543535,
                    27.806846221236302,
                    44.98541027318008,
                    -2.4675775319887294,
                    32.14652607610924,
                    5.381529618436742,
                    -14.045290080699502,
                    61.621884706267,
                    54.12663931128816,
                    -4.825988778088364,
                    -68.51700113767099,
                    -2.733991976677974,
                    -9.935757016865166,
                    15.38657739434508,
                    -18.104066715910093,
                    102.14769775256008,
                    -47.920834455487835,
                    -0.19458276915957917,
                    -24.981252684874367,
                    44.1998860226992,
                    -4.078893130551031,
                    279.50388333040036,
                    -84.798449141216,
                    58.68985993605931,
                    -22.86015395111265,
                    12.968403353673374,
                    4.511801082633871,
                    -18.804621879476326,
                    15.877699471761698,
                    -40.816647049525066,
                    4.51009256371131,
                    136.93035183108157,
                    -12.431877262952506,
                    29.344655512858452,
                    -2.3441234636888297,
                    47.86450984378114,
                    40.42051168794283,
                    -6.86383727436769,
                    12.255697258072606,
                    -7.13812132212841,
                    0.9512486743945114,
                    27.878368053992908,
                    9.897440540037806
                  ],
                  "yaxis": "y"
                },
                {
                  "hovertemplate": "variable=Import<br>year=%{x}<br>value=%{y}<extra></extra>",
                  "legendgroup": "Import",
                  "line": {
                    "color": "#EF553B",
                    "dash": "solid"
                  },
                  "mode": "lines",
                  "name": "Import",
                  "orientation": "v",
                  "showlegend": true,
                  "type": "scatter",
                  "x": [
                    1919,
                    1920,
                    1921,
                    1922,
                    1923,
                    1924,
                    1925,
                    1926,
                    1927,
                    1928,
                    1929,
                    1930,
                    1931,
                    1932,
                    1933,
                    1934,
                    1935,
                    1936,
                    1937,
                    1938,
                    1939,
                    1940,
                    1941,
                    1942,
                    1943,
                    1944,
                    1945,
                    1946,
                    1947,
                    1948,
                    1949,
                    1950,
                    1951,
                    1952,
                    1953,
                    1954,
                    1955,
                    1956,
                    1957,
                    1958,
                    1959,
                    1960,
                    1961,
                    1962,
                    1963,
                    1964,
                    1965,
                    1966,
                    1967,
                    1968,
                    1969,
                    1970,
                    1971,
                    1972,
                    1973,
                    1974,
                    1975,
                    1976,
                    1977,
                    1978,
                    1979,
                    1980,
                    1981,
                    1982,
                    1983,
                    1984,
                    1985,
                    1986,
                    1987,
                    1988,
                    1989,
                    1990,
                    1991,
                    1992,
                    1993,
                    1994,
                    1995,
                    1996,
                    1997,
                    1998,
                    1999,
                    2000,
                    2001,
                    2002,
                    2003,
                    2004,
                    2005,
                    2006,
                    2007,
                    2008,
                    2009,
                    2010,
                    2011,
                    2012,
                    2013,
                    2014
                  ],
                  "xaxis": "x",
                  "y": [
                    0,
                    0,
                    -13.817812878370518,
                    1.4251767751990219,
                    12.529270487163412,
                    7.700319991981641,
                    12.946851686234307,
                    11.462790425044233,
                    10.28396147389894,
                    9.32498373875774,
                    8.46595082209336,
                    7.86383904485719,
                    7.2905343513193,
                    6.795132856218888,
                    6.362773915331288,
                    5.982143640214099,
                    -57.87700043634416,
                    164.20000076293948,
                    5.071915778646208,
                    4.827089847044519,
                    4.57044641330302,
                    0,
                    0,
                    0,
                    0,
                    0,
                    0,
                    57.410453649360264,
                    10.229639989748907,
                    9.280306054322018,
                    1.5424599270024375,
                    1.5361009106246826,
                    1.4960486880782442,
                    1.490555970951979,
                    1.4523489023781089,
                    1.4476460549880832,
                    1.4111295290230919,
                    1.407131861728561,
                    1.3721852933599843,
                    10.722438101532795,
                    11.12637106397143,
                    -27.750309443143806,
                    -6.997433873741155,
                    -7.523914839340618,
                    -8.136065477111476,
                    204.02771561754233,
                    -7.9059829059829,
                    -46.465582969293784,
                    99.89020161793418,
                    -10.067647654014056,
                    -0.7313113779192193,
                    -11.333020303746633,
                    32.74229627938825,
                    9.364037802814584,
                    -18.37106918238994,
                    86.86416518992218,
                    39.52937974939288,
                    -7.175489506563193,
                    46.01171526805041,
                    -1.7738939326548242,
                    22.352147315522664,
                    -10.243171460915502,
                    9.451565828674436,
                    -40.54388220347099,
                    15.714275801238742,
                    5.252281753604349,
                    0.9632882823668032,
                    50.78886141208842,
                    14.112160286903851,
                    -23.00655529830501,
                    -18.816308011692872,
                    12.557492972924166,
                    -7.547299281432373,
                    -10.12432063422083,
                    16.701503969379907,
                    -15.9039946194534,
                    -0.8770854689243546,
                    70.56580846435084,
                    -8.547750548422627,
                    -23.468046181756108,
                    6.014077971714338,
                    26.624809341822274,
                    -10.427286084712662,
                    86.05580159875359,
                    55.57624517230077,
                    22.00547739951382,
                    57.237350478860385,
                    24.86116012728301,
                    27.722961932615785,
                    25.378360072130967,
                    12.52593839976901,
                    24.518042384071535,
                    22.41990942346399,
                    -25.551563070082985,
                    7.221854749747436,
                    -5.483218100757837
                  ],
                  "yaxis": "y"
                },
                {
                  "marker": {
                    "color": "rgba(255,0,0,0.25)",
                    "line": {
                      "color": "rgba(255,0,0,1)",
                      "width": 2
                    },
                    "size": 10,
                    "symbol": "star"
                  },
                  "mode": "markers",
                  "name": "Wars",
                  "text": [
                    "Invasion of Afghanistan"
                  ],
                  "type": "scatter",
                  "x": [
                    2001
                  ],
                  "y": [
                    -90
                  ]
                }
              ],
              "layout": {
                "height": 600,
                "legend": {
                  "orientation": "h",
                  "title": {
                    "text": "variable"
                  },
                  "tracegroupgap": 0,
                  "x": 1,
                  "xanchor": "right",
                  "y": 1.02,
                  "yanchor": "bottom"
                },
                "margin": {
                  "t": 60
                },
                "template": {
                  "data": {
                    "bar": [
                      {
                        "error_x": {
                          "color": "#2a3f5f"
                        },
                        "error_y": {
                          "color": "#2a3f5f"
                        },
                        "marker": {
                          "line": {
                            "color": "#E5ECF6",
                            "width": 0.5
                          }
                        },
                        "type": "bar"
                      }
                    ],
                    "barpolar": [
                      {
                        "marker": {
                          "line": {
                            "color": "#E5ECF6",
                            "width": 0.5
                          }
                        },
                        "type": "barpolar"
                      }
                    ],
                    "carpet": [
                      {
                        "aaxis": {
                          "endlinecolor": "#2a3f5f",
                          "gridcolor": "white",
                          "linecolor": "white",
                          "minorgridcolor": "white",
                          "startlinecolor": "#2a3f5f"
                        },
                        "baxis": {
                          "endlinecolor": "#2a3f5f",
                          "gridcolor": "white",
                          "linecolor": "white",
                          "minorgridcolor": "white",
                          "startlinecolor": "#2a3f5f"
                        },
                        "type": "carpet"
                      }
                    ],
                    "choropleth": [
                      {
                        "colorbar": {
                          "outlinewidth": 0,
                          "ticks": ""
                        },
                        "type": "choropleth"
                      }
                    ],
                    "contour": [
                      {
                        "colorbar": {
                          "outlinewidth": 0,
                          "ticks": ""
                        },
                        "colorscale": [
                          [
                            0,
                            "#0d0887"
                          ],
                          [
                            0.1111111111111111,
                            "#46039f"
                          ],
                          [
                            0.2222222222222222,
                            "#7201a8"
                          ],
                          [
                            0.3333333333333333,
                            "#9c179e"
                          ],
                          [
                            0.4444444444444444,
                            "#bd3786"
                          ],
                          [
                            0.5555555555555556,
                            "#d8576b"
                          ],
                          [
                            0.6666666666666666,
                            "#ed7953"
                          ],
                          [
                            0.7777777777777778,
                            "#fb9f3a"
                          ],
                          [
                            0.8888888888888888,
                            "#fdca26"
                          ],
                          [
                            1,
                            "#f0f921"
                          ]
                        ],
                        "type": "contour"
                      }
                    ],
                    "contourcarpet": [
                      {
                        "colorbar": {
                          "outlinewidth": 0,
                          "ticks": ""
                        },
                        "type": "contourcarpet"
                      }
                    ],
                    "heatmap": [
                      {
                        "colorbar": {
                          "outlinewidth": 0,
                          "ticks": ""
                        },
                        "colorscale": [
                          [
                            0,
                            "#0d0887"
                          ],
                          [
                            0.1111111111111111,
                            "#46039f"
                          ],
                          [
                            0.2222222222222222,
                            "#7201a8"
                          ],
                          [
                            0.3333333333333333,
                            "#9c179e"
                          ],
                          [
                            0.4444444444444444,
                            "#bd3786"
                          ],
                          [
                            0.5555555555555556,
                            "#d8576b"
                          ],
                          [
                            0.6666666666666666,
                            "#ed7953"
                          ],
                          [
                            0.7777777777777778,
                            "#fb9f3a"
                          ],
                          [
                            0.8888888888888888,
                            "#fdca26"
                          ],
                          [
                            1,
                            "#f0f921"
                          ]
                        ],
                        "type": "heatmap"
                      }
                    ],
                    "heatmapgl": [
                      {
                        "colorbar": {
                          "outlinewidth": 0,
                          "ticks": ""
                        },
                        "colorscale": [
                          [
                            0,
                            "#0d0887"
                          ],
                          [
                            0.1111111111111111,
                            "#46039f"
                          ],
                          [
                            0.2222222222222222,
                            "#7201a8"
                          ],
                          [
                            0.3333333333333333,
                            "#9c179e"
                          ],
                          [
                            0.4444444444444444,
                            "#bd3786"
                          ],
                          [
                            0.5555555555555556,
                            "#d8576b"
                          ],
                          [
                            0.6666666666666666,
                            "#ed7953"
                          ],
                          [
                            0.7777777777777778,
                            "#fb9f3a"
                          ],
                          [
                            0.8888888888888888,
                            "#fdca26"
                          ],
                          [
                            1,
                            "#f0f921"
                          ]
                        ],
                        "type": "heatmapgl"
                      }
                    ],
                    "histogram": [
                      {
                        "marker": {
                          "colorbar": {
                            "outlinewidth": 0,
                            "ticks": ""
                          }
                        },
                        "type": "histogram"
                      }
                    ],
                    "histogram2d": [
                      {
                        "colorbar": {
                          "outlinewidth": 0,
                          "ticks": ""
                        },
                        "colorscale": [
                          [
                            0,
                            "#0d0887"
                          ],
                          [
                            0.1111111111111111,
                            "#46039f"
                          ],
                          [
                            0.2222222222222222,
                            "#7201a8"
                          ],
                          [
                            0.3333333333333333,
                            "#9c179e"
                          ],
                          [
                            0.4444444444444444,
                            "#bd3786"
                          ],
                          [
                            0.5555555555555556,
                            "#d8576b"
                          ],
                          [
                            0.6666666666666666,
                            "#ed7953"
                          ],
                          [
                            0.7777777777777778,
                            "#fb9f3a"
                          ],
                          [
                            0.8888888888888888,
                            "#fdca26"
                          ],
                          [
                            1,
                            "#f0f921"
                          ]
                        ],
                        "type": "histogram2d"
                      }
                    ],
                    "histogram2dcontour": [
                      {
                        "colorbar": {
                          "outlinewidth": 0,
                          "ticks": ""
                        },
                        "colorscale": [
                          [
                            0,
                            "#0d0887"
                          ],
                          [
                            0.1111111111111111,
                            "#46039f"
                          ],
                          [
                            0.2222222222222222,
                            "#7201a8"
                          ],
                          [
                            0.3333333333333333,
                            "#9c179e"
                          ],
                          [
                            0.4444444444444444,
                            "#bd3786"
                          ],
                          [
                            0.5555555555555556,
                            "#d8576b"
                          ],
                          [
                            0.6666666666666666,
                            "#ed7953"
                          ],
                          [
                            0.7777777777777778,
                            "#fb9f3a"
                          ],
                          [
                            0.8888888888888888,
                            "#fdca26"
                          ],
                          [
                            1,
                            "#f0f921"
                          ]
                        ],
                        "type": "histogram2dcontour"
                      }
                    ],
                    "mesh3d": [
                      {
                        "colorbar": {
                          "outlinewidth": 0,
                          "ticks": ""
                        },
                        "type": "mesh3d"
                      }
                    ],
                    "parcoords": [
                      {
                        "line": {
                          "colorbar": {
                            "outlinewidth": 0,
                            "ticks": ""
                          }
                        },
                        "type": "parcoords"
                      }
                    ],
                    "pie": [
                      {
                        "automargin": true,
                        "type": "pie"
                      }
                    ],
                    "scatter": [
                      {
                        "marker": {
                          "colorbar": {
                            "outlinewidth": 0,
                            "ticks": ""
                          }
                        },
                        "type": "scatter"
                      }
                    ],
                    "scatter3d": [
                      {
                        "line": {
                          "colorbar": {
                            "outlinewidth": 0,
                            "ticks": ""
                          }
                        },
                        "marker": {
                          "colorbar": {
                            "outlinewidth": 0,
                            "ticks": ""
                          }
                        },
                        "type": "scatter3d"
                      }
                    ],
                    "scattercarpet": [
                      {
                        "marker": {
                          "colorbar": {
                            "outlinewidth": 0,
                            "ticks": ""
                          }
                        },
                        "type": "scattercarpet"
                      }
                    ],
                    "scattergeo": [
                      {
                        "marker": {
                          "colorbar": {
                            "outlinewidth": 0,
                            "ticks": ""
                          }
                        },
                        "type": "scattergeo"
                      }
                    ],
                    "scattergl": [
                      {
                        "marker": {
                          "colorbar": {
                            "outlinewidth": 0,
                            "ticks": ""
                          }
                        },
                        "type": "scattergl"
                      }
                    ],
                    "scattermapbox": [
                      {
                        "marker": {
                          "colorbar": {
                            "outlinewidth": 0,
                            "ticks": ""
                          }
                        },
                        "type": "scattermapbox"
                      }
                    ],
                    "scatterpolar": [
                      {
                        "marker": {
                          "colorbar": {
                            "outlinewidth": 0,
                            "ticks": ""
                          }
                        },
                        "type": "scatterpolar"
                      }
                    ],
                    "scatterpolargl": [
                      {
                        "marker": {
                          "colorbar": {
                            "outlinewidth": 0,
                            "ticks": ""
                          }
                        },
                        "type": "scatterpolargl"
                      }
                    ],
                    "scatterternary": [
                      {
                        "marker": {
                          "colorbar": {
                            "outlinewidth": 0,
                            "ticks": ""
                          }
                        },
                        "type": "scatterternary"
                      }
                    ],
                    "surface": [
                      {
                        "colorbar": {
                          "outlinewidth": 0,
                          "ticks": ""
                        },
                        "colorscale": [
                          [
                            0,
                            "#0d0887"
                          ],
                          [
                            0.1111111111111111,
                            "#46039f"
                          ],
                          [
                            0.2222222222222222,
                            "#7201a8"
                          ],
                          [
                            0.3333333333333333,
                            "#9c179e"
                          ],
                          [
                            0.4444444444444444,
                            "#bd3786"
                          ],
                          [
                            0.5555555555555556,
                            "#d8576b"
                          ],
                          [
                            0.6666666666666666,
                            "#ed7953"
                          ],
                          [
                            0.7777777777777778,
                            "#fb9f3a"
                          ],
                          [
                            0.8888888888888888,
                            "#fdca26"
                          ],
                          [
                            1,
                            "#f0f921"
                          ]
                        ],
                        "type": "surface"
                      }
                    ],
                    "table": [
                      {
                        "cells": {
                          "fill": {
                            "color": "#EBF0F8"
                          },
                          "line": {
                            "color": "white"
                          }
                        },
                        "header": {
                          "fill": {
                            "color": "#C8D4E3"
                          },
                          "line": {
                            "color": "white"
                          }
                        },
                        "type": "table"
                      }
                    ]
                  },
                  "layout": {
                    "annotationdefaults": {
                      "arrowcolor": "#2a3f5f",
                      "arrowhead": 0,
                      "arrowwidth": 1
                    },
                    "autotypenumbers": "strict",
                    "coloraxis": {
                      "colorbar": {
                        "outlinewidth": 0,
                        "ticks": ""
                      }
                    },
                    "colorscale": {
                      "diverging": [
                        [
                          0,
                          "#8e0152"
                        ],
                        [
                          0.1,
                          "#c51b7d"
                        ],
                        [
                          0.2,
                          "#de77ae"
                        ],
                        [
                          0.3,
                          "#f1b6da"
                        ],
                        [
                          0.4,
                          "#fde0ef"
                        ],
                        [
                          0.5,
                          "#f7f7f7"
                        ],
                        [
                          0.6,
                          "#e6f5d0"
                        ],
                        [
                          0.7,
                          "#b8e186"
                        ],
                        [
                          0.8,
                          "#7fbc41"
                        ],
                        [
                          0.9,
                          "#4d9221"
                        ],
                        [
                          1,
                          "#276419"
                        ]
                      ],
                      "sequential": [
                        [
                          0,
                          "#0d0887"
                        ],
                        [
                          0.1111111111111111,
                          "#46039f"
                        ],
                        [
                          0.2222222222222222,
                          "#7201a8"
                        ],
                        [
                          0.3333333333333333,
                          "#9c179e"
                        ],
                        [
                          0.4444444444444444,
                          "#bd3786"
                        ],
                        [
                          0.5555555555555556,
                          "#d8576b"
                        ],
                        [
                          0.6666666666666666,
                          "#ed7953"
                        ],
                        [
                          0.7777777777777778,
                          "#fb9f3a"
                        ],
                        [
                          0.8888888888888888,
                          "#fdca26"
                        ],
                        [
                          1,
                          "#f0f921"
                        ]
                      ],
                      "sequentialminus": [
                        [
                          0,
                          "#0d0887"
                        ],
                        [
                          0.1111111111111111,
                          "#46039f"
                        ],
                        [
                          0.2222222222222222,
                          "#7201a8"
                        ],
                        [
                          0.3333333333333333,
                          "#9c179e"
                        ],
                        [
                          0.4444444444444444,
                          "#bd3786"
                        ],
                        [
                          0.5555555555555556,
                          "#d8576b"
                        ],
                        [
                          0.6666666666666666,
                          "#ed7953"
                        ],
                        [
                          0.7777777777777778,
                          "#fb9f3a"
                        ],
                        [
                          0.8888888888888888,
                          "#fdca26"
                        ],
                        [
                          1,
                          "#f0f921"
                        ]
                      ]
                    },
                    "colorway": [
                      "#636efa",
                      "#EF553B",
                      "#00cc96",
                      "#ab63fa",
                      "#FFA15A",
                      "#19d3f3",
                      "#FF6692",
                      "#B6E880",
                      "#FF97FF",
                      "#FECB52"
                    ],
                    "font": {
                      "color": "#2a3f5f"
                    },
                    "geo": {
                      "bgcolor": "white",
                      "lakecolor": "white",
                      "landcolor": "#E5ECF6",
                      "showlakes": true,
                      "showland": true,
                      "subunitcolor": "white"
                    },
                    "hoverlabel": {
                      "align": "left"
                    },
                    "hovermode": "closest",
                    "mapbox": {
                      "style": "light"
                    },
                    "paper_bgcolor": "white",
                    "plot_bgcolor": "#E5ECF6",
                    "polar": {
                      "angularaxis": {
                        "gridcolor": "white",
                        "linecolor": "white",
                        "ticks": ""
                      },
                      "bgcolor": "#E5ECF6",
                      "radialaxis": {
                        "gridcolor": "white",
                        "linecolor": "white",
                        "ticks": ""
                      }
                    },
                    "scene": {
                      "xaxis": {
                        "backgroundcolor": "#E5ECF6",
                        "gridcolor": "white",
                        "gridwidth": 2,
                        "linecolor": "white",
                        "showbackground": true,
                        "ticks": "",
                        "zerolinecolor": "white"
                      },
                      "yaxis": {
                        "backgroundcolor": "#E5ECF6",
                        "gridcolor": "white",
                        "gridwidth": 2,
                        "linecolor": "white",
                        "showbackground": true,
                        "ticks": "",
                        "zerolinecolor": "white"
                      },
                      "zaxis": {
                        "backgroundcolor": "#E5ECF6",
                        "gridcolor": "white",
                        "gridwidth": 2,
                        "linecolor": "white",
                        "showbackground": true,
                        "ticks": "",
                        "zerolinecolor": "white"
                      }
                    },
                    "shapedefaults": {
                      "line": {
                        "color": "#2a3f5f"
                      }
                    },
                    "ternary": {
                      "aaxis": {
                        "gridcolor": "white",
                        "linecolor": "white",
                        "ticks": ""
                      },
                      "baxis": {
                        "gridcolor": "white",
                        "linecolor": "white",
                        "ticks": ""
                      },
                      "bgcolor": "#E5ECF6",
                      "caxis": {
                        "gridcolor": "white",
                        "linecolor": "white",
                        "ticks": ""
                      }
                    },
                    "title": {
                      "x": 0.05
                    },
                    "xaxis": {
                      "automargin": true,
                      "gridcolor": "white",
                      "linecolor": "white",
                      "ticks": "",
                      "title": {
                        "standoff": 15
                      },
                      "zerolinecolor": "white",
                      "zerolinewidth": 2
                    },
                    "yaxis": {
                      "automargin": true,
                      "gridcolor": "white",
                      "linecolor": "white",
                      "ticks": "",
                      "title": {
                        "standoff": 15
                      },
                      "zerolinecolor": "white",
                      "zerolinewidth": 2
                    }
                  }
                },
                "title": {
                  "text": "Trade and war in Afghanistan"
                },
                "width": 950,
                "xaxis": {
                  "anchor": "y",
                  "domain": [
                    0,
                    1
                  ],
                  "range": [
                    1870,
                    2015
                  ],
                  "rangeslider": {
                    "visible": true
                  },
                  "title": {
                    "text": "year"
                  }
                },
                "yaxis": {
                  "anchor": "x",
                  "domain": [
                    0,
                    1
                  ],
                  "range": [
                    -100,
                    100
                  ],
                  "title": {
                    "text": "% growth from last year"
                  }
                }
              }
            }
          },
          "metadata": {}
        }
      ]
    },
    {
      "cell_type": "code",
      "metadata": {
        "id": "LOoWFvl_r9jU"
      },
      "source": [
        "\n",
        "trade_data= national_trade_data.copy()\n",
        "trade_data = pd.merge(\n",
        "    trade_data, \n",
        "    war_state, \n",
        "    how='left', \n",
        "    on=['ccode', 'year']\n",
        ")\n",
        "\n",
        "countries_with_war = list(set(trade_data[trade_data['at_war']==1]['ccode'].values))\n",
        "trade_data[trade_data['ccode'].isin(countries_with_war)]\n",
        "\n",
        "peace_trade = trade_data[trade_data['at_war']==0]\n",
        "war_trade = trade_data[trade_data['at_war']==1]\n",
        "\n",
        "features = {\n",
        "    'median_imports_growth':('imports_growth', 'median'),\n",
        "    'median_exports_growth':('exports_growth', 'median'),\n",
        "    'q1_imports_growth':('imports_growth',  lambda x: x.quantile(0.25)),\n",
        "    'q1_exports_growth':('exports_growth',  lambda x: x.quantile(0.25)),\n",
        "    'q3_imports_growth':('imports_growth',  lambda x: x.quantile(0.75)),\n",
        "    'q3_exports_growth':('exports_growth',  lambda x: x.quantile(0.75)),\n",
        "}\n",
        "\n",
        "peace_trade_year = peace_trade.groupby(['year']).agg(**features).reset_index()\n",
        "war_trade_year = war_trade.groupby(['year']).agg(**features).reset_index()\n",
        "wp_trade_year = trade_data.groupby(['year', 'at_war']).agg(**features).reset_index()"
      ],
      "execution_count": 14,
      "outputs": []
    },
    {
      "cell_type": "code",
      "metadata": {
        "id": "omISyRBj5wfN"
      },
      "source": [
        "# Plot global trade trends\n",
        "\n",
        "fig = go.Figure()\n",
        "fig.add_trace(go.Scatter(\n",
        "    x=wp_trade_year['year'],\n",
        "    y=wp_trade_year['median_exports_growth'],\n",
        "    line_color='blue',\n",
        "    name='Export',\n",
        "))\n",
        "fig.add_trace(go.Scatter(\n",
        "    x=wp_trade_year['year'],\n",
        "    y=wp_trade_year['median_imports_growth'],\n",
        "    line_color='red',\n",
        "    name='Import',\n",
        "))\n",
        "fig.update_layout(\n",
        "    xaxis=dict(\n",
        "        rangeslider=dict(\n",
        "            visible=True\n",
        "        ),\n",
        "        type=\"date\"\n",
        "    ),\n",
        "    legend=custom_hlegend,\n",
        "    title=f\"Global trade over years\",\n",
        "    xaxis_title=\"year\",\n",
        "    yaxis_title=\"Median % growth from last year between countries\",\n",
        "    width=FIGURE_WIDTH, \n",
        "    height=FIGURE_HEIGHT,\n",
        ")\n",
        "fig.update_yaxes(range=[-60, 100])\n",
        "fig.write_html('fig/global_trade.html', include_plotlyjs='cdn', full_html=False)\n",
        "fig.show()"
      ],
      "execution_count": 15,
      "outputs": [
        {
          "output_type": "display_data",
          "data": {
            "application/vnd.plotly.v1+json": {
              "config": {
                "plotlyServerURL": "https://plot.ly"
              },
              "data": [
                {
                  "line": {
                    "color": "blue"
                  },
                  "name": "Export",
                  "type": "scatter",
                  "x": [
                    1870,
                    1870,
                    1871,
                    1871,
                    1872,
                    1872,
                    1873,
                    1873,
                    1874,
                    1874,
                    1875,
                    1875,
                    1876,
                    1876,
                    1877,
                    1877,
                    1878,
                    1878,
                    1879,
                    1879,
                    1880,
                    1880,
                    1881,
                    1881,
                    1882,
                    1882,
                    1883,
                    1883,
                    1884,
                    1884,
                    1885,
                    1885,
                    1886,
                    1887,
                    1888,
                    1889,
                    1890,
                    1890,
                    1891,
                    1891,
                    1892,
                    1892,
                    1893,
                    1893,
                    1894,
                    1894,
                    1895,
                    1895,
                    1896,
                    1896,
                    1897,
                    1897,
                    1898,
                    1898,
                    1899,
                    1899,
                    1900,
                    1900,
                    1901,
                    1901,
                    1902,
                    1902,
                    1903,
                    1903,
                    1904,
                    1904,
                    1905,
                    1905,
                    1906,
                    1906,
                    1907,
                    1907,
                    1908,
                    1908,
                    1909,
                    1909,
                    1910,
                    1910,
                    1911,
                    1911,
                    1912,
                    1912,
                    1913,
                    1913,
                    1914,
                    1914,
                    1915,
                    1915,
                    1916,
                    1916,
                    1917,
                    1917,
                    1918,
                    1918,
                    1919,
                    1919,
                    1920,
                    1920,
                    1921,
                    1921,
                    1922,
                    1922,
                    1923,
                    1923,
                    1924,
                    1924,
                    1925,
                    1925,
                    1926,
                    1926,
                    1927,
                    1927,
                    1928,
                    1928,
                    1929,
                    1929,
                    1930,
                    1930,
                    1931,
                    1931,
                    1932,
                    1932,
                    1933,
                    1933,
                    1934,
                    1934,
                    1935,
                    1935,
                    1936,
                    1936,
                    1937,
                    1937,
                    1938,
                    1938,
                    1939,
                    1939,
                    1940,
                    1940,
                    1941,
                    1941,
                    1942,
                    1942,
                    1943,
                    1943,
                    1944,
                    1944,
                    1945,
                    1945,
                    1946,
                    1946,
                    1947,
                    1947,
                    1948,
                    1948,
                    1949,
                    1949,
                    1950,
                    1950,
                    1951,
                    1951,
                    1952,
                    1952,
                    1953,
                    1953,
                    1954,
                    1954,
                    1955,
                    1955,
                    1956,
                    1956,
                    1957,
                    1957,
                    1958,
                    1958,
                    1959,
                    1959,
                    1960,
                    1960,
                    1961,
                    1961,
                    1962,
                    1962,
                    1963,
                    1963,
                    1964,
                    1964,
                    1965,
                    1965,
                    1966,
                    1966,
                    1967,
                    1967,
                    1968,
                    1968,
                    1969,
                    1969,
                    1970,
                    1970,
                    1971,
                    1971,
                    1972,
                    1972,
                    1973,
                    1973,
                    1974,
                    1974,
                    1975,
                    1975,
                    1976,
                    1976,
                    1977,
                    1977,
                    1978,
                    1978,
                    1979,
                    1979,
                    1980,
                    1980,
                    1981,
                    1981,
                    1982,
                    1982,
                    1983,
                    1983,
                    1984,
                    1984,
                    1985,
                    1985,
                    1986,
                    1986,
                    1987,
                    1987,
                    1988,
                    1988,
                    1989,
                    1989,
                    1990,
                    1990,
                    1991,
                    1991,
                    1992,
                    1992,
                    1993,
                    1993,
                    1994,
                    1994,
                    1995,
                    1995,
                    1996,
                    1996,
                    1997,
                    1997,
                    1998,
                    1998,
                    1999,
                    1999,
                    2000,
                    2000,
                    2001,
                    2001,
                    2002,
                    2002,
                    2003,
                    2003,
                    2004,
                    2004,
                    2005,
                    2005,
                    2006,
                    2006,
                    2007,
                    2007,
                    2008,
                    2008,
                    2009,
                    2009,
                    2010,
                    2010,
                    2011,
                    2011,
                    2012,
                    2012,
                    2013,
                    2013,
                    2014,
                    2014
                  ],
                  "y": [
                    0,
                    0,
                    2.597402763077139,
                    2.3413352530621823,
                    1.9156510976619634,
                    13.745789543497743,
                    3.1086985593843375,
                    0.9803868294957274,
                    0,
                    -5.184878382513258,
                    0,
                    -0.7734657072602402,
                    0,
                    2.6664607493250947,
                    0,
                    -13.669929480254417,
                    0,
                    -7.935805387801542,
                    2.8747219035660354,
                    11.428571749317396,
                    1.9961575536461496,
                    13.34184912355132,
                    2.818175102792564,
                    0,
                    2.460856099714337,
                    1.4957264957264904,
                    1.815004707994472,
                    6.428566084881382,
                    -2.9166666666666674,
                    -5.697613474358338,
                    -0.36310385768322795,
                    -4.455340657122031,
                    4.15472565240953,
                    3.643827193104343,
                    5.019309511800474,
                    6.380757184825292,
                    4.0254784535074695,
                    -20.6320232953769,
                    1.754316262808131,
                    8.47462687648093,
                    -1.521666949332745,
                    -4.042613266620416,
                    0.5483481045149508,
                    -19.589478931556094,
                    -4.054834488232939,
                    -2.5996440424455702,
                    6.84958103319786,
                    2.9411792755126953,
                    0.8064508376087076,
                    -6.722030374718341,
                    4.980187785299006,
                    8.031104455510507,
                    1.396472600640175,
                    -0.7789348041422564,
                    5.434140668160802,
                    0.2517741785424965,
                    9.21787783979109,
                    -9.751607211584995,
                    -1.9800009790695294,
                    2.1978023164212823,
                    6.152136544917031,
                    -12.903226487883835,
                    6.3068084196234775,
                    0.34346054702316664,
                    4.139439450026461,
                    4.2703872199113535,
                    7.768093690719957,
                    1.0890481030303822,
                    5.591256573615833,
                    0,
                    4.4910192498173185,
                    -15.34151341360247,
                    -3.135020485507045,
                    95.45454028224185,
                    8.22216824842542,
                    4.682404796602668,
                    7.562027097007373,
                    15.280740237647528,
                    2.453174988775164,
                    0.9858163805513409,
                    10.885148391191123,
                    0.6711411437259951,
                    5.271730821465526,
                    0.06749954203033592,
                    -3.484018028706198,
                    -8.972230883086512,
                    11.37506155962762,
                    0,
                    10.427588747258799,
                    0,
                    0,
                    0,
                    0,
                    0,
                    13.036621597964015,
                    0,
                    0,
                    0,
                    -22.351353358826508,
                    -22.154127462920858,
                    10.363201476006623,
                    54.110358655091176,
                    12.030479574656594,
                    -12.100948495973062,
                    17.11300890560048,
                    3.7869601234220784,
                    12.373763843693485,
                    18.218842118502486,
                    -0.41407893329660217,
                    -0.007094828438714007,
                    8.62858883979889,
                    -6.981197466159339,
                    4.693251082601035,
                    0,
                    0.8610562178689607,
                    0,
                    -14.38301709476314,
                    0,
                    -25.84342883430302,
                    -0.7930967096395958,
                    -34.57035783355748,
                    -29.887261635063055,
                    6.730371761416998,
                    7.03250397619854,
                    32.16981640527165,
                    20.991254069885002,
                    5.5837619730987775,
                    -9.879519913466106,
                    10.695183313606439,
                    0,
                    20.169214495574096,
                    16.14677189788829,
                    -9.999995636939884,
                    -31.72683605913551,
                    2.7297014652278184,
                    -1.965979076362001,
                    0,
                    -16.190693606352077,
                    6.45395758745112,
                    0,
                    2.507833067973886,
                    30.347352938366434,
                    22.406017332148732,
                    0,
                    0,
                    0,
                    0,
                    0,
                    44.71613293398274,
                    96.96162830219792,
                    29.07381023701803,
                    46.17287274030627,
                    19.987940203321497,
                    24.376269174616304,
                    0.2525252525252486,
                    5.871028281555635,
                    6.669407894736845,
                    6.557377049180335,
                    22.034555572040016,
                    23.919305632768694,
                    0,
                    -6.954528085594191,
                    0,
                    2.0497192094103833,
                    6.415092420278112,
                    1.313503288583595,
                    8.525623099908497,
                    14.645669291338592,
                    9.284726981999537,
                    -2.11504030048677,
                    6.666666666666665,
                    -3.0303030303030276,
                    0.6200426922826408,
                    1.0570824524312794,
                    8.130081300813007,
                    6.7137809187279185,
                    0,
                    0,
                    2.064666926373193,
                    -3.255264288783838,
                    4.669974115616915,
                    2.5291827407954437,
                    9.80753774302161,
                    11.173018403129976,
                    9.981851179673317,
                    0,
                    5.940594059405946,
                    -2.0244821448421826,
                    6.67046750285063,
                    5.541129067381878,
                    4.333760987124324,
                    -4.973213230225726,
                    9.05454000967918,
                    8.5007006071929,
                    10.633629755791507,
                    7.4819672131147374,
                    11.334985776104078,
                    5.307289185326347,
                    8.0204514883372,
                    3.1634894257166257,
                    19.930195555099317,
                    10.890615649743975,
                    36.14783998043086,
                    43.08007292251264,
                    33.81465616863261,
                    34.15231027475926,
                    4.339772426567889,
                    -2.889054222429377,
                    14.006518028697833,
                    10.411652221894506,
                    17.00646235639207,
                    11.723507917174182,
                    13.267608075996895,
                    1.4455995979647085,
                    24.533703909920447,
                    27.327690447400244,
                    17.564868486597838,
                    17.901582982200114,
                    -4.977840233488273,
                    -28.452809263127936,
                    -6.213729653220157,
                    -6.810850827560689,
                    -1.3554036488333754,
                    -0.5154969262294973,
                    5.449805065172453,
                    4.0429518165093,
                    1.1569815061013067,
                    -5.379397996853275,
                    5.054854021021038,
                    -7.195730336020762,
                    14.006675198875751,
                    12.367078998689385,
                    12.511089230833905,
                    3.2172991731222567,
                    7.341715063287069,
                    8.657410703690527,
                    12.325480709841784,
                    12.007522899632306,
                    0,
                    0.38077680840877814,
                    5.328129059325748,
                    0,
                    0,
                    4.246778621387259,
                    13.058675276927534,
                    13.572021301488668,
                    17.384900992493858,
                    18.818380743982498,
                    6.6649228705566665,
                    6.702951877746965,
                    1.5757185053463463,
                    12.968403353673374,
                    -0.35690335639582127,
                    0,
                    2.677613583651184,
                    0.026255728650481647,
                    8.885851105250463,
                    18.386244073492698,
                    0.519821329112391,
                    -5.1853783226024905,
                    4.833881511359173,
                    13.053078692220922,
                    17.83918415907506,
                    8.712561615955394,
                    20.909830797901527,
                    15.504937243890737,
                    13.578298334096782,
                    27.839603402075852,
                    16.681909568188715,
                    13.983731542230293,
                    16.555338135687947,
                    11.109867368908377,
                    15.5625516628223,
                    32.02282218561141,
                    -21.490042317021217,
                    -4.166941954736786,
                    19.49299830213491,
                    22.750123380454912,
                    22.03536696579714,
                    14.203844460327986,
                    -0.20944511447862357,
                    11.129593430605933,
                    2.908916616931023,
                    -10.35899417849348,
                    0.7770752574425943,
                    -3.8728940485999397
                  ]
                },
                {
                  "line": {
                    "color": "red"
                  },
                  "name": "Import",
                  "type": "scatter",
                  "x": [
                    1870,
                    1870,
                    1871,
                    1871,
                    1872,
                    1872,
                    1873,
                    1873,
                    1874,
                    1874,
                    1875,
                    1875,
                    1876,
                    1876,
                    1877,
                    1877,
                    1878,
                    1878,
                    1879,
                    1879,
                    1880,
                    1880,
                    1881,
                    1881,
                    1882,
                    1882,
                    1883,
                    1883,
                    1884,
                    1884,
                    1885,
                    1885,
                    1886,
                    1887,
                    1888,
                    1889,
                    1890,
                    1890,
                    1891,
                    1891,
                    1892,
                    1892,
                    1893,
                    1893,
                    1894,
                    1894,
                    1895,
                    1895,
                    1896,
                    1896,
                    1897,
                    1897,
                    1898,
                    1898,
                    1899,
                    1899,
                    1900,
                    1900,
                    1901,
                    1901,
                    1902,
                    1902,
                    1903,
                    1903,
                    1904,
                    1904,
                    1905,
                    1905,
                    1906,
                    1906,
                    1907,
                    1907,
                    1908,
                    1908,
                    1909,
                    1909,
                    1910,
                    1910,
                    1911,
                    1911,
                    1912,
                    1912,
                    1913,
                    1913,
                    1914,
                    1914,
                    1915,
                    1915,
                    1916,
                    1916,
                    1917,
                    1917,
                    1918,
                    1918,
                    1919,
                    1919,
                    1920,
                    1920,
                    1921,
                    1921,
                    1922,
                    1922,
                    1923,
                    1923,
                    1924,
                    1924,
                    1925,
                    1925,
                    1926,
                    1926,
                    1927,
                    1927,
                    1928,
                    1928,
                    1929,
                    1929,
                    1930,
                    1930,
                    1931,
                    1931,
                    1932,
                    1932,
                    1933,
                    1933,
                    1934,
                    1934,
                    1935,
                    1935,
                    1936,
                    1936,
                    1937,
                    1937,
                    1938,
                    1938,
                    1939,
                    1939,
                    1940,
                    1940,
                    1941,
                    1941,
                    1942,
                    1942,
                    1943,
                    1943,
                    1944,
                    1944,
                    1945,
                    1945,
                    1946,
                    1946,
                    1947,
                    1947,
                    1948,
                    1948,
                    1949,
                    1949,
                    1950,
                    1950,
                    1951,
                    1951,
                    1952,
                    1952,
                    1953,
                    1953,
                    1954,
                    1954,
                    1955,
                    1955,
                    1956,
                    1956,
                    1957,
                    1957,
                    1958,
                    1958,
                    1959,
                    1959,
                    1960,
                    1960,
                    1961,
                    1961,
                    1962,
                    1962,
                    1963,
                    1963,
                    1964,
                    1964,
                    1965,
                    1965,
                    1966,
                    1966,
                    1967,
                    1967,
                    1968,
                    1968,
                    1969,
                    1969,
                    1970,
                    1970,
                    1971,
                    1971,
                    1972,
                    1972,
                    1973,
                    1973,
                    1974,
                    1974,
                    1975,
                    1975,
                    1976,
                    1976,
                    1977,
                    1977,
                    1978,
                    1978,
                    1979,
                    1979,
                    1980,
                    1980,
                    1981,
                    1981,
                    1982,
                    1982,
                    1983,
                    1983,
                    1984,
                    1984,
                    1985,
                    1985,
                    1986,
                    1986,
                    1987,
                    1987,
                    1988,
                    1988,
                    1989,
                    1989,
                    1990,
                    1990,
                    1991,
                    1991,
                    1992,
                    1992,
                    1993,
                    1993,
                    1994,
                    1994,
                    1995,
                    1995,
                    1996,
                    1996,
                    1997,
                    1997,
                    1998,
                    1998,
                    1999,
                    1999,
                    2000,
                    2000,
                    2001,
                    2001,
                    2002,
                    2002,
                    2003,
                    2003,
                    2004,
                    2004,
                    2005,
                    2005,
                    2006,
                    2006,
                    2007,
                    2007,
                    2008,
                    2008,
                    2009,
                    2009,
                    2010,
                    2010,
                    2011,
                    2011,
                    2012,
                    2012,
                    2013,
                    2013,
                    2014,
                    2014
                  ],
                  "y": [
                    0,
                    0,
                    1.9756647981373998,
                    6.553347257692788,
                    1.9300148192909816,
                    -2.7419402239397317,
                    0,
                    -1.0306197131246808,
                    0,
                    -2.7777832211241416,
                    1.1345420956365482,
                    0.6134887082753449,
                    -0.750947648049094,
                    0.8928571428571397,
                    0,
                    2.9224206827861976,
                    0.25986569181757346,
                    4.519194243248326,
                    4.28724837829686,
                    1.8348694489809692,
                    2.8084401513264856,
                    -2.673811345438232,
                    3.1103235417301756,
                    0,
                    4.080313018653081,
                    2.015113350125941,
                    1.944142614162514,
                    6.481478692409337,
                    0.5526291696648755,
                    -3.474063651258874,
                    -5.516787495911679,
                    -6.3630907633753,
                    7.392604937041258,
                    3.8870361862711977,
                    5.86557973107793,
                    5.97870221093888,
                    2.1924011030161727,
                    5.380955690842104,
                    4.0190628770778165,
                    -1.2409418210120204,
                    -5.079053008854295,
                    -14.461964109846985,
                    3.0635394505886815,
                    -1.3221162972580802,
                    0,
                    23.02268884472516,
                    5.189437074855352,
                    -7.837841693130676,
                    7.407413494440052,
                    9.625722768662792,
                    2.036199095022617,
                    -0.7677547591614098,
                    7.931647593173863,
                    -3.2156300892138505,
                    2.2383452054323794,
                    -13.271604612385612,
                    5.077420009074607,
                    2.461055624325259,
                    -1.2411396308063594,
                    1.8181768716859947,
                    2.6653224014676624,
                    -20.382166242709754,
                    6.1452460407926734,
                    -0.28753362491498735,
                    6.189560172636477,
                    0,
                    10.715174132802652,
                    29.84702165143105,
                    5.951911853496961,
                    0,
                    8.508371451082986,
                    -9.544775665217392,
                    -3.377055776145721,
                    29.411769903242302,
                    0.6675593092494769,
                    14.833122668983268,
                    14.00586557836806,
                    13.915912563007282,
                    9.600615110196541,
                    4.5464594233651345,
                    10.130291169500705,
                    -3.203211884848123,
                    6.6419559601546,
                    0,
                    -14.84839269747788,
                    -7.40678643368639,
                    -5.274051163469151,
                    0,
                    34.76770963230103,
                    0,
                    8.242344601360285,
                    0,
                    0,
                    0,
                    27.988799782950956,
                    0,
                    0,
                    0,
                    -21.403808562481252,
                    -51.706174266559465,
                    -0.7688603723965848,
                    15.692200793488919,
                    14.311198926703694,
                    1.5953498396884092,
                    11.96750604824237,
                    7.700319991981641,
                    13.019846250366651,
                    17.61860033882273,
                    -1.8941223371068738,
                    1.3169372829723636,
                    4.481126516049705,
                    -14.721013109440229,
                    6.366911919235352,
                    5.409165081117506,
                    2.455337629448562,
                    0,
                    -17.777133281429723,
                    0,
                    -24.83439705873759,
                    7.182377879650637,
                    -35.545131083998385,
                    -33.87713443149346,
                    5.585872656143387,
                    25.155243688593586,
                    33.31636733940249,
                    29.970601679380614,
                    8.455729284027802,
                    -2.0900873982221513,
                    12.093415978836685,
                    -2.0979020979020935,
                    22.64150943396226,
                    23.61153668524627,
                    -5.143307276093484,
                    -23.365799008051365,
                    -3.684611798451864,
                    -5.984831653724915,
                    0,
                    -4.596117759863527,
                    4.625501996548643,
                    0,
                    0.9508752826110412,
                    13.457555774185215,
                    11.727072647919412,
                    1.3836099231095966,
                    0,
                    0,
                    3.2883652268770103,
                    0,
                    51.643779961850555,
                    82.00317498905628,
                    47.79277118232527,
                    2.8301813798515596,
                    11.333454299678248,
                    10.940338755640822,
                    -2.4256724959413054,
                    1.5090543027904024,
                    0.18967783079494316,
                    -1.7482517482517501,
                    30.537567253497766,
                    35.976430976430976,
                    3.6845984616396654,
                    -1.5789473684210575,
                    0.05959384523387401,
                    0.3333223975591382,
                    5.89887640449438,
                    -1.2058037534565966,
                    11.576451995258786,
                    0.49099836333879043,
                    11.139240506329106,
                    6.395672905066851,
                    10.874939959116347,
                    -7.4074074074074066,
                    -2.7013410861283726,
                    -4.88522660388464,
                    4.891304347826098,
                    3.5785754691065597,
                    0,
                    20.778433152904498,
                    0,
                    1.8992248062015493,
                    1.797540208136228,
                    -0.24136650575566354,
                    3.592525627722787,
                    0,
                    9.019823788546244,
                    0,
                    4.650337238196678,
                    4.702789985255029,
                    6.419350262448575,
                    6.421356421356417,
                    1.6856492027334857,
                    -6.994950931588678,
                    4.126014324537486,
                    7.875354107648724,
                    7.686047720967048,
                    4.714700193423593,
                    13.355082030913668,
                    11.170848423151924,
                    10.140570101882718,
                    6.207073343306635,
                    11.000752127259306,
                    3.6891301955132683,
                    32.04991890449052,
                    24.802951088126225,
                    41.425922153436446,
                    79.46567963976872,
                    6.127358077966005,
                    9.138560935214578,
                    4.486042963757053,
                    0.15779907856610098,
                    14.902808308230519,
                    12.451662799690633,
                    12.68196536674644,
                    8.917927556166894,
                    22.15896427871118,
                    20.53216654880965,
                    20.47471214405505,
                    22.402282831846197,
                    0,
                    4.7750348238456475,
                    -4.978354978354993,
                    -12.356640769515348,
                    -4.908826820028656,
                    1.2225149846487815,
                    0.9436927304068421,
                    0.34546267293278365,
                    1.5816863903987732,
                    -0.746971422626741,
                    1.597020390633952,
                    -2.402551598516578,
                    11.56579119956842,
                    12.404396555870889,
                    10.378189595571863,
                    3.0390232945064266,
                    7.406371713510951,
                    5.639801970385472,
                    12.126051781062074,
                    12.225235527283274,
                    0.038896326710924356,
                    -0.3700821097595397,
                    5.498511328848544,
                    4.7032980731934515,
                    0,
                    12.39064478230112,
                    11.417420186462191,
                    7.4479273832132264,
                    19.929776669376565,
                    15.764287203188276,
                    5.509396053042304,
                    2.8404893974434575,
                    0.8821420752159082,
                    0.8913715318553006,
                    3.2177408600152058,
                    2.103616952876186,
                    0,
                    0.2996422940833465,
                    4.120270030001327,
                    2.802564029177479,
                    0.9764365491304661,
                    -2.2993888433790968,
                    4.208350023498797,
                    13.98170036059241,
                    17.262979324151708,
                    14.400980057085878,
                    20.4765940234237,
                    35.43650806020603,
                    14.990553289457221,
                    20.465546830839475,
                    15.435443058055153,
                    15.830574360197591,
                    18.880393052385447,
                    18.346399303927598,
                    22.619667423670187,
                    28.546763514825855,
                    -20.82604880000026,
                    -19.267499848757463,
                    14.744752840660546,
                    15.91930991800119,
                    19.91876226404741,
                    25.78395333914547,
                    2.1127215729602966,
                    6.229612189895151,
                    3.1460011893799544,
                    12.856951986336785,
                    1.845713832536633,
                    -2.9809503735211518
                  ]
                }
              ],
              "layout": {
                "height": 600,
                "legend": {
                  "orientation": "h",
                  "x": 1,
                  "xanchor": "right",
                  "y": 1.02,
                  "yanchor": "bottom"
                },
                "template": {
                  "data": {
                    "bar": [
                      {
                        "error_x": {
                          "color": "#2a3f5f"
                        },
                        "error_y": {
                          "color": "#2a3f5f"
                        },
                        "marker": {
                          "line": {
                            "color": "#E5ECF6",
                            "width": 0.5
                          }
                        },
                        "type": "bar"
                      }
                    ],
                    "barpolar": [
                      {
                        "marker": {
                          "line": {
                            "color": "#E5ECF6",
                            "width": 0.5
                          }
                        },
                        "type": "barpolar"
                      }
                    ],
                    "carpet": [
                      {
                        "aaxis": {
                          "endlinecolor": "#2a3f5f",
                          "gridcolor": "white",
                          "linecolor": "white",
                          "minorgridcolor": "white",
                          "startlinecolor": "#2a3f5f"
                        },
                        "baxis": {
                          "endlinecolor": "#2a3f5f",
                          "gridcolor": "white",
                          "linecolor": "white",
                          "minorgridcolor": "white",
                          "startlinecolor": "#2a3f5f"
                        },
                        "type": "carpet"
                      }
                    ],
                    "choropleth": [
                      {
                        "colorbar": {
                          "outlinewidth": 0,
                          "ticks": ""
                        },
                        "type": "choropleth"
                      }
                    ],
                    "contour": [
                      {
                        "colorbar": {
                          "outlinewidth": 0,
                          "ticks": ""
                        },
                        "colorscale": [
                          [
                            0,
                            "#0d0887"
                          ],
                          [
                            0.1111111111111111,
                            "#46039f"
                          ],
                          [
                            0.2222222222222222,
                            "#7201a8"
                          ],
                          [
                            0.3333333333333333,
                            "#9c179e"
                          ],
                          [
                            0.4444444444444444,
                            "#bd3786"
                          ],
                          [
                            0.5555555555555556,
                            "#d8576b"
                          ],
                          [
                            0.6666666666666666,
                            "#ed7953"
                          ],
                          [
                            0.7777777777777778,
                            "#fb9f3a"
                          ],
                          [
                            0.8888888888888888,
                            "#fdca26"
                          ],
                          [
                            1,
                            "#f0f921"
                          ]
                        ],
                        "type": "contour"
                      }
                    ],
                    "contourcarpet": [
                      {
                        "colorbar": {
                          "outlinewidth": 0,
                          "ticks": ""
                        },
                        "type": "contourcarpet"
                      }
                    ],
                    "heatmap": [
                      {
                        "colorbar": {
                          "outlinewidth": 0,
                          "ticks": ""
                        },
                        "colorscale": [
                          [
                            0,
                            "#0d0887"
                          ],
                          [
                            0.1111111111111111,
                            "#46039f"
                          ],
                          [
                            0.2222222222222222,
                            "#7201a8"
                          ],
                          [
                            0.3333333333333333,
                            "#9c179e"
                          ],
                          [
                            0.4444444444444444,
                            "#bd3786"
                          ],
                          [
                            0.5555555555555556,
                            "#d8576b"
                          ],
                          [
                            0.6666666666666666,
                            "#ed7953"
                          ],
                          [
                            0.7777777777777778,
                            "#fb9f3a"
                          ],
                          [
                            0.8888888888888888,
                            "#fdca26"
                          ],
                          [
                            1,
                            "#f0f921"
                          ]
                        ],
                        "type": "heatmap"
                      }
                    ],
                    "heatmapgl": [
                      {
                        "colorbar": {
                          "outlinewidth": 0,
                          "ticks": ""
                        },
                        "colorscale": [
                          [
                            0,
                            "#0d0887"
                          ],
                          [
                            0.1111111111111111,
                            "#46039f"
                          ],
                          [
                            0.2222222222222222,
                            "#7201a8"
                          ],
                          [
                            0.3333333333333333,
                            "#9c179e"
                          ],
                          [
                            0.4444444444444444,
                            "#bd3786"
                          ],
                          [
                            0.5555555555555556,
                            "#d8576b"
                          ],
                          [
                            0.6666666666666666,
                            "#ed7953"
                          ],
                          [
                            0.7777777777777778,
                            "#fb9f3a"
                          ],
                          [
                            0.8888888888888888,
                            "#fdca26"
                          ],
                          [
                            1,
                            "#f0f921"
                          ]
                        ],
                        "type": "heatmapgl"
                      }
                    ],
                    "histogram": [
                      {
                        "marker": {
                          "colorbar": {
                            "outlinewidth": 0,
                            "ticks": ""
                          }
                        },
                        "type": "histogram"
                      }
                    ],
                    "histogram2d": [
                      {
                        "colorbar": {
                          "outlinewidth": 0,
                          "ticks": ""
                        },
                        "colorscale": [
                          [
                            0,
                            "#0d0887"
                          ],
                          [
                            0.1111111111111111,
                            "#46039f"
                          ],
                          [
                            0.2222222222222222,
                            "#7201a8"
                          ],
                          [
                            0.3333333333333333,
                            "#9c179e"
                          ],
                          [
                            0.4444444444444444,
                            "#bd3786"
                          ],
                          [
                            0.5555555555555556,
                            "#d8576b"
                          ],
                          [
                            0.6666666666666666,
                            "#ed7953"
                          ],
                          [
                            0.7777777777777778,
                            "#fb9f3a"
                          ],
                          [
                            0.8888888888888888,
                            "#fdca26"
                          ],
                          [
                            1,
                            "#f0f921"
                          ]
                        ],
                        "type": "histogram2d"
                      }
                    ],
                    "histogram2dcontour": [
                      {
                        "colorbar": {
                          "outlinewidth": 0,
                          "ticks": ""
                        },
                        "colorscale": [
                          [
                            0,
                            "#0d0887"
                          ],
                          [
                            0.1111111111111111,
                            "#46039f"
                          ],
                          [
                            0.2222222222222222,
                            "#7201a8"
                          ],
                          [
                            0.3333333333333333,
                            "#9c179e"
                          ],
                          [
                            0.4444444444444444,
                            "#bd3786"
                          ],
                          [
                            0.5555555555555556,
                            "#d8576b"
                          ],
                          [
                            0.6666666666666666,
                            "#ed7953"
                          ],
                          [
                            0.7777777777777778,
                            "#fb9f3a"
                          ],
                          [
                            0.8888888888888888,
                            "#fdca26"
                          ],
                          [
                            1,
                            "#f0f921"
                          ]
                        ],
                        "type": "histogram2dcontour"
                      }
                    ],
                    "mesh3d": [
                      {
                        "colorbar": {
                          "outlinewidth": 0,
                          "ticks": ""
                        },
                        "type": "mesh3d"
                      }
                    ],
                    "parcoords": [
                      {
                        "line": {
                          "colorbar": {
                            "outlinewidth": 0,
                            "ticks": ""
                          }
                        },
                        "type": "parcoords"
                      }
                    ],
                    "pie": [
                      {
                        "automargin": true,
                        "type": "pie"
                      }
                    ],
                    "scatter": [
                      {
                        "marker": {
                          "colorbar": {
                            "outlinewidth": 0,
                            "ticks": ""
                          }
                        },
                        "type": "scatter"
                      }
                    ],
                    "scatter3d": [
                      {
                        "line": {
                          "colorbar": {
                            "outlinewidth": 0,
                            "ticks": ""
                          }
                        },
                        "marker": {
                          "colorbar": {
                            "outlinewidth": 0,
                            "ticks": ""
                          }
                        },
                        "type": "scatter3d"
                      }
                    ],
                    "scattercarpet": [
                      {
                        "marker": {
                          "colorbar": {
                            "outlinewidth": 0,
                            "ticks": ""
                          }
                        },
                        "type": "scattercarpet"
                      }
                    ],
                    "scattergeo": [
                      {
                        "marker": {
                          "colorbar": {
                            "outlinewidth": 0,
                            "ticks": ""
                          }
                        },
                        "type": "scattergeo"
                      }
                    ],
                    "scattergl": [
                      {
                        "marker": {
                          "colorbar": {
                            "outlinewidth": 0,
                            "ticks": ""
                          }
                        },
                        "type": "scattergl"
                      }
                    ],
                    "scattermapbox": [
                      {
                        "marker": {
                          "colorbar": {
                            "outlinewidth": 0,
                            "ticks": ""
                          }
                        },
                        "type": "scattermapbox"
                      }
                    ],
                    "scatterpolar": [
                      {
                        "marker": {
                          "colorbar": {
                            "outlinewidth": 0,
                            "ticks": ""
                          }
                        },
                        "type": "scatterpolar"
                      }
                    ],
                    "scatterpolargl": [
                      {
                        "marker": {
                          "colorbar": {
                            "outlinewidth": 0,
                            "ticks": ""
                          }
                        },
                        "type": "scatterpolargl"
                      }
                    ],
                    "scatterternary": [
                      {
                        "marker": {
                          "colorbar": {
                            "outlinewidth": 0,
                            "ticks": ""
                          }
                        },
                        "type": "scatterternary"
                      }
                    ],
                    "surface": [
                      {
                        "colorbar": {
                          "outlinewidth": 0,
                          "ticks": ""
                        },
                        "colorscale": [
                          [
                            0,
                            "#0d0887"
                          ],
                          [
                            0.1111111111111111,
                            "#46039f"
                          ],
                          [
                            0.2222222222222222,
                            "#7201a8"
                          ],
                          [
                            0.3333333333333333,
                            "#9c179e"
                          ],
                          [
                            0.4444444444444444,
                            "#bd3786"
                          ],
                          [
                            0.5555555555555556,
                            "#d8576b"
                          ],
                          [
                            0.6666666666666666,
                            "#ed7953"
                          ],
                          [
                            0.7777777777777778,
                            "#fb9f3a"
                          ],
                          [
                            0.8888888888888888,
                            "#fdca26"
                          ],
                          [
                            1,
                            "#f0f921"
                          ]
                        ],
                        "type": "surface"
                      }
                    ],
                    "table": [
                      {
                        "cells": {
                          "fill": {
                            "color": "#EBF0F8"
                          },
                          "line": {
                            "color": "white"
                          }
                        },
                        "header": {
                          "fill": {
                            "color": "#C8D4E3"
                          },
                          "line": {
                            "color": "white"
                          }
                        },
                        "type": "table"
                      }
                    ]
                  },
                  "layout": {
                    "annotationdefaults": {
                      "arrowcolor": "#2a3f5f",
                      "arrowhead": 0,
                      "arrowwidth": 1
                    },
                    "autotypenumbers": "strict",
                    "coloraxis": {
                      "colorbar": {
                        "outlinewidth": 0,
                        "ticks": ""
                      }
                    },
                    "colorscale": {
                      "diverging": [
                        [
                          0,
                          "#8e0152"
                        ],
                        [
                          0.1,
                          "#c51b7d"
                        ],
                        [
                          0.2,
                          "#de77ae"
                        ],
                        [
                          0.3,
                          "#f1b6da"
                        ],
                        [
                          0.4,
                          "#fde0ef"
                        ],
                        [
                          0.5,
                          "#f7f7f7"
                        ],
                        [
                          0.6,
                          "#e6f5d0"
                        ],
                        [
                          0.7,
                          "#b8e186"
                        ],
                        [
                          0.8,
                          "#7fbc41"
                        ],
                        [
                          0.9,
                          "#4d9221"
                        ],
                        [
                          1,
                          "#276419"
                        ]
                      ],
                      "sequential": [
                        [
                          0,
                          "#0d0887"
                        ],
                        [
                          0.1111111111111111,
                          "#46039f"
                        ],
                        [
                          0.2222222222222222,
                          "#7201a8"
                        ],
                        [
                          0.3333333333333333,
                          "#9c179e"
                        ],
                        [
                          0.4444444444444444,
                          "#bd3786"
                        ],
                        [
                          0.5555555555555556,
                          "#d8576b"
                        ],
                        [
                          0.6666666666666666,
                          "#ed7953"
                        ],
                        [
                          0.7777777777777778,
                          "#fb9f3a"
                        ],
                        [
                          0.8888888888888888,
                          "#fdca26"
                        ],
                        [
                          1,
                          "#f0f921"
                        ]
                      ],
                      "sequentialminus": [
                        [
                          0,
                          "#0d0887"
                        ],
                        [
                          0.1111111111111111,
                          "#46039f"
                        ],
                        [
                          0.2222222222222222,
                          "#7201a8"
                        ],
                        [
                          0.3333333333333333,
                          "#9c179e"
                        ],
                        [
                          0.4444444444444444,
                          "#bd3786"
                        ],
                        [
                          0.5555555555555556,
                          "#d8576b"
                        ],
                        [
                          0.6666666666666666,
                          "#ed7953"
                        ],
                        [
                          0.7777777777777778,
                          "#fb9f3a"
                        ],
                        [
                          0.8888888888888888,
                          "#fdca26"
                        ],
                        [
                          1,
                          "#f0f921"
                        ]
                      ]
                    },
                    "colorway": [
                      "#636efa",
                      "#EF553B",
                      "#00cc96",
                      "#ab63fa",
                      "#FFA15A",
                      "#19d3f3",
                      "#FF6692",
                      "#B6E880",
                      "#FF97FF",
                      "#FECB52"
                    ],
                    "font": {
                      "color": "#2a3f5f"
                    },
                    "geo": {
                      "bgcolor": "white",
                      "lakecolor": "white",
                      "landcolor": "#E5ECF6",
                      "showlakes": true,
                      "showland": true,
                      "subunitcolor": "white"
                    },
                    "hoverlabel": {
                      "align": "left"
                    },
                    "hovermode": "closest",
                    "mapbox": {
                      "style": "light"
                    },
                    "paper_bgcolor": "white",
                    "plot_bgcolor": "#E5ECF6",
                    "polar": {
                      "angularaxis": {
                        "gridcolor": "white",
                        "linecolor": "white",
                        "ticks": ""
                      },
                      "bgcolor": "#E5ECF6",
                      "radialaxis": {
                        "gridcolor": "white",
                        "linecolor": "white",
                        "ticks": ""
                      }
                    },
                    "scene": {
                      "xaxis": {
                        "backgroundcolor": "#E5ECF6",
                        "gridcolor": "white",
                        "gridwidth": 2,
                        "linecolor": "white",
                        "showbackground": true,
                        "ticks": "",
                        "zerolinecolor": "white"
                      },
                      "yaxis": {
                        "backgroundcolor": "#E5ECF6",
                        "gridcolor": "white",
                        "gridwidth": 2,
                        "linecolor": "white",
                        "showbackground": true,
                        "ticks": "",
                        "zerolinecolor": "white"
                      },
                      "zaxis": {
                        "backgroundcolor": "#E5ECF6",
                        "gridcolor": "white",
                        "gridwidth": 2,
                        "linecolor": "white",
                        "showbackground": true,
                        "ticks": "",
                        "zerolinecolor": "white"
                      }
                    },
                    "shapedefaults": {
                      "line": {
                        "color": "#2a3f5f"
                      }
                    },
                    "ternary": {
                      "aaxis": {
                        "gridcolor": "white",
                        "linecolor": "white",
                        "ticks": ""
                      },
                      "baxis": {
                        "gridcolor": "white",
                        "linecolor": "white",
                        "ticks": ""
                      },
                      "bgcolor": "#E5ECF6",
                      "caxis": {
                        "gridcolor": "white",
                        "linecolor": "white",
                        "ticks": ""
                      }
                    },
                    "title": {
                      "x": 0.05
                    },
                    "xaxis": {
                      "automargin": true,
                      "gridcolor": "white",
                      "linecolor": "white",
                      "ticks": "",
                      "title": {
                        "standoff": 15
                      },
                      "zerolinecolor": "white",
                      "zerolinewidth": 2
                    },
                    "yaxis": {
                      "automargin": true,
                      "gridcolor": "white",
                      "linecolor": "white",
                      "ticks": "",
                      "title": {
                        "standoff": 15
                      },
                      "zerolinecolor": "white",
                      "zerolinewidth": 2
                    }
                  }
                },
                "title": {
                  "text": "Global trade over years"
                },
                "width": 950,
                "xaxis": {
                  "rangeslider": {
                    "visible": true
                  },
                  "title": {
                    "text": "year"
                  },
                  "type": "date"
                },
                "yaxis": {
                  "range": [
                    -60,
                    100
                  ],
                  "title": {
                    "text": "Median % growth from last year between countries"
                  }
                }
              }
            }
          },
          "metadata": {}
        }
      ]
    },
    {
      "cell_type": "code",
      "metadata": {
        "id": "Ymd3lbmy5wiG"
      },
      "source": [
        "# plot war and trade\n",
        "fig = go.Figure()\n",
        "\n",
        "fig.add_trace(go.Scatter(\n",
        "    x=war_trade_year['year'],\n",
        "    y=war_trade_year['q1_imports_growth'],\n",
        "    fill='none',\n",
        "    line_color='rgba(0,0,255,0.2)',\n",
        "    showlegend=False,\n",
        "    name='war',\n",
        "))\n",
        "fig.add_trace(go.Scatter(\n",
        "    x=war_trade_year['year'],\n",
        "    y=war_trade_year['q3_imports_growth'],\n",
        "    fill='tonexty',\n",
        "    fillcolor='rgba(0,0,255,0.2)',\n",
        "    line_color='rgba(0,0,255,0.2)',\n",
        "    showlegend=False,\n",
        "    name='war',\n",
        "))\n",
        "fig.add_trace(go.Scatter(\n",
        "    x=war_trade_year['year'],\n",
        "    y=war_trade_year['median_imports_growth'],\n",
        "    line_color='rgb(0,0,255)',\n",
        "    name='war',\n",
        "))\n",
        "\n",
        "fig.add_trace(go.Scatter(\n",
        "    x=peace_trade_year['year'],\n",
        "    y=peace_trade_year['q1_imports_growth'],\n",
        "    fill='none',\n",
        "    line_color='rgba(255,0,0,0.2)',\n",
        "    showlegend=False,\n",
        "    name='peace',\n",
        "))\n",
        "fig.add_trace(go.Scatter(\n",
        "    x=peace_trade_year['year'],\n",
        "    y=peace_trade_year['q3_imports_growth'],\n",
        "    fill='tonexty',\n",
        "    fillcolor='rgba(255,0,0,0.2)',\n",
        "    line_color='rgba(255,0,0,0.2)',\n",
        "    showlegend=False,\n",
        "    name='peace',\n",
        "))\n",
        "fig.add_trace(go.Scatter(\n",
        "    x=peace_trade_year['year'],\n",
        "    y=peace_trade_year['median_imports_growth'],\n",
        "    line_color='rgb(255,0,0)',\n",
        "    name='peace',\n",
        "))\n",
        "fig.update_layout(\n",
        "    xaxis=dict(\n",
        "        rangeslider=dict(\n",
        "            visible=True\n",
        "        ),\n",
        "        type=\"date\"\n",
        "    ),\n",
        "    legend=custom_hlegend,\n",
        "    title=f\"Impact of war on trade\",\n",
        "    xaxis_title=\"year\",\n",
        "    yaxis_title=\"[25%, Median, 75%] % growth from last year between countries\",\n",
        "    width=FIGURE_WIDTH, \n",
        "    height=FIGURE_HEIGHT\n",
        ")\n",
        "fig.update_yaxes(range=[-100, 100])\n",
        "fig.update_traces(mode='lines')\n",
        "fig.write_html('fig/war_trade.html', include_plotlyjs='cdn', full_html=False)\n",
        "fig.show()"
      ],
      "execution_count": 27,
      "outputs": [
        {
          "output_type": "display_data",
          "data": {
            "application/vnd.plotly.v1+json": {
              "config": {
                "plotlyServerURL": "https://plot.ly"
              },
              "data": [
                {
                  "fill": "none",
                  "line": {
                    "color": "rgba(0,0,255,0.2)"
                  },
                  "mode": "lines",
                  "name": "war",
                  "showlegend": false,
                  "type": "scatter",
                  "x": [
                    1870,
                    1871,
                    1872,
                    1873,
                    1874,
                    1875,
                    1876,
                    1877,
                    1878,
                    1879,
                    1880,
                    1881,
                    1882,
                    1883,
                    1884,
                    1885,
                    1890,
                    1891,
                    1892,
                    1893,
                    1894,
                    1895,
                    1896,
                    1897,
                    1898,
                    1899,
                    1900,
                    1901,
                    1902,
                    1903,
                    1904,
                    1905,
                    1906,
                    1907,
                    1908,
                    1909,
                    1910,
                    1911,
                    1912,
                    1913,
                    1914,
                    1915,
                    1916,
                    1917,
                    1918,
                    1919,
                    1920,
                    1921,
                    1922,
                    1923,
                    1924,
                    1925,
                    1926,
                    1927,
                    1928,
                    1929,
                    1930,
                    1931,
                    1932,
                    1933,
                    1934,
                    1935,
                    1936,
                    1937,
                    1938,
                    1939,
                    1940,
                    1941,
                    1942,
                    1943,
                    1944,
                    1945,
                    1946,
                    1947,
                    1948,
                    1949,
                    1950,
                    1951,
                    1952,
                    1953,
                    1954,
                    1955,
                    1956,
                    1957,
                    1958,
                    1959,
                    1960,
                    1961,
                    1962,
                    1963,
                    1964,
                    1965,
                    1966,
                    1967,
                    1968,
                    1969,
                    1970,
                    1971,
                    1972,
                    1973,
                    1974,
                    1975,
                    1976,
                    1977,
                    1978,
                    1979,
                    1980,
                    1981,
                    1982,
                    1983,
                    1984,
                    1985,
                    1986,
                    1987,
                    1988,
                    1989,
                    1990,
                    1991,
                    1992,
                    1993,
                    1994,
                    1995,
                    1996,
                    1997,
                    1998,
                    1999,
                    2000,
                    2001,
                    2002,
                    2003,
                    2004,
                    2005,
                    2006,
                    2007,
                    2008,
                    2009,
                    2010,
                    2011,
                    2012,
                    2013,
                    2014
                  ],
                  "y": [
                    0,
                    3.0430691009965316,
                    -5.987839273301404,
                    -1.8776957593067023,
                    -12.048552680704066,
                    0.3067443541376724,
                    -1.6602781835174079,
                    -6.849315222099936,
                    -3.8531083586889197,
                    0,
                    -13.130647917070307,
                    0,
                    0,
                    5.308218059586345,
                    -8.539914327375921,
                    -18.54555206643775,
                    5.071430987582887,
                    -3.0187290901246056,
                    -19.692943637915103,
                    -1.3221162972580802,
                    10.051146322033016,
                    -14.321788824266857,
                    -2.5011708770656673,
                    -4.018356432777692,
                    -22.952569466764476,
                    -17.824072935020958,
                    -16.894133191865013,
                    -41.16161880424075,
                    -34.998314544826115,
                    -0.431300437372481,
                    -4.063361139116372,
                    19.19478543811447,
                    -7.11015498822486,
                    -45.817410534384386,
                    7.107844658880519,
                    3.9268218001322244,
                    8.560046790417935,
                    -0.14641786346646657,
                    -9.018050406717315,
                    -7.42386302668708,
                    -21.630997693333143,
                    -1.3040238450074515,
                    0,
                    0,
                    0,
                    0,
                    -18.947752218810948,
                    -56.360390992571666,
                    -0.8282333185010873,
                    -21.40369637160802,
                    1.8553115260103725,
                    15.282726012528519,
                    -1.6794553738792517,
                    -16.459291495095826,
                    0,
                    0,
                    -13.739074696845321,
                    -1.1990468441261424,
                    -44.1964268291584,
                    16.177148448964516,
                    7.788295370836329,
                    -44.83149737375208,
                    -16.864103960567654,
                    0.7483232125507611,
                    -40.88793301239329,
                    -14.417229432729009,
                    -23.002846750082014,
                    -11.835381926113696,
                    -12.8919924293611,
                    0,
                    -17.31653867481232,
                    -11.703887370770222,
                    37.42642206691525,
                    0,
                    2.0602231289634734,
                    -2.4413210756797032,
                    -20.306513409961692,
                    24.03527779260287,
                    -11.681233256985617,
                    -9.414758269720103,
                    -7.774786899955132,
                    -0.5810524945073392,
                    -0.9605711314841309,
                    -7.449003188013325,
                    -17.07822968153998,
                    -8.168316831683164,
                    4.379310344827586,
                    -6.372549019607845,
                    -10.924530566520847,
                    -1.581027667984189,
                    0,
                    -6.460143558745745,
                    -0.5764883195177095,
                    -10.881339157736669,
                    -2.2684310018903475,
                    0,
                    -3.274545933140305,
                    -1.569549144605614,
                    1.3711329738486044,
                    10.794863461239222,
                    32.141146347160166,
                    0,
                    -7.493386942641561,
                    6.20497611227705,
                    -1.7738939326548242,
                    -1.2661504294579518,
                    3.0648149745385296,
                    1.3189288721396686,
                    -19.836588648262254,
                    -17.884880886386412,
                    -16.12141368931812,
                    -8.380636921525609,
                    -23.861558643918386,
                    0.732949921065984,
                    -5.544071716948568,
                    -6.842896376154317,
                    -0.11625486354589765,
                    -11.897443815154718,
                    0,
                    -8.51559803969392,
                    -0.04847394252557591,
                    -0.10496511465388769,
                    -15.068860103924115,
                    -8.547750548422627,
                    -7.110186221610665,
                    -1.9142218998658145,
                    -2.4165958333310615,
                    -6.604555903746107,
                    -6.674324424875139,
                    5.868717053462236,
                    20.335658701912497,
                    15.899358206109259,
                    14.225019071204692,
                    11.826130666429933,
                    20.513907696620254,
                    -23.180549240470413,
                    15.431169273028267,
                    -14.858489278113485,
                    -4.012857942563064,
                    11.169098170931598,
                    -2.9809503735211518
                  ]
                },
                {
                  "fill": "tonexty",
                  "fillcolor": "rgba(0,0,255,0.2)",
                  "line": {
                    "color": "rgba(0,0,255,0.2)"
                  },
                  "mode": "lines",
                  "name": "war",
                  "showlegend": false,
                  "type": "scatter",
                  "x": [
                    1870,
                    1871,
                    1872,
                    1873,
                    1874,
                    1875,
                    1876,
                    1877,
                    1878,
                    1879,
                    1880,
                    1881,
                    1882,
                    1883,
                    1884,
                    1885,
                    1890,
                    1891,
                    1892,
                    1893,
                    1894,
                    1895,
                    1896,
                    1897,
                    1898,
                    1899,
                    1900,
                    1901,
                    1902,
                    1903,
                    1904,
                    1905,
                    1906,
                    1907,
                    1908,
                    1909,
                    1910,
                    1911,
                    1912,
                    1913,
                    1914,
                    1915,
                    1916,
                    1917,
                    1918,
                    1919,
                    1920,
                    1921,
                    1922,
                    1923,
                    1924,
                    1925,
                    1926,
                    1927,
                    1928,
                    1929,
                    1930,
                    1931,
                    1932,
                    1933,
                    1934,
                    1935,
                    1936,
                    1937,
                    1938,
                    1939,
                    1940,
                    1941,
                    1942,
                    1943,
                    1944,
                    1945,
                    1946,
                    1947,
                    1948,
                    1949,
                    1950,
                    1951,
                    1952,
                    1953,
                    1954,
                    1955,
                    1956,
                    1957,
                    1958,
                    1959,
                    1960,
                    1961,
                    1962,
                    1963,
                    1964,
                    1965,
                    1966,
                    1967,
                    1968,
                    1969,
                    1970,
                    1971,
                    1972,
                    1973,
                    1974,
                    1975,
                    1976,
                    1977,
                    1978,
                    1979,
                    1980,
                    1981,
                    1982,
                    1983,
                    1984,
                    1985,
                    1986,
                    1987,
                    1988,
                    1989,
                    1990,
                    1991,
                    1992,
                    1993,
                    1994,
                    1995,
                    1996,
                    1997,
                    1998,
                    1999,
                    2000,
                    2001,
                    2002,
                    2003,
                    2004,
                    2005,
                    2006,
                    2007,
                    2008,
                    2009,
                    2010,
                    2011,
                    2012,
                    2013,
                    2014
                  ],
                  "y": [
                    0,
                    17.12486277228866,
                    6.129033578749793,
                    8.932822414957332,
                    1.5331951689253387,
                    0.9202330624130173,
                    2.4677310307537557,
                    13.110141624507259,
                    28.643660061201793,
                    5.430224774050396,
                    2.685965344654445,
                    0,
                    22.436124055384354,
                    9.335038402158924,
                    6.0131108039897905,
                    -5.872667186669411,
                    5.690480394101321,
                    3.7273570008709456,
                    -9.23098458177887,
                    -1.3221162972580802,
                    33.113517475077494,
                    -0.19436259328516892,
                    42.25548628861918,
                    1.8051370727907714,
                    24.96815137733453,
                    -5.055009834545338,
                    10.290844569202967,
                    67.06292949469837,
                    -10.191083121354877,
                    -0.14376681245749368,
                    17.40660127878919,
                    30.276012843944123,
                    5.508479466321403,
                    0.3927242985191093,
                    29.411769903242302,
                    26.34983582179571,
                    73.88738351003124,
                    4.687496707774685,
                    8.849555004286236,
                    9.665178297803816,
                    0,
                    1.2106552359820222,
                    40.312233211109486,
                    36.346821533769244,
                    19.396162472921617,
                    21.738014411142053,
                    43.77136465006271,
                    -1.189565106060309,
                    17.48184051238333,
                    13.719962906027883,
                    11.645824224163093,
                    19.954474665116948,
                    4.313329939823978,
                    -12.982734723784635,
                    9.32498373875774,
                    7.687776615351927,
                    0,
                    7.209416997567802,
                    -24.36489176165471,
                    34.133338928222656,
                    51.093431165525516,
                    0.3947396076947829,
                    0,
                    30.11634454251959,
                    4.031054717956801,
                    11.216220231043707,
                    0.7281555315209909,
                    5.9981030648799,
                    49.66029165305563,
                    21.791824220825063,
                    1.037462045904869,
                    4.4407894736842035,
                    428.7983120652935,
                    81.31435360527439,
                    62.20183486238533,
                    17.023510506130823,
                    17.414533458848847,
                    44.36697441129971,
                    9.188929177227113,
                    10.028633080926053,
                    3.9985860364817656,
                    24.18655097613882,
                    19.39252336448598,
                    4.314989088925264,
                    -2.451707329312802,
                    10.324057580915436,
                    26.972639150879317,
                    4.630952488803941,
                    3.3174445398273966,
                    7.468477206595536,
                    10.469314079422398,
                    12.217439701049605,
                    14.882358814179769,
                    10.662485032107018,
                    11.601232595297862,
                    26.548113822443476,
                    16.60124682521358,
                    14.3828081117916,
                    11.276116786998452,
                    51.615026323044134,
                    143.9598213738559,
                    40.037174721189594,
                    5.647549910657446,
                    26.98359198416359,
                    29.525242384339514,
                    27.135944711144553,
                    28.991999300503252,
                    17.32798506654295,
                    1.5529476599536296,
                    6.400555987111356,
                    8.015678616400024,
                    7.394934078390625,
                    10.510055580614473,
                    26.16535562238941,
                    9.79092014532238,
                    17.07636341546803,
                    23.297080473375523,
                    10.564984762043817,
                    17.11625986289563,
                    26.87370522706368,
                    20.47078817346108,
                    35.48321882076917,
                    10.683150844969301,
                    12.302292759614296,
                    19.133289629880714,
                    8.702572500970074,
                    11.872680451701362,
                    2.6938367900213924,
                    19.304385379930842,
                    24.544444727027237,
                    41.21909689414341,
                    41.540938442953646,
                    27.62865400507186,
                    26.249004541134425,
                    34.18111800508677,
                    -15.354450457044516,
                    16.407450562974113,
                    31.208810968413015,
                    23.315209624758214,
                    15.121762397126478,
                    -2.9809503735211518
                  ]
                },
                {
                  "line": {
                    "color": "rgb(0,0,255)"
                  },
                  "mode": "lines",
                  "name": "war",
                  "type": "scatter",
                  "x": [
                    1870,
                    1871,
                    1872,
                    1873,
                    1874,
                    1875,
                    1876,
                    1877,
                    1878,
                    1879,
                    1880,
                    1881,
                    1882,
                    1883,
                    1884,
                    1885,
                    1890,
                    1891,
                    1892,
                    1893,
                    1894,
                    1895,
                    1896,
                    1897,
                    1898,
                    1899,
                    1900,
                    1901,
                    1902,
                    1903,
                    1904,
                    1905,
                    1906,
                    1907,
                    1908,
                    1909,
                    1910,
                    1911,
                    1912,
                    1913,
                    1914,
                    1915,
                    1916,
                    1917,
                    1918,
                    1919,
                    1920,
                    1921,
                    1922,
                    1923,
                    1924,
                    1925,
                    1926,
                    1927,
                    1928,
                    1929,
                    1930,
                    1931,
                    1932,
                    1933,
                    1934,
                    1935,
                    1936,
                    1937,
                    1938,
                    1939,
                    1940,
                    1941,
                    1942,
                    1943,
                    1944,
                    1945,
                    1946,
                    1947,
                    1948,
                    1949,
                    1950,
                    1951,
                    1952,
                    1953,
                    1954,
                    1955,
                    1956,
                    1957,
                    1958,
                    1959,
                    1960,
                    1961,
                    1962,
                    1963,
                    1964,
                    1965,
                    1966,
                    1967,
                    1968,
                    1969,
                    1970,
                    1971,
                    1972,
                    1973,
                    1974,
                    1975,
                    1976,
                    1977,
                    1978,
                    1979,
                    1980,
                    1981,
                    1982,
                    1983,
                    1984,
                    1985,
                    1986,
                    1987,
                    1988,
                    1989,
                    1990,
                    1991,
                    1992,
                    1993,
                    1994,
                    1995,
                    1996,
                    1997,
                    1998,
                    1999,
                    2000,
                    2001,
                    2002,
                    2003,
                    2004,
                    2005,
                    2006,
                    2007,
                    2008,
                    2009,
                    2010,
                    2011,
                    2012,
                    2013,
                    2014
                  ],
                  "y": [
                    0,
                    6.553347257692788,
                    -2.7419402239397317,
                    -1.0306197131246808,
                    -2.7777832211241416,
                    0.6134887082753449,
                    0.8928571428571397,
                    2.9224206827861976,
                    4.519194243248326,
                    1.8348694489809692,
                    -2.673811345438232,
                    0,
                    2.015113350125941,
                    6.481478692409337,
                    -3.474063651258874,
                    -6.3630907633753,
                    5.380955690842104,
                    -1.2409418210120204,
                    -14.461964109846985,
                    -1.3221162972580802,
                    23.02268884472516,
                    -7.837841693130676,
                    9.625722768662792,
                    -0.7677547591614098,
                    -3.2156300892138505,
                    -13.271604612385612,
                    2.461055624325259,
                    1.8181768716859947,
                    -20.382166242709754,
                    -0.28753362491498735,
                    0,
                    29.84702165143105,
                    0,
                    -9.544775665217392,
                    29.411769903242302,
                    14.833122668983268,
                    13.915912563007282,
                    4.5464594233651345,
                    -3.203211884848123,
                    0,
                    -7.40678643368639,
                    0,
                    0,
                    0,
                    0,
                    0,
                    0,
                    -51.706174266559465,
                    15.692200793488919,
                    1.5953498396884092,
                    7.700319991981641,
                    17.61860033882273,
                    1.3169372829723636,
                    -14.721013109440229,
                    5.409165081117506,
                    0,
                    0,
                    7.182377879650637,
                    -33.87713443149346,
                    25.155243688593586,
                    29.970601679380614,
                    -2.0900873982221513,
                    -2.0979020979020935,
                    23.61153668524627,
                    -23.365799008051365,
                    -5.984831653724915,
                    -4.596117759863527,
                    0,
                    13.457555774185215,
                    1.3836099231095966,
                    0,
                    0,
                    82.00317498905628,
                    2.8301813798515596,
                    10.940338755640822,
                    1.5090543027904024,
                    -1.7482517482517501,
                    35.976430976430976,
                    -1.5789473684210575,
                    0.3333223975591382,
                    -1.2058037534565966,
                    0.49099836333879043,
                    6.395672905066851,
                    -7.4074074074074066,
                    -4.88522660388464,
                    3.5785754691065597,
                    20.778433152904498,
                    1.8992248062015493,
                    -0.24136650575566354,
                    0,
                    0,
                    4.702789985255029,
                    6.421356421356417,
                    -6.994950931588678,
                    7.875354107648724,
                    4.714700193423593,
                    11.170848423151924,
                    6.207073343306635,
                    3.6891301955132683,
                    24.802951088126225,
                    79.46567963976872,
                    9.138560935214578,
                    0.15779907856610098,
                    12.451662799690633,
                    8.917927556166894,
                    20.53216654880965,
                    22.402282831846197,
                    4.7750348238456475,
                    -12.356640769515348,
                    1.2225149846487815,
                    0.34546267293278365,
                    -0.746971422626741,
                    -2.402551598516578,
                    12.404396555870889,
                    3.0390232945064266,
                    5.639801970385472,
                    12.225235527283274,
                    -0.3700821097595397,
                    4.7032980731934515,
                    12.39064478230112,
                    7.4479273832132264,
                    15.764287203188276,
                    2.8404893974434575,
                    0.8913715318553006,
                    2.103616952876186,
                    0.2996422940833465,
                    2.802564029177479,
                    -2.2993888433790968,
                    13.98170036059241,
                    14.400980057085878,
                    35.43650806020603,
                    20.465546830839475,
                    15.830574360197591,
                    18.346399303927598,
                    28.546763514825855,
                    -19.267499848757463,
                    15.91930991800119,
                    25.78395333914547,
                    6.229612189895151,
                    12.856951986336785,
                    -2.9809503735211518
                  ]
                },
                {
                  "fill": "none",
                  "line": {
                    "color": "rgba(255,0,0,0.2)"
                  },
                  "mode": "lines",
                  "name": "peace",
                  "showlegend": false,
                  "type": "scatter",
                  "x": [
                    1870,
                    1871,
                    1872,
                    1873,
                    1874,
                    1875,
                    1876,
                    1877,
                    1878,
                    1879,
                    1880,
                    1881,
                    1882,
                    1883,
                    1884,
                    1885,
                    1886,
                    1887,
                    1888,
                    1889,
                    1890,
                    1891,
                    1892,
                    1893,
                    1894,
                    1895,
                    1896,
                    1897,
                    1898,
                    1899,
                    1900,
                    1901,
                    1902,
                    1903,
                    1904,
                    1905,
                    1906,
                    1907,
                    1908,
                    1909,
                    1910,
                    1911,
                    1912,
                    1913,
                    1914,
                    1915,
                    1916,
                    1917,
                    1918,
                    1919,
                    1920,
                    1921,
                    1922,
                    1923,
                    1924,
                    1925,
                    1926,
                    1927,
                    1928,
                    1929,
                    1930,
                    1931,
                    1932,
                    1933,
                    1934,
                    1935,
                    1936,
                    1937,
                    1938,
                    1939,
                    1940,
                    1941,
                    1942,
                    1943,
                    1944,
                    1945,
                    1946,
                    1947,
                    1948,
                    1949,
                    1950,
                    1951,
                    1952,
                    1953,
                    1954,
                    1955,
                    1956,
                    1957,
                    1958,
                    1959,
                    1960,
                    1961,
                    1962,
                    1963,
                    1964,
                    1965,
                    1966,
                    1967,
                    1968,
                    1969,
                    1970,
                    1971,
                    1972,
                    1973,
                    1974,
                    1975,
                    1976,
                    1977,
                    1978,
                    1979,
                    1980,
                    1981,
                    1982,
                    1983,
                    1984,
                    1985,
                    1986,
                    1987,
                    1988,
                    1989,
                    1990,
                    1991,
                    1992,
                    1993,
                    1994,
                    1995,
                    1996,
                    1997,
                    1998,
                    1999,
                    2000,
                    2001,
                    2002,
                    2003,
                    2004,
                    2005,
                    2006,
                    2007,
                    2008,
                    2009,
                    2010,
                    2011,
                    2012,
                    2013,
                    2014
                  ],
                  "y": [
                    0,
                    0,
                    0,
                    -2.870810668041246,
                    -1.5463693776657905,
                    -0.8561676271995888,
                    -9.91457890074211,
                    -3.429603944562254,
                    -3.946729831948789,
                    1.699860529544206,
                    -0.7892414778218948,
                    0,
                    0,
                    -3.4142687518194825,
                    -2.6977390284295577,
                    -12.229486342171214,
                    -2.990199369862445,
                    -3.322081621275641,
                    -0.43616618992292633,
                    0.19230778785850333,
                    -3.433624320375184,
                    -4.371332086778501,
                    -13.38244600772575,
                    -6.9071843012634915,
                    -14.798313790279616,
                    -1.2596599147321086,
                    0.6224422536203811,
                    -4.628890149506209,
                    0,
                    -3.347868628595088,
                    -2.50709630697733,
                    -15.97444384457416,
                    -2.058888154900779,
                    1.4534869617613966,
                    0.9671186490687322,
                    1.4124280467537442,
                    -1.7744751049685203,
                    4.694618485198987,
                    -10.82767408113877,
                    -8.368137404523424,
                    4.6617428178269416,
                    3.031635322120252,
                    2.6032365024727833,
                    1.4437293035360288,
                    -25.25998215992236,
                    -37.633792887189806,
                    11.685864732463713,
                    0,
                    -7.0312543393810545,
                    0,
                    -6.835266179987787,
                    -41.986517112099655,
                    -18.31413557418535,
                    0.5672706108790448,
                    0.8739988084816852,
                    4.081944404923621,
                    -8.628512181514248,
                    -1.3189181599593036,
                    -0.16657416239950484,
                    -3.2398649507942245,
                    -24.841591529548,
                    -37.45973378697576,
                    -41.07342220898012,
                    -7.040610271199107,
                    16.666667953133608,
                    -5.660380753557459,
                    3.4164676320181386,
                    12.589514772491949,
                    -11.870039697952018,
                    -13.578809311167161,
                    -11.092994332856454,
                    0,
                    0,
                    0,
                    0,
                    -2.1621601001636237,
                    25.367382438529184,
                    22.852980484418826,
                    0,
                    -12.493744181874668,
                    -11.544471153846157,
                    17.864631320518914,
                    -3.5921311305567527,
                    -10.289685723403096,
                    -0.4310344827586188,
                    4.4585729064974045,
                    1.407131861728561,
                    4.564681944741917,
                    -11.025889948992129,
                    -3.6363636363636376,
                    0,
                    0,
                    0,
                    0,
                    0,
                    0,
                    0,
                    0,
                    0,
                    0,
                    0,
                    1.0447629443253392,
                    0,
                    9.828972157838423,
                    20.883974788385327,
                    0,
                    -0.8052899660869528,
                    4.557387795691792,
                    0,
                    6.531263467037474,
                    9.387717673723111,
                    -10.313369889566925,
                    -14.367301781441881,
                    -12.835390869337793,
                    -3.974589625243044,
                    -5.057188142584485,
                    -3.3886162220462426,
                    0,
                    0,
                    0,
                    0,
                    -5.308271405588108,
                    0,
                    -9.392780301219227,
                    0,
                    5.094577400398181,
                    0,
                    -3.171758867911506,
                    -3.2861911007792455,
                    -8.30394679660287,
                    -2.604460059705893,
                    -2.7654578492707915,
                    0,
                    2.969076848772123,
                    12.117775243855238,
                    8.223498749891935,
                    8.3514887678115,
                    11.645797259805768,
                    12.99900928437241,
                    -25.77462113551935,
                    7.256992974992782,
                    13.38433099915245,
                    -4.308209907802257,
                    -0.522261916832556,
                    -1.1751498992426308
                  ]
                },
                {
                  "fill": "tonexty",
                  "fillcolor": "rgba(255,0,0,0.2)",
                  "line": {
                    "color": "rgba(255,0,0,0.2)"
                  },
                  "mode": "lines",
                  "name": "peace",
                  "showlegend": false,
                  "type": "scatter",
                  "x": [
                    1870,
                    1871,
                    1872,
                    1873,
                    1874,
                    1875,
                    1876,
                    1877,
                    1878,
                    1879,
                    1880,
                    1881,
                    1882,
                    1883,
                    1884,
                    1885,
                    1886,
                    1887,
                    1888,
                    1889,
                    1890,
                    1891,
                    1892,
                    1893,
                    1894,
                    1895,
                    1896,
                    1897,
                    1898,
                    1899,
                    1900,
                    1901,
                    1902,
                    1903,
                    1904,
                    1905,
                    1906,
                    1907,
                    1908,
                    1909,
                    1910,
                    1911,
                    1912,
                    1913,
                    1914,
                    1915,
                    1916,
                    1917,
                    1918,
                    1919,
                    1920,
                    1921,
                    1922,
                    1923,
                    1924,
                    1925,
                    1926,
                    1927,
                    1928,
                    1929,
                    1930,
                    1931,
                    1932,
                    1933,
                    1934,
                    1935,
                    1936,
                    1937,
                    1938,
                    1939,
                    1940,
                    1941,
                    1942,
                    1943,
                    1944,
                    1945,
                    1946,
                    1947,
                    1948,
                    1949,
                    1950,
                    1951,
                    1952,
                    1953,
                    1954,
                    1955,
                    1956,
                    1957,
                    1958,
                    1959,
                    1960,
                    1961,
                    1962,
                    1963,
                    1964,
                    1965,
                    1966,
                    1967,
                    1968,
                    1969,
                    1970,
                    1971,
                    1972,
                    1973,
                    1974,
                    1975,
                    1976,
                    1977,
                    1978,
                    1979,
                    1980,
                    1981,
                    1982,
                    1983,
                    1984,
                    1985,
                    1986,
                    1987,
                    1988,
                    1989,
                    1990,
                    1991,
                    1992,
                    1993,
                    1994,
                    1995,
                    1996,
                    1997,
                    1998,
                    1999,
                    2000,
                    2001,
                    2002,
                    2003,
                    2004,
                    2005,
                    2006,
                    2007,
                    2008,
                    2009,
                    2010,
                    2011,
                    2012,
                    2013,
                    2014
                  ],
                  "y": [
                    0,
                    12.886491194028395,
                    12.479202714460236,
                    8.431703499146437,
                    3.3558679543225667,
                    15.19732052144298,
                    2.472389476510495,
                    4.703840915155211,
                    4.1859135329680885,
                    7.868449168872682,
                    10.17116520958683,
                    8.67083583706112,
                    8.737479545211801,
                    7.779051304408652,
                    5.230930548634682,
                    0,
                    14.694248047859638,
                    7.831555882750663,
                    12.326120191123756,
                    18.937966972307674,
                    7.1239698472024715,
                    9.131616689661515,
                    0.4032254219054954,
                    11.241300139316767,
                    4.99999749660498,
                    13.868399511229988,
                    16.779340577002287,
                    4.370516983533179,
                    12.396283466951829,
                    8.422676487265424,
                    23.88114476659611,
                    12.428164355229498,
                    8.033410973287442,
                    12.90753817211333,
                    16.91912535478055,
                    26.79930758114316,
                    14.74812031074434,
                    17.763311744239395,
                    3.448820973607558,
                    10.09956781914898,
                    17.275684260701986,
                    19.861047547739965,
                    16.64443547251162,
                    13.940350996714436,
                    0,
                    3.502573312285639,
                    52.19721656136957,
                    11.716587028885893,
                    9.174318291605111,
                    80.68459621475112,
                    55.1179878633151,
                    2.6635549501552003,
                    6.892802683867449,
                    39.51953338918352,
                    31.689202410733863,
                    23.972304669406142,
                    4.824983970906572,
                    13.705290161699889,
                    15.343176284016437,
                    7.089060974225298,
                    -7.830223365225253,
                    -19.589547268286612,
                    -29.16611561191622,
                    16.47193904361101,
                    50.473189579228595,
                    18.601191056947197,
                    18.74403520063921,
                    29.727523768796395,
                    2.5616197087345136,
                    10.813955065507908,
                    4.577944381479565,
                    14.759934959832643,
                    13.709677057550728,
                    28.960398201521343,
                    17.903357503724116,
                    17.83251711962912,
                    90.93315831839027,
                    78.9759754134168,
                    27.206217194912405,
                    4.404673458776964,
                    11.111111111111116,
                    41.04270447950025,
                    18.181818181818187,
                    6.545343165154354,
                    16.701108984016933,
                    17.766885400950983,
                    16.580315489312024,
                    18.990621027382215,
                    5.394994911200046,
                    11.931110060287597,
                    16.737258893383576,
                    7.713133640552994,
                    11.480081281262,
                    11.687707041878397,
                    17.289998772520832,
                    13.721174294002036,
                    12.93103448275863,
                    9.579100145137875,
                    12.30170967916463,
                    18.35128674758637,
                    22.067370315434246,
                    15.036066846876462,
                    21.313114242657818,
                    42.20894426705024,
                    60.85673580018988,
                    28.533460962980463,
                    14.44526582545863,
                    27.010603925283007,
                    23.83408140627312,
                    31.289882176783088,
                    28.40212680764366,
                    10.949506657366081,
                    2.440302427692409,
                    1.7953484154690225,
                    7.604839213212933,
                    8.067908058965166,
                    16.43203848304475,
                    21.985691330914992,
                    20.517160784173036,
                    17.233275209270026,
                    22.66619637451175,
                    10.924316849346466,
                    21.66788848812415,
                    11.489235311059897,
                    18.17054092029202,
                    32.42114495679132,
                    14.55435890585639,
                    11.090594437037538,
                    11.191849975577718,
                    8.247198775557269,
                    17.891701643277315,
                    10.582759646416552,
                    11.826898329227198,
                    27.357351273450025,
                    28.487213366064,
                    24.37144379424493,
                    24.433450068295905,
                    29.050109880898447,
                    32.38352657716332,
                    -8.458441757924984,
                    25.256337686136618,
                    29.410259709726233,
                    8.34706980702764,
                    6.560324927833472,
                    7.113039239963909
                  ]
                },
                {
                  "line": {
                    "color": "rgb(255,0,0)"
                  },
                  "mode": "lines",
                  "name": "peace",
                  "type": "scatter",
                  "x": [
                    1870,
                    1871,
                    1872,
                    1873,
                    1874,
                    1875,
                    1876,
                    1877,
                    1878,
                    1879,
                    1880,
                    1881,
                    1882,
                    1883,
                    1884,
                    1885,
                    1886,
                    1887,
                    1888,
                    1889,
                    1890,
                    1891,
                    1892,
                    1893,
                    1894,
                    1895,
                    1896,
                    1897,
                    1898,
                    1899,
                    1900,
                    1901,
                    1902,
                    1903,
                    1904,
                    1905,
                    1906,
                    1907,
                    1908,
                    1909,
                    1910,
                    1911,
                    1912,
                    1913,
                    1914,
                    1915,
                    1916,
                    1917,
                    1918,
                    1919,
                    1920,
                    1921,
                    1922,
                    1923,
                    1924,
                    1925,
                    1926,
                    1927,
                    1928,
                    1929,
                    1930,
                    1931,
                    1932,
                    1933,
                    1934,
                    1935,
                    1936,
                    1937,
                    1938,
                    1939,
                    1940,
                    1941,
                    1942,
                    1943,
                    1944,
                    1945,
                    1946,
                    1947,
                    1948,
                    1949,
                    1950,
                    1951,
                    1952,
                    1953,
                    1954,
                    1955,
                    1956,
                    1957,
                    1958,
                    1959,
                    1960,
                    1961,
                    1962,
                    1963,
                    1964,
                    1965,
                    1966,
                    1967,
                    1968,
                    1969,
                    1970,
                    1971,
                    1972,
                    1973,
                    1974,
                    1975,
                    1976,
                    1977,
                    1978,
                    1979,
                    1980,
                    1981,
                    1982,
                    1983,
                    1984,
                    1985,
                    1986,
                    1987,
                    1988,
                    1989,
                    1990,
                    1991,
                    1992,
                    1993,
                    1994,
                    1995,
                    1996,
                    1997,
                    1998,
                    1999,
                    2000,
                    2001,
                    2002,
                    2003,
                    2004,
                    2005,
                    2006,
                    2007,
                    2008,
                    2009,
                    2010,
                    2011,
                    2012,
                    2013,
                    2014
                  ],
                  "y": [
                    0,
                    1.9756647981373998,
                    1.9300148192909816,
                    0,
                    0,
                    1.1345420956365482,
                    -0.750947648049094,
                    0,
                    0.25986569181757346,
                    4.28724837829686,
                    2.8084401513264856,
                    3.1103235417301756,
                    4.080313018653081,
                    1.944142614162514,
                    0.5526291696648755,
                    -5.516787495911679,
                    7.392604937041258,
                    3.8870361862711977,
                    5.86557973107793,
                    5.97870221093888,
                    2.1924011030161727,
                    4.0190628770778165,
                    -5.079053008854295,
                    3.0635394505886815,
                    0,
                    5.189437074855352,
                    7.407413494440052,
                    2.036199095022617,
                    7.931647593173863,
                    2.2383452054323794,
                    5.077420009074607,
                    -1.2411396308063594,
                    2.6653224014676624,
                    6.1452460407926734,
                    6.189560172636477,
                    10.715174132802652,
                    5.951911853496961,
                    8.508371451082986,
                    -3.377055776145721,
                    0.6675593092494769,
                    14.00586557836806,
                    9.600615110196541,
                    10.130291169500705,
                    6.6419559601546,
                    -14.84839269747788,
                    -5.274051163469151,
                    34.76770963230103,
                    8.242344601360285,
                    0,
                    27.988799782950956,
                    0,
                    -21.403808562481252,
                    -0.7688603723965848,
                    14.311198926703694,
                    11.96750604824237,
                    13.019846250366651,
                    -1.8941223371068738,
                    4.481126516049705,
                    6.366911919235352,
                    2.455337629448562,
                    -17.777133281429723,
                    -24.83439705873759,
                    -35.545131083998385,
                    5.585872656143387,
                    33.31636733940249,
                    8.455729284027802,
                    12.093415978836685,
                    22.64150943396226,
                    -5.143307276093484,
                    -3.684611798451864,
                    0,
                    4.625501996548643,
                    0.9508752826110412,
                    11.727072647919412,
                    0,
                    3.2883652268770103,
                    51.643779961850555,
                    47.79277118232527,
                    11.333454299678248,
                    -2.4256724959413054,
                    0.18967783079494316,
                    30.537567253497766,
                    3.6845984616396654,
                    0.05959384523387401,
                    5.89887640449438,
                    11.576451995258786,
                    11.139240506329106,
                    10.874939959116347,
                    -2.7013410861283726,
                    4.891304347826098,
                    0,
                    0,
                    1.797540208136228,
                    3.592525627722787,
                    9.019823788546244,
                    4.650337238196678,
                    6.419350262448575,
                    1.6856492027334857,
                    4.126014324537486,
                    7.686047720967048,
                    13.355082030913668,
                    10.140570101882718,
                    11.000752127259306,
                    32.04991890449052,
                    41.425922153436446,
                    6.127358077966005,
                    4.486042963757053,
                    14.902808308230519,
                    12.68196536674644,
                    22.15896427871118,
                    20.47471214405505,
                    0,
                    -4.978354978354993,
                    -4.908826820028656,
                    0.9436927304068421,
                    1.5816863903987732,
                    1.597020390633952,
                    11.56579119956842,
                    10.378189595571863,
                    7.406371713510951,
                    12.126051781062074,
                    0.038896326710924356,
                    5.498511328848544,
                    0,
                    11.417420186462191,
                    19.929776669376565,
                    5.509396053042304,
                    0.8821420752159082,
                    3.2177408600152058,
                    0,
                    4.120270030001327,
                    0.9764365491304661,
                    4.208350023498797,
                    17.262979324151708,
                    20.4765940234237,
                    14.990553289457221,
                    15.435443058055153,
                    18.880393052385447,
                    22.619667423670187,
                    -20.82604880000026,
                    14.744752840660546,
                    19.91876226404741,
                    2.1127215729602966,
                    3.1460011893799544,
                    1.845713832536633
                  ]
                }
              ],
              "layout": {
                "height": 600,
                "legend": {
                  "orientation": "h",
                  "x": 1,
                  "xanchor": "right",
                  "y": 1.02,
                  "yanchor": "bottom"
                },
                "template": {
                  "data": {
                    "bar": [
                      {
                        "error_x": {
                          "color": "#2a3f5f"
                        },
                        "error_y": {
                          "color": "#2a3f5f"
                        },
                        "marker": {
                          "line": {
                            "color": "#E5ECF6",
                            "width": 0.5
                          }
                        },
                        "type": "bar"
                      }
                    ],
                    "barpolar": [
                      {
                        "marker": {
                          "line": {
                            "color": "#E5ECF6",
                            "width": 0.5
                          }
                        },
                        "type": "barpolar"
                      }
                    ],
                    "carpet": [
                      {
                        "aaxis": {
                          "endlinecolor": "#2a3f5f",
                          "gridcolor": "white",
                          "linecolor": "white",
                          "minorgridcolor": "white",
                          "startlinecolor": "#2a3f5f"
                        },
                        "baxis": {
                          "endlinecolor": "#2a3f5f",
                          "gridcolor": "white",
                          "linecolor": "white",
                          "minorgridcolor": "white",
                          "startlinecolor": "#2a3f5f"
                        },
                        "type": "carpet"
                      }
                    ],
                    "choropleth": [
                      {
                        "colorbar": {
                          "outlinewidth": 0,
                          "ticks": ""
                        },
                        "type": "choropleth"
                      }
                    ],
                    "contour": [
                      {
                        "colorbar": {
                          "outlinewidth": 0,
                          "ticks": ""
                        },
                        "colorscale": [
                          [
                            0,
                            "#0d0887"
                          ],
                          [
                            0.1111111111111111,
                            "#46039f"
                          ],
                          [
                            0.2222222222222222,
                            "#7201a8"
                          ],
                          [
                            0.3333333333333333,
                            "#9c179e"
                          ],
                          [
                            0.4444444444444444,
                            "#bd3786"
                          ],
                          [
                            0.5555555555555556,
                            "#d8576b"
                          ],
                          [
                            0.6666666666666666,
                            "#ed7953"
                          ],
                          [
                            0.7777777777777778,
                            "#fb9f3a"
                          ],
                          [
                            0.8888888888888888,
                            "#fdca26"
                          ],
                          [
                            1,
                            "#f0f921"
                          ]
                        ],
                        "type": "contour"
                      }
                    ],
                    "contourcarpet": [
                      {
                        "colorbar": {
                          "outlinewidth": 0,
                          "ticks": ""
                        },
                        "type": "contourcarpet"
                      }
                    ],
                    "heatmap": [
                      {
                        "colorbar": {
                          "outlinewidth": 0,
                          "ticks": ""
                        },
                        "colorscale": [
                          [
                            0,
                            "#0d0887"
                          ],
                          [
                            0.1111111111111111,
                            "#46039f"
                          ],
                          [
                            0.2222222222222222,
                            "#7201a8"
                          ],
                          [
                            0.3333333333333333,
                            "#9c179e"
                          ],
                          [
                            0.4444444444444444,
                            "#bd3786"
                          ],
                          [
                            0.5555555555555556,
                            "#d8576b"
                          ],
                          [
                            0.6666666666666666,
                            "#ed7953"
                          ],
                          [
                            0.7777777777777778,
                            "#fb9f3a"
                          ],
                          [
                            0.8888888888888888,
                            "#fdca26"
                          ],
                          [
                            1,
                            "#f0f921"
                          ]
                        ],
                        "type": "heatmap"
                      }
                    ],
                    "heatmapgl": [
                      {
                        "colorbar": {
                          "outlinewidth": 0,
                          "ticks": ""
                        },
                        "colorscale": [
                          [
                            0,
                            "#0d0887"
                          ],
                          [
                            0.1111111111111111,
                            "#46039f"
                          ],
                          [
                            0.2222222222222222,
                            "#7201a8"
                          ],
                          [
                            0.3333333333333333,
                            "#9c179e"
                          ],
                          [
                            0.4444444444444444,
                            "#bd3786"
                          ],
                          [
                            0.5555555555555556,
                            "#d8576b"
                          ],
                          [
                            0.6666666666666666,
                            "#ed7953"
                          ],
                          [
                            0.7777777777777778,
                            "#fb9f3a"
                          ],
                          [
                            0.8888888888888888,
                            "#fdca26"
                          ],
                          [
                            1,
                            "#f0f921"
                          ]
                        ],
                        "type": "heatmapgl"
                      }
                    ],
                    "histogram": [
                      {
                        "marker": {
                          "colorbar": {
                            "outlinewidth": 0,
                            "ticks": ""
                          }
                        },
                        "type": "histogram"
                      }
                    ],
                    "histogram2d": [
                      {
                        "colorbar": {
                          "outlinewidth": 0,
                          "ticks": ""
                        },
                        "colorscale": [
                          [
                            0,
                            "#0d0887"
                          ],
                          [
                            0.1111111111111111,
                            "#46039f"
                          ],
                          [
                            0.2222222222222222,
                            "#7201a8"
                          ],
                          [
                            0.3333333333333333,
                            "#9c179e"
                          ],
                          [
                            0.4444444444444444,
                            "#bd3786"
                          ],
                          [
                            0.5555555555555556,
                            "#d8576b"
                          ],
                          [
                            0.6666666666666666,
                            "#ed7953"
                          ],
                          [
                            0.7777777777777778,
                            "#fb9f3a"
                          ],
                          [
                            0.8888888888888888,
                            "#fdca26"
                          ],
                          [
                            1,
                            "#f0f921"
                          ]
                        ],
                        "type": "histogram2d"
                      }
                    ],
                    "histogram2dcontour": [
                      {
                        "colorbar": {
                          "outlinewidth": 0,
                          "ticks": ""
                        },
                        "colorscale": [
                          [
                            0,
                            "#0d0887"
                          ],
                          [
                            0.1111111111111111,
                            "#46039f"
                          ],
                          [
                            0.2222222222222222,
                            "#7201a8"
                          ],
                          [
                            0.3333333333333333,
                            "#9c179e"
                          ],
                          [
                            0.4444444444444444,
                            "#bd3786"
                          ],
                          [
                            0.5555555555555556,
                            "#d8576b"
                          ],
                          [
                            0.6666666666666666,
                            "#ed7953"
                          ],
                          [
                            0.7777777777777778,
                            "#fb9f3a"
                          ],
                          [
                            0.8888888888888888,
                            "#fdca26"
                          ],
                          [
                            1,
                            "#f0f921"
                          ]
                        ],
                        "type": "histogram2dcontour"
                      }
                    ],
                    "mesh3d": [
                      {
                        "colorbar": {
                          "outlinewidth": 0,
                          "ticks": ""
                        },
                        "type": "mesh3d"
                      }
                    ],
                    "parcoords": [
                      {
                        "line": {
                          "colorbar": {
                            "outlinewidth": 0,
                            "ticks": ""
                          }
                        },
                        "type": "parcoords"
                      }
                    ],
                    "pie": [
                      {
                        "automargin": true,
                        "type": "pie"
                      }
                    ],
                    "scatter": [
                      {
                        "marker": {
                          "colorbar": {
                            "outlinewidth": 0,
                            "ticks": ""
                          }
                        },
                        "type": "scatter"
                      }
                    ],
                    "scatter3d": [
                      {
                        "line": {
                          "colorbar": {
                            "outlinewidth": 0,
                            "ticks": ""
                          }
                        },
                        "marker": {
                          "colorbar": {
                            "outlinewidth": 0,
                            "ticks": ""
                          }
                        },
                        "type": "scatter3d"
                      }
                    ],
                    "scattercarpet": [
                      {
                        "marker": {
                          "colorbar": {
                            "outlinewidth": 0,
                            "ticks": ""
                          }
                        },
                        "type": "scattercarpet"
                      }
                    ],
                    "scattergeo": [
                      {
                        "marker": {
                          "colorbar": {
                            "outlinewidth": 0,
                            "ticks": ""
                          }
                        },
                        "type": "scattergeo"
                      }
                    ],
                    "scattergl": [
                      {
                        "marker": {
                          "colorbar": {
                            "outlinewidth": 0,
                            "ticks": ""
                          }
                        },
                        "type": "scattergl"
                      }
                    ],
                    "scattermapbox": [
                      {
                        "marker": {
                          "colorbar": {
                            "outlinewidth": 0,
                            "ticks": ""
                          }
                        },
                        "type": "scattermapbox"
                      }
                    ],
                    "scatterpolar": [
                      {
                        "marker": {
                          "colorbar": {
                            "outlinewidth": 0,
                            "ticks": ""
                          }
                        },
                        "type": "scatterpolar"
                      }
                    ],
                    "scatterpolargl": [
                      {
                        "marker": {
                          "colorbar": {
                            "outlinewidth": 0,
                            "ticks": ""
                          }
                        },
                        "type": "scatterpolargl"
                      }
                    ],
                    "scatterternary": [
                      {
                        "marker": {
                          "colorbar": {
                            "outlinewidth": 0,
                            "ticks": ""
                          }
                        },
                        "type": "scatterternary"
                      }
                    ],
                    "surface": [
                      {
                        "colorbar": {
                          "outlinewidth": 0,
                          "ticks": ""
                        },
                        "colorscale": [
                          [
                            0,
                            "#0d0887"
                          ],
                          [
                            0.1111111111111111,
                            "#46039f"
                          ],
                          [
                            0.2222222222222222,
                            "#7201a8"
                          ],
                          [
                            0.3333333333333333,
                            "#9c179e"
                          ],
                          [
                            0.4444444444444444,
                            "#bd3786"
                          ],
                          [
                            0.5555555555555556,
                            "#d8576b"
                          ],
                          [
                            0.6666666666666666,
                            "#ed7953"
                          ],
                          [
                            0.7777777777777778,
                            "#fb9f3a"
                          ],
                          [
                            0.8888888888888888,
                            "#fdca26"
                          ],
                          [
                            1,
                            "#f0f921"
                          ]
                        ],
                        "type": "surface"
                      }
                    ],
                    "table": [
                      {
                        "cells": {
                          "fill": {
                            "color": "#EBF0F8"
                          },
                          "line": {
                            "color": "white"
                          }
                        },
                        "header": {
                          "fill": {
                            "color": "#C8D4E3"
                          },
                          "line": {
                            "color": "white"
                          }
                        },
                        "type": "table"
                      }
                    ]
                  },
                  "layout": {
                    "annotationdefaults": {
                      "arrowcolor": "#2a3f5f",
                      "arrowhead": 0,
                      "arrowwidth": 1
                    },
                    "autotypenumbers": "strict",
                    "coloraxis": {
                      "colorbar": {
                        "outlinewidth": 0,
                        "ticks": ""
                      }
                    },
                    "colorscale": {
                      "diverging": [
                        [
                          0,
                          "#8e0152"
                        ],
                        [
                          0.1,
                          "#c51b7d"
                        ],
                        [
                          0.2,
                          "#de77ae"
                        ],
                        [
                          0.3,
                          "#f1b6da"
                        ],
                        [
                          0.4,
                          "#fde0ef"
                        ],
                        [
                          0.5,
                          "#f7f7f7"
                        ],
                        [
                          0.6,
                          "#e6f5d0"
                        ],
                        [
                          0.7,
                          "#b8e186"
                        ],
                        [
                          0.8,
                          "#7fbc41"
                        ],
                        [
                          0.9,
                          "#4d9221"
                        ],
                        [
                          1,
                          "#276419"
                        ]
                      ],
                      "sequential": [
                        [
                          0,
                          "#0d0887"
                        ],
                        [
                          0.1111111111111111,
                          "#46039f"
                        ],
                        [
                          0.2222222222222222,
                          "#7201a8"
                        ],
                        [
                          0.3333333333333333,
                          "#9c179e"
                        ],
                        [
                          0.4444444444444444,
                          "#bd3786"
                        ],
                        [
                          0.5555555555555556,
                          "#d8576b"
                        ],
                        [
                          0.6666666666666666,
                          "#ed7953"
                        ],
                        [
                          0.7777777777777778,
                          "#fb9f3a"
                        ],
                        [
                          0.8888888888888888,
                          "#fdca26"
                        ],
                        [
                          1,
                          "#f0f921"
                        ]
                      ],
                      "sequentialminus": [
                        [
                          0,
                          "#0d0887"
                        ],
                        [
                          0.1111111111111111,
                          "#46039f"
                        ],
                        [
                          0.2222222222222222,
                          "#7201a8"
                        ],
                        [
                          0.3333333333333333,
                          "#9c179e"
                        ],
                        [
                          0.4444444444444444,
                          "#bd3786"
                        ],
                        [
                          0.5555555555555556,
                          "#d8576b"
                        ],
                        [
                          0.6666666666666666,
                          "#ed7953"
                        ],
                        [
                          0.7777777777777778,
                          "#fb9f3a"
                        ],
                        [
                          0.8888888888888888,
                          "#fdca26"
                        ],
                        [
                          1,
                          "#f0f921"
                        ]
                      ]
                    },
                    "colorway": [
                      "#636efa",
                      "#EF553B",
                      "#00cc96",
                      "#ab63fa",
                      "#FFA15A",
                      "#19d3f3",
                      "#FF6692",
                      "#B6E880",
                      "#FF97FF",
                      "#FECB52"
                    ],
                    "font": {
                      "color": "#2a3f5f"
                    },
                    "geo": {
                      "bgcolor": "white",
                      "lakecolor": "white",
                      "landcolor": "#E5ECF6",
                      "showlakes": true,
                      "showland": true,
                      "subunitcolor": "white"
                    },
                    "hoverlabel": {
                      "align": "left"
                    },
                    "hovermode": "closest",
                    "mapbox": {
                      "style": "light"
                    },
                    "paper_bgcolor": "white",
                    "plot_bgcolor": "#E5ECF6",
                    "polar": {
                      "angularaxis": {
                        "gridcolor": "white",
                        "linecolor": "white",
                        "ticks": ""
                      },
                      "bgcolor": "#E5ECF6",
                      "radialaxis": {
                        "gridcolor": "white",
                        "linecolor": "white",
                        "ticks": ""
                      }
                    },
                    "scene": {
                      "xaxis": {
                        "backgroundcolor": "#E5ECF6",
                        "gridcolor": "white",
                        "gridwidth": 2,
                        "linecolor": "white",
                        "showbackground": true,
                        "ticks": "",
                        "zerolinecolor": "white"
                      },
                      "yaxis": {
                        "backgroundcolor": "#E5ECF6",
                        "gridcolor": "white",
                        "gridwidth": 2,
                        "linecolor": "white",
                        "showbackground": true,
                        "ticks": "",
                        "zerolinecolor": "white"
                      },
                      "zaxis": {
                        "backgroundcolor": "#E5ECF6",
                        "gridcolor": "white",
                        "gridwidth": 2,
                        "linecolor": "white",
                        "showbackground": true,
                        "ticks": "",
                        "zerolinecolor": "white"
                      }
                    },
                    "shapedefaults": {
                      "line": {
                        "color": "#2a3f5f"
                      }
                    },
                    "ternary": {
                      "aaxis": {
                        "gridcolor": "white",
                        "linecolor": "white",
                        "ticks": ""
                      },
                      "baxis": {
                        "gridcolor": "white",
                        "linecolor": "white",
                        "ticks": ""
                      },
                      "bgcolor": "#E5ECF6",
                      "caxis": {
                        "gridcolor": "white",
                        "linecolor": "white",
                        "ticks": ""
                      }
                    },
                    "title": {
                      "x": 0.05
                    },
                    "xaxis": {
                      "automargin": true,
                      "gridcolor": "white",
                      "linecolor": "white",
                      "ticks": "",
                      "title": {
                        "standoff": 15
                      },
                      "zerolinecolor": "white",
                      "zerolinewidth": 2
                    },
                    "yaxis": {
                      "automargin": true,
                      "gridcolor": "white",
                      "linecolor": "white",
                      "ticks": "",
                      "title": {
                        "standoff": 15
                      },
                      "zerolinecolor": "white",
                      "zerolinewidth": 2
                    }
                  }
                },
                "title": {
                  "text": "Impact of war on trade"
                },
                "width": 950,
                "xaxis": {
                  "rangeslider": {
                    "visible": true
                  },
                  "title": {
                    "text": "year"
                  },
                  "type": "date"
                },
                "yaxis": {
                  "range": [
                    -100,
                    100
                  ],
                  "title": {
                    "text": "[25%, Median, 75%] % growth from last year between countries"
                  }
                }
              }
            }
          },
          "metadata": {}
        }
      ]
    },
    {
      "cell_type": "code",
      "execution_count": null,
      "metadata": {},
      "outputs": [],
      "source": []
    },
    {
      "cell_type": "code",
      "execution_count": null,
      "metadata": {},
      "outputs": [],
      "source": []
    },
    {
      "cell_type": "code",
      "metadata": {
        "id": "Bk-BYA5QsdM_"
      },
      "source": [],
      "execution_count": null,
      "outputs": []
    },
    {
      "cell_type": "code",
      "metadata": {
        "id": "RAT8BkgosdPs"
      },
      "source": [
        "from sklearn.ensemble import RandomForestClassifier\n",
        "from sklearn.model_selection import train_test_split\n",
        "from sklearn.metrics import precision_recall_fscore_support\n",
        "import collections\n",
        "from sklearn.metrics import plot_precision_recall_curve\n",
        "from sklearn.metrics import plot_roc_curve\n"
      ],
      "execution_count": null,
      "outputs": []
    },
    {
      "cell_type": "code",
      "metadata": {
        "colab": {
          "base_uri": "https://localhost:8080/"
        },
        "id": "H9hlbIpzsm5s",
        "outputId": "0bb7a89a-8208-4b2b-b867-d5f0360c7a95"
      },
      "source": [
        "# Load extended data NOTE: HAS TO BE CLEANED FIRST\n",
        "y_ex = extended_paper_data.warstds\n",
        "X_ex = extended_paper_data[extended_paper_data.columns[8:]]\n",
        "print(y_ex.shape)\n",
        "print(X_ex.shape)"
      ],
      "execution_count": null,
      "outputs": [
        {
          "output_type": "stream",
          "text": [
            "(8288,)\n",
            "(8288, 330)\n"
          ],
          "name": "stdout"
        }
      ]
    },
    {
      "cell_type": "code",
      "metadata": {
        "id": "IhYfaI_Wy9eh"
      },
      "source": [
        "# Reduced original dataset\n",
        "feature_filter = [\"cowcode\", \"year\", \"ager\", \"agexp\", \"anoc\", \"army85\", \"autch98\", \"auto4\",\n",
        "    \"autonomy\", \"avgnabo\", \"centpol3\", \"coldwar\", \"decade1\", \"decade2\",\n",
        "    \"decade3\", \"decade4\", \"dem\", \"dem4\", \"demch98\", \"dlang\", \"drel\", \"durable\",\n",
        "    \"ef\", \"ef2\", \"ehet\", \"elfo\", \"elfo2\", \"etdo4590\", \"expgdp\", \"exrec\",\n",
        "    \"fedpol3\", \"fuelexp\", \"gdpgrowth\", \"geo1\", \"geo2\", \"geo34\", \"geo57\",\n",
        "    \"geo69\", \"geo8\", \"illiteracy\", \"incumb\", \"infant\", \"inst\", \"inst3\", \"life\",\n",
        "    \"lmtnest\", \"ln_gdpen\", \"lpopns\", \"major\", \"manuexp\", \"milper\", \"mirps0\",\n",
        "    \"mirps1\", \"mirps2\", \"mirps3\", \"nat_war\", \"ncontig\", \"nmgdp\", \"nmdp4_alt\",\n",
        "    \"numlang\", \"nwstate\", \"oil\", \"p4mchg\", \"parcomp\", \"parreg\", \"part\",\n",
        "    \"partfree\", \"plural\", \"plurrel\", \"pol4\", \"pol4m\", \"pol4sq\", \"polch98\",\n",
        "    \"polcomp\", \"popdense\", \"presi\", \"pri\", \"proxregc\", \"ptime\", \"reg\",\n",
        "    \"regd4_alt\", \"relfrac\", \"seceduc\", \"second\", \"semipol3\", \"sip2\", \"sxpnew\",\n",
        "    \"sxpsq\", \"tnatwar\", \"trade\", \"warhist\", \"xconst\"]"
      ],
      "execution_count": null,
      "outputs": []
    },
    {
      "cell_type": "code",
      "metadata": {
        "colab": {
          "base_uri": "https://localhost:8080/"
        },
        "id": "xUn6B6ULvjyA",
        "outputId": "ebaf9504-f614-4f4e-b237-2aafd5781049"
      },
      "source": [
        "# Full paper data\n",
        "y = paper_data.warstds\n",
        "#X = paper_data[paper_data.columns[8:]]\n",
        "X = paper_data[feature_filter].loc[:, paper_data[feature_filter].columns != 'warstds']\n",
        "X_full = paper_data.loc[:, paper_data.columns != 'warstds']\n",
        "\n",
        "#X = paper_data[feature_filter]\n",
        "print(y.shape)\n",
        "print(X.shape)"
      ],
      "execution_count": null,
      "outputs": [
        {
          "output_type": "stream",
          "text": [
            "(7140,)\n",
            "(7140, 92)\n"
          ],
          "name": "stdout"
        }
      ]
    },
    {
      "cell_type": "code",
      "metadata": {
        "colab": {
          "base_uri": "https://localhost:8080/",
          "height": 253
        },
        "id": "OZjKOr5vI5X1",
        "outputId": "bb805639-2847-4763-88e2-a1604cb133be"
      },
      "source": [
        "X.head()"
      ],
      "execution_count": null,
      "outputs": [
        {
          "output_type": "execute_result",
          "data": {
            "text/html": [
              "<div>\n",
              "<style scoped>\n",
              "    .dataframe tbody tr th:only-of-type {\n",
              "        vertical-align: middle;\n",
              "    }\n",
              "\n",
              "    .dataframe tbody tr th {\n",
              "        vertical-align: top;\n",
              "    }\n",
              "\n",
              "    .dataframe thead th {\n",
              "        text-align: right;\n",
              "    }\n",
              "</style>\n",
              "<table border=\"1\" class=\"dataframe\">\n",
              "  <thead>\n",
              "    <tr style=\"text-align: right;\">\n",
              "      <th></th>\n",
              "      <th>cowcode</th>\n",
              "      <th>year</th>\n",
              "      <th>ager</th>\n",
              "      <th>agexp</th>\n",
              "      <th>anoc</th>\n",
              "      <th>army85</th>\n",
              "      <th>autch98</th>\n",
              "      <th>auto4</th>\n",
              "      <th>autonomy</th>\n",
              "      <th>avgnabo</th>\n",
              "      <th>centpol3</th>\n",
              "      <th>coldwar</th>\n",
              "      <th>decade1</th>\n",
              "      <th>decade2</th>\n",
              "      <th>decade3</th>\n",
              "      <th>decade4</th>\n",
              "      <th>dem</th>\n",
              "      <th>dem4</th>\n",
              "      <th>demch98</th>\n",
              "      <th>dlang</th>\n",
              "      <th>drel</th>\n",
              "      <th>durable</th>\n",
              "      <th>ef</th>\n",
              "      <th>ef2</th>\n",
              "      <th>ehet</th>\n",
              "      <th>elfo</th>\n",
              "      <th>elfo2</th>\n",
              "      <th>etdo4590</th>\n",
              "      <th>expgdp</th>\n",
              "      <th>exrec</th>\n",
              "      <th>fedpol3</th>\n",
              "      <th>fuelexp</th>\n",
              "      <th>gdpgrowth</th>\n",
              "      <th>geo1</th>\n",
              "      <th>geo2</th>\n",
              "      <th>geo34</th>\n",
              "      <th>geo57</th>\n",
              "      <th>geo69</th>\n",
              "      <th>geo8</th>\n",
              "      <th>illiteracy</th>\n",
              "      <th>...</th>\n",
              "      <th>mirps1</th>\n",
              "      <th>mirps2</th>\n",
              "      <th>mirps3</th>\n",
              "      <th>nat_war</th>\n",
              "      <th>ncontig</th>\n",
              "      <th>nmgdp</th>\n",
              "      <th>nmdp4_alt</th>\n",
              "      <th>numlang</th>\n",
              "      <th>nwstate</th>\n",
              "      <th>oil</th>\n",
              "      <th>p4mchg</th>\n",
              "      <th>parcomp</th>\n",
              "      <th>parreg</th>\n",
              "      <th>part</th>\n",
              "      <th>partfree</th>\n",
              "      <th>plural</th>\n",
              "      <th>plurrel</th>\n",
              "      <th>pol4</th>\n",
              "      <th>pol4m</th>\n",
              "      <th>pol4sq</th>\n",
              "      <th>polch98</th>\n",
              "      <th>polcomp</th>\n",
              "      <th>popdense</th>\n",
              "      <th>presi</th>\n",
              "      <th>pri</th>\n",
              "      <th>proxregc</th>\n",
              "      <th>ptime</th>\n",
              "      <th>reg</th>\n",
              "      <th>regd4_alt</th>\n",
              "      <th>relfrac</th>\n",
              "      <th>seceduc</th>\n",
              "      <th>second</th>\n",
              "      <th>semipol3</th>\n",
              "      <th>sip2</th>\n",
              "      <th>sxpnew</th>\n",
              "      <th>sxpsq</th>\n",
              "      <th>tnatwar</th>\n",
              "      <th>trade</th>\n",
              "      <th>warhist</th>\n",
              "      <th>xconst</th>\n",
              "    </tr>\n",
              "  </thead>\n",
              "  <tbody>\n",
              "    <tr>\n",
              "      <th>0</th>\n",
              "      <td>700</td>\n",
              "      <td>1945</td>\n",
              "      <td>34.461765</td>\n",
              "      <td>8.510845</td>\n",
              "      <td>0</td>\n",
              "      <td>129472.9042</td>\n",
              "      <td>0</td>\n",
              "      <td>3.925812</td>\n",
              "      <td>0.005151</td>\n",
              "      <td>0.432955</td>\n",
              "      <td>1</td>\n",
              "      <td>1</td>\n",
              "      <td>0</td>\n",
              "      <td>0</td>\n",
              "      <td>0</td>\n",
              "      <td>0</td>\n",
              "      <td>0</td>\n",
              "      <td>3.995929</td>\n",
              "      <td>0</td>\n",
              "      <td>70.0</td>\n",
              "      <td>20.0</td>\n",
              "      <td>20.909713</td>\n",
              "      <td>0.750797</td>\n",
              "      <td>0.563696</td>\n",
              "      <td>90.0</td>\n",
              "      <td>66.0</td>\n",
              "      <td>2212.227998</td>\n",
              "      <td>1.0</td>\n",
              "      <td>33.592410</td>\n",
              "      <td>5.292369</td>\n",
              "      <td>0.132263</td>\n",
              "      <td>15.387903</td>\n",
              "      <td>0.022562</td>\n",
              "      <td>0.0</td>\n",
              "      <td>0.0</td>\n",
              "      <td>0.0</td>\n",
              "      <td>1.0</td>\n",
              "      <td>0.0</td>\n",
              "      <td>0.0</td>\n",
              "      <td>34.020639</td>\n",
              "      <td>...</td>\n",
              "      <td>0.16935</td>\n",
              "      <td>0.313143</td>\n",
              "      <td>0.373714</td>\n",
              "      <td>0</td>\n",
              "      <td>0.0</td>\n",
              "      <td>4508.131692</td>\n",
              "      <td>-0.475189</td>\n",
              "      <td>8.0</td>\n",
              "      <td>0.0</td>\n",
              "      <td>0</td>\n",
              "      <td>0.051008</td>\n",
              "      <td>2.733729</td>\n",
              "      <td>3.835219</td>\n",
              "      <td>2.43732</td>\n",
              "      <td>0</td>\n",
              "      <td>0.38</td>\n",
              "      <td>84.0</td>\n",
              "      <td>0.070117</td>\n",
              "      <td>0.068564</td>\n",
              "      <td>61.493014</td>\n",
              "      <td>0</td>\n",
              "      <td>5.059323</td>\n",
              "      <td>118.554791</td>\n",
              "      <td>0</td>\n",
              "      <td>87.931355</td>\n",
              "      <td>0.143299</td>\n",
              "      <td>12</td>\n",
              "      <td>0.581817</td>\n",
              "      <td>-0.413956</td>\n",
              "      <td>0.2718</td>\n",
              "      <td>43.770298</td>\n",
              "      <td>0.253</td>\n",
              "      <td>0.058441</td>\n",
              "      <td>0.46176</td>\n",
              "      <td>0.158275</td>\n",
              "      <td>0.052989</td>\n",
              "      <td>0.443259</td>\n",
              "      <td>72.881375</td>\n",
              "      <td>0</td>\n",
              "      <td>3.995912</td>\n",
              "    </tr>\n",
              "    <tr>\n",
              "      <th>1</th>\n",
              "      <td>700</td>\n",
              "      <td>1946</td>\n",
              "      <td>34.346348</td>\n",
              "      <td>8.478997</td>\n",
              "      <td>0</td>\n",
              "      <td>129413.0225</td>\n",
              "      <td>0</td>\n",
              "      <td>10.000000</td>\n",
              "      <td>0.000000</td>\n",
              "      <td>0.045052</td>\n",
              "      <td>1</td>\n",
              "      <td>1</td>\n",
              "      <td>0</td>\n",
              "      <td>0</td>\n",
              "      <td>0</td>\n",
              "      <td>0</td>\n",
              "      <td>0</td>\n",
              "      <td>0.000000</td>\n",
              "      <td>0</td>\n",
              "      <td>70.0</td>\n",
              "      <td>20.0</td>\n",
              "      <td>0.000000</td>\n",
              "      <td>0.750797</td>\n",
              "      <td>0.563696</td>\n",
              "      <td>90.0</td>\n",
              "      <td>66.0</td>\n",
              "      <td>2219.468491</td>\n",
              "      <td>1.0</td>\n",
              "      <td>33.561559</td>\n",
              "      <td>1.000000</td>\n",
              "      <td>0.000000</td>\n",
              "      <td>15.594645</td>\n",
              "      <td>0.022447</td>\n",
              "      <td>0.0</td>\n",
              "      <td>0.0</td>\n",
              "      <td>0.0</td>\n",
              "      <td>1.0</td>\n",
              "      <td>0.0</td>\n",
              "      <td>0.0</td>\n",
              "      <td>34.129908</td>\n",
              "      <td>...</td>\n",
              "      <td>0.00000</td>\n",
              "      <td>1.000000</td>\n",
              "      <td>0.000000</td>\n",
              "      <td>1</td>\n",
              "      <td>0.0</td>\n",
              "      <td>4491.340308</td>\n",
              "      <td>-5.000000</td>\n",
              "      <td>8.0</td>\n",
              "      <td>0.0</td>\n",
              "      <td>0</td>\n",
              "      <td>0.053837</td>\n",
              "      <td>1.000000</td>\n",
              "      <td>4.000000</td>\n",
              "      <td>1.00000</td>\n",
              "      <td>0</td>\n",
              "      <td>0.38</td>\n",
              "      <td>84.0</td>\n",
              "      <td>-10.000000</td>\n",
              "      <td>-10.000000</td>\n",
              "      <td>100.000000</td>\n",
              "      <td>0</td>\n",
              "      <td>1.000000</td>\n",
              "      <td>117.756342</td>\n",
              "      <td>0</td>\n",
              "      <td>88.007471</td>\n",
              "      <td>1.000000</td>\n",
              "      <td>24</td>\n",
              "      <td>0.585308</td>\n",
              "      <td>-3.000000</td>\n",
              "      <td>0.2718</td>\n",
              "      <td>43.588363</td>\n",
              "      <td>0.253</td>\n",
              "      <td>0.000000</td>\n",
              "      <td>0.00000</td>\n",
              "      <td>0.158321</td>\n",
              "      <td>0.052663</td>\n",
              "      <td>1.000000</td>\n",
              "      <td>72.900089</td>\n",
              "      <td>0</td>\n",
              "      <td>1.000000</td>\n",
              "    </tr>\n",
              "    <tr>\n",
              "      <th>2</th>\n",
              "      <td>700</td>\n",
              "      <td>1947</td>\n",
              "      <td>77.000000</td>\n",
              "      <td>8.481015</td>\n",
              "      <td>0</td>\n",
              "      <td>130431.0145</td>\n",
              "      <td>0</td>\n",
              "      <td>10.000000</td>\n",
              "      <td>0.000000</td>\n",
              "      <td>0.030034</td>\n",
              "      <td>1</td>\n",
              "      <td>1</td>\n",
              "      <td>0</td>\n",
              "      <td>0</td>\n",
              "      <td>0</td>\n",
              "      <td>0</td>\n",
              "      <td>0</td>\n",
              "      <td>0.000000</td>\n",
              "      <td>0</td>\n",
              "      <td>70.0</td>\n",
              "      <td>20.0</td>\n",
              "      <td>0.000000</td>\n",
              "      <td>0.750797</td>\n",
              "      <td>0.563696</td>\n",
              "      <td>90.0</td>\n",
              "      <td>66.0</td>\n",
              "      <td>2219.825536</td>\n",
              "      <td>1.0</td>\n",
              "      <td>33.577128</td>\n",
              "      <td>1.000000</td>\n",
              "      <td>0.000000</td>\n",
              "      <td>15.601810</td>\n",
              "      <td>0.022372</td>\n",
              "      <td>0.0</td>\n",
              "      <td>0.0</td>\n",
              "      <td>0.0</td>\n",
              "      <td>1.0</td>\n",
              "      <td>0.0</td>\n",
              "      <td>0.0</td>\n",
              "      <td>34.183272</td>\n",
              "      <td>...</td>\n",
              "      <td>0.00000</td>\n",
              "      <td>1.000000</td>\n",
              "      <td>0.000000</td>\n",
              "      <td>1</td>\n",
              "      <td>0.0</td>\n",
              "      <td>4484.267686</td>\n",
              "      <td>-5.000000</td>\n",
              "      <td>8.0</td>\n",
              "      <td>0.0</td>\n",
              "      <td>0</td>\n",
              "      <td>0.000000</td>\n",
              "      <td>1.000000</td>\n",
              "      <td>4.000000</td>\n",
              "      <td>1.00000</td>\n",
              "      <td>0</td>\n",
              "      <td>0.38</td>\n",
              "      <td>84.0</td>\n",
              "      <td>-10.000000</td>\n",
              "      <td>-10.000000</td>\n",
              "      <td>100.000000</td>\n",
              "      <td>0</td>\n",
              "      <td>1.000000</td>\n",
              "      <td>118.280656</td>\n",
              "      <td>0</td>\n",
              "      <td>87.972309</td>\n",
              "      <td>1.000000</td>\n",
              "      <td>36</td>\n",
              "      <td>1.000000</td>\n",
              "      <td>-3.000000</td>\n",
              "      <td>0.2718</td>\n",
              "      <td>43.538181</td>\n",
              "      <td>0.253</td>\n",
              "      <td>0.000000</td>\n",
              "      <td>0.00000</td>\n",
              "      <td>0.158425</td>\n",
              "      <td>0.052891</td>\n",
              "      <td>2.000000</td>\n",
              "      <td>72.962880</td>\n",
              "      <td>0</td>\n",
              "      <td>1.000000</td>\n",
              "    </tr>\n",
              "    <tr>\n",
              "      <th>3</th>\n",
              "      <td>700</td>\n",
              "      <td>1948</td>\n",
              "      <td>78.000000</td>\n",
              "      <td>8.451628</td>\n",
              "      <td>0</td>\n",
              "      <td>126781.6866</td>\n",
              "      <td>0</td>\n",
              "      <td>10.000000</td>\n",
              "      <td>0.000000</td>\n",
              "      <td>0.022526</td>\n",
              "      <td>1</td>\n",
              "      <td>1</td>\n",
              "      <td>0</td>\n",
              "      <td>0</td>\n",
              "      <td>0</td>\n",
              "      <td>0</td>\n",
              "      <td>0</td>\n",
              "      <td>0.000000</td>\n",
              "      <td>0</td>\n",
              "      <td>70.0</td>\n",
              "      <td>20.0</td>\n",
              "      <td>0.000000</td>\n",
              "      <td>0.750797</td>\n",
              "      <td>0.563696</td>\n",
              "      <td>90.0</td>\n",
              "      <td>66.0</td>\n",
              "      <td>2225.284783</td>\n",
              "      <td>1.0</td>\n",
              "      <td>33.625990</td>\n",
              "      <td>1.000000</td>\n",
              "      <td>0.000000</td>\n",
              "      <td>15.739340</td>\n",
              "      <td>0.022239</td>\n",
              "      <td>0.0</td>\n",
              "      <td>0.0</td>\n",
              "      <td>0.0</td>\n",
              "      <td>1.0</td>\n",
              "      <td>0.0</td>\n",
              "      <td>0.0</td>\n",
              "      <td>34.234445</td>\n",
              "      <td>...</td>\n",
              "      <td>0.00000</td>\n",
              "      <td>1.000000</td>\n",
              "      <td>0.000000</td>\n",
              "      <td>1</td>\n",
              "      <td>0.0</td>\n",
              "      <td>4474.082672</td>\n",
              "      <td>-4.500000</td>\n",
              "      <td>8.0</td>\n",
              "      <td>0.0</td>\n",
              "      <td>0</td>\n",
              "      <td>0.000000</td>\n",
              "      <td>1.000000</td>\n",
              "      <td>4.000000</td>\n",
              "      <td>1.00000</td>\n",
              "      <td>0</td>\n",
              "      <td>0.38</td>\n",
              "      <td>84.0</td>\n",
              "      <td>-10.000000</td>\n",
              "      <td>-10.000000</td>\n",
              "      <td>100.000000</td>\n",
              "      <td>0</td>\n",
              "      <td>1.000000</td>\n",
              "      <td>118.325869</td>\n",
              "      <td>0</td>\n",
              "      <td>87.885682</td>\n",
              "      <td>1.000000</td>\n",
              "      <td>48</td>\n",
              "      <td>1.000000</td>\n",
              "      <td>-3.500000</td>\n",
              "      <td>0.2718</td>\n",
              "      <td>43.490005</td>\n",
              "      <td>0.253</td>\n",
              "      <td>0.000000</td>\n",
              "      <td>0.00000</td>\n",
              "      <td>0.159006</td>\n",
              "      <td>0.052902</td>\n",
              "      <td>2.000000</td>\n",
              "      <td>73.102449</td>\n",
              "      <td>0</td>\n",
              "      <td>1.000000</td>\n",
              "    </tr>\n",
              "    <tr>\n",
              "      <th>4</th>\n",
              "      <td>700</td>\n",
              "      <td>1949</td>\n",
              "      <td>79.000000</td>\n",
              "      <td>8.500172</td>\n",
              "      <td>0</td>\n",
              "      <td>130979.2470</td>\n",
              "      <td>0</td>\n",
              "      <td>10.000000</td>\n",
              "      <td>0.000000</td>\n",
              "      <td>0.022526</td>\n",
              "      <td>1</td>\n",
              "      <td>1</td>\n",
              "      <td>0</td>\n",
              "      <td>0</td>\n",
              "      <td>0</td>\n",
              "      <td>0</td>\n",
              "      <td>0</td>\n",
              "      <td>0.000000</td>\n",
              "      <td>0</td>\n",
              "      <td>70.0</td>\n",
              "      <td>20.0</td>\n",
              "      <td>0.000000</td>\n",
              "      <td>0.750797</td>\n",
              "      <td>0.563696</td>\n",
              "      <td>90.0</td>\n",
              "      <td>66.0</td>\n",
              "      <td>2216.878723</td>\n",
              "      <td>1.0</td>\n",
              "      <td>33.538608</td>\n",
              "      <td>1.000000</td>\n",
              "      <td>0.000000</td>\n",
              "      <td>15.525010</td>\n",
              "      <td>0.022462</td>\n",
              "      <td>0.0</td>\n",
              "      <td>0.0</td>\n",
              "      <td>0.0</td>\n",
              "      <td>1.0</td>\n",
              "      <td>0.0</td>\n",
              "      <td>0.0</td>\n",
              "      <td>34.164099</td>\n",
              "      <td>...</td>\n",
              "      <td>0.00000</td>\n",
              "      <td>1.000000</td>\n",
              "      <td>0.000000</td>\n",
              "      <td>1</td>\n",
              "      <td>0.0</td>\n",
              "      <td>4497.299503</td>\n",
              "      <td>-3.000000</td>\n",
              "      <td>8.0</td>\n",
              "      <td>0.0</td>\n",
              "      <td>0</td>\n",
              "      <td>0.000000</td>\n",
              "      <td>1.000000</td>\n",
              "      <td>4.000000</td>\n",
              "      <td>1.00000</td>\n",
              "      <td>0</td>\n",
              "      <td>0.38</td>\n",
              "      <td>84.0</td>\n",
              "      <td>-10.000000</td>\n",
              "      <td>-10.000000</td>\n",
              "      <td>100.000000</td>\n",
              "      <td>0</td>\n",
              "      <td>1.000000</td>\n",
              "      <td>118.312296</td>\n",
              "      <td>0</td>\n",
              "      <td>87.947331</td>\n",
              "      <td>1.000000</td>\n",
              "      <td>60</td>\n",
              "      <td>1.000000</td>\n",
              "      <td>2.000000</td>\n",
              "      <td>0.2718</td>\n",
              "      <td>43.602238</td>\n",
              "      <td>0.253</td>\n",
              "      <td>0.000000</td>\n",
              "      <td>0.00000</td>\n",
              "      <td>0.158074</td>\n",
              "      <td>0.052706</td>\n",
              "      <td>2.000000</td>\n",
              "      <td>72.850389</td>\n",
              "      <td>0</td>\n",
              "      <td>1.000000</td>\n",
              "    </tr>\n",
              "  </tbody>\n",
              "</table>\n",
              "<p>5 rows × 92 columns</p>\n",
              "</div>"
            ],
            "text/plain": [
              "   cowcode  year       ager     agexp  ...   tnatwar      trade  warhist    xconst\n",
              "0      700  1945  34.461765  8.510845  ...  0.443259  72.881375        0  3.995912\n",
              "1      700  1946  34.346348  8.478997  ...  1.000000  72.900089        0  1.000000\n",
              "2      700  1947  77.000000  8.481015  ...  2.000000  72.962880        0  1.000000\n",
              "3      700  1948  78.000000  8.451628  ...  2.000000  73.102449        0  1.000000\n",
              "4      700  1949  79.000000  8.500172  ...  2.000000  72.850389        0  1.000000\n",
              "\n",
              "[5 rows x 92 columns]"
            ]
          },
          "metadata": {
            "tags": []
          },
          "execution_count": 14
        }
      ]
    },
    {
      "cell_type": "code",
      "metadata": {
        "id": "viH0YJySJ4oS"
      },
      "source": [
        "# Split and define, fit, pred RF\n",
        "X_train, X_test, y_train, y_test = train_test_split(X, y, test_size=0.3)\n",
        "\n",
        "X_train_full = X_train.copy()\n",
        "X_train = X_train[X_train.columns[2:]]\n",
        "\n",
        "X_test_full = X_test.copy()\n",
        "X_test = X_test[X_test.columns[2:]]"
      ],
      "execution_count": null,
      "outputs": []
    },
    {
      "cell_type": "code",
      "metadata": {
        "id": "lIBuTGjZr9mv"
      },
      "source": [
        "# Split and define, fit, pred RF\n",
        "X_train, X_test, y_train, y_test = train_test_split(X, y, test_size=0.3)\n",
        "\n",
        "X_train_full = X_train.copy()\n",
        "X_train = X_train[X_train.columns[7:]]\n",
        "\n",
        "X_test_full = X_test.copy()\n",
        "X_test = X_test[X_test.columns[7:]]\n"
      ],
      "execution_count": null,
      "outputs": []
    },
    {
      "cell_type": "code",
      "metadata": {
        "colab": {
          "base_uri": "https://localhost:8080/"
        },
        "id": "gcKccxqo_UpP",
        "outputId": "2126152e-2966-4f63-f846-75a310d543bc"
      },
      "source": [
        "print(X_train.shape)\n",
        "print(X_train_full.shape)\n",
        "print(X_test.shape)\n",
        "print(X_test_full.shape)"
      ],
      "execution_count": null,
      "outputs": [
        {
          "output_type": "stream",
          "text": [
            "(4998, 90)\n",
            "(4998, 92)\n",
            "(2142, 90)\n",
            "(2142, 92)\n"
          ],
          "name": "stdout"
        }
      ]
    },
    {
      "cell_type": "code",
      "metadata": {
        "id": "-Zq_YrMo-0gx"
      },
      "source": [
        "random_forest_clf = RandomForestClassifier(n_estimators=100)\n",
        "random_forest_clf.fit(X_train, y_train)\n",
        "random_forest_scoring = random_forest_clf.predict(X_test)"
      ],
      "execution_count": null,
      "outputs": []
    },
    {
      "cell_type": "code",
      "metadata": {
        "colab": {
          "base_uri": "https://localhost:8080/"
        },
        "id": "8-JjGeNZr93L",
        "outputId": "45ecd21b-dfa5-43e0-b5b0-b4e45cf72d20"
      },
      "source": [
        "precision_recall_fscore_support(y_test, random_forest_scoring, average='binary')"
      ],
      "execution_count": null,
      "outputs": [
        {
          "output_type": "execute_result",
          "data": {
            "text/plain": [
              "(1.0, 0.022222222222222223, 0.04347826086956522, None)"
            ]
          },
          "metadata": {
            "tags": []
          },
          "execution_count": 152
        }
      ]
    },
    {
      "cell_type": "code",
      "metadata": {
        "colab": {
          "base_uri": "https://localhost:8080/"
        },
        "id": "f-fbgx3xwKiN",
        "outputId": "c3b52b86-e564-4401-97e2-6ecfedb9da8a"
      },
      "source": [
        "collections.Counter(random_forest_scoring)"
      ],
      "execution_count": null,
      "outputs": [
        {
          "output_type": "execute_result",
          "data": {
            "text/plain": [
              "Counter({0: 2141, 1: 1})"
            ]
          },
          "metadata": {
            "tags": []
          },
          "execution_count": 153
        }
      ]
    },
    {
      "cell_type": "code",
      "metadata": {
        "colab": {
          "base_uri": "https://localhost:8080/",
          "height": 302
        },
        "id": "A1yXEjqawUm1",
        "outputId": "aec90226-e929-4417-805f-80b62b99b30c"
      },
      "source": [
        "plot_precision_recall_curve(random_forest_clf, X_test, y_test)"
      ],
      "execution_count": null,
      "outputs": [
        {
          "output_type": "execute_result",
          "data": {
            "text/plain": [
              "<sklearn.metrics._plot.precision_recall_curve.PrecisionRecallDisplay at 0x7fb5b4c5bba8>"
            ]
          },
          "metadata": {
            "tags": []
          },
          "execution_count": 154
        },
        {
          "output_type": "display_data",
          "data": {
            "image/png": "[encoded data removed]",
            "text/plain": [
              "<Figure size 432x288 with 1 Axes>"
            ]
          },
          "metadata": {
            "tags": [],
            "needs_background": "light"
          }
        }
      ]
    },
    {
      "cell_type": "code",
      "metadata": {
        "colab": {
          "base_uri": "https://localhost:8080/",
          "height": 302
        },
        "id": "eXLPt5-owfuo",
        "outputId": "868e7ec6-881d-46c8-d74f-10d73e03bb0a"
      },
      "source": [
        "plot_roc_curve(random_forest_clf, X_test, y_test)"
      ],
      "execution_count": null,
      "outputs": [
        {
          "output_type": "execute_result",
          "data": {
            "text/plain": [
              "<sklearn.metrics._plot.roc_curve.RocCurveDisplay at 0x7fb5b44d3c88>"
            ]
          },
          "metadata": {
            "tags": []
          },
          "execution_count": 155
        },
        {
          "output_type": "display_data",
          "data": {
            "image/png": "[encoded data removed]",
            "text/plain": [
              "<Figure size 432x288 with 1 Axes>"
            ]
          },
          "metadata": {
            "tags": [],
            "needs_background": "light"
          }
        }
      ]
    },
    {
      "cell_type": "code",
      "metadata": {
        "id": "g5K5qvTR6Iyj"
      },
      "source": [
        "from sklearn.impute import SimpleImputer"
      ],
      "execution_count": null,
      "outputs": []
    },
    {
      "cell_type": "code",
      "metadata": {
        "colab": {
          "base_uri": "https://localhost:8080/"
        },
        "id": "ZD-PziYA58mO",
        "outputId": "7eb4abe2-4b1c-499d-b894-e2ae1fcb5981"
      },
      "source": [
        "# Perform on expanded data with mean replacement strategy\n",
        "# Split and define, fit, pred RF\n",
        "X_ex.replace([np.inf, -np.inf], np.nan, inplace=True)\n",
        "\n",
        "X_train, X_test, y_train, y_test = train_test_split(X_ex, y_ex, test_size=0.3)\n",
        "\n",
        "imp = SimpleImputer(missing_values=np.nan, strategy='mean')\n",
        "imp = imp.fit(X_train)\n",
        "\n",
        "random_forest_clf = RandomForestClassifier(n_estimators=100)\n",
        "\n",
        "X_train_imp = imp.transform(X_train)\n",
        "random_forest_clf.fit(X_train_imp, y_train)\n",
        "\n",
        "X_test_imp = imp.transform(X_test)\n",
        "random_forest_scoring = random_forest_clf.predict(X_test_imp)"
      ],
      "execution_count": null,
      "outputs": [
        {
          "output_type": "stream",
          "text": [
            "/usr/local/lib/python3.6/dist-packages/pandas/core/frame.py:4389: SettingWithCopyWarning: \n",
            "A value is trying to be set on a copy of a slice from a DataFrame\n",
            "\n",
            "See the caveats in the documentation: https://pandas.pydata.org/pandas-docs/stable/user_guide/indexing.html#returning-a-view-versus-a-copy\n",
            "  method=method,\n"
          ],
          "name": "stderr"
        }
      ]
    },
    {
      "cell_type": "code",
      "metadata": {
        "id": "gHUmdUU-58oi",
        "colab": {
          "base_uri": "https://localhost:8080/"
        },
        "outputId": "dab9b9f6-b9ad-4ab8-949c-89927df0d975"
      },
      "source": [
        "precision_recall_fscore_support(y_test, random_forest_scoring, average='binary')"
      ],
      "execution_count": null,
      "outputs": [
        {
          "output_type": "execute_result",
          "data": {
            "text/plain": [
              "(0.7333333333333333, 0.55, 0.6285714285714286, None)"
            ]
          },
          "metadata": {
            "tags": []
          },
          "execution_count": 71
        }
      ]
    },
    {
      "cell_type": "code",
      "metadata": {
        "colab": {
          "base_uri": "https://localhost:8080/"
        },
        "id": "a3fNepzWHUn3",
        "outputId": "a14f0917-7f6d-47cb-db4a-5583fcb46246"
      },
      "source": [
        "collections.Counter(random_forest_scoring)"
      ],
      "execution_count": null,
      "outputs": [
        {
          "output_type": "execute_result",
          "data": {
            "text/plain": [
              "Counter({0: 2457, 1: 30})"
            ]
          },
          "metadata": {
            "tags": []
          },
          "execution_count": 72
        }
      ]
    },
    {
      "cell_type": "code",
      "metadata": {
        "colab": {
          "base_uri": "https://localhost:8080/",
          "height": 302
        },
        "id": "LwIsh14eHZf4",
        "outputId": "0f02b6d3-275a-4d0c-ea76-79c34a4dd8bc"
      },
      "source": [
        "plot_precision_recall_curve(random_forest_clf, X_test_imp, y_test)"
      ],
      "execution_count": null,
      "outputs": [
        {
          "output_type": "execute_result",
          "data": {
            "text/plain": [
              "<sklearn.metrics._plot.precision_recall_curve.PrecisionRecallDisplay at 0x7f662ce10240>"
            ]
          },
          "metadata": {
            "tags": []
          },
          "execution_count": 73
        },
        {
          "output_type": "display_data",
          "data": {
            "image/png": "[encoded data removed]",
            "text/plain": [
              "<Figure size 432x288 with 1 Axes>"
            ]
          },
          "metadata": {
            "tags": []
          }
        }
      ]
    },
    {
      "cell_type": "code",
      "metadata": {
        "colab": {
          "base_uri": "https://localhost:8080/",
          "height": 302
        },
        "id": "L28H29pnHZiQ",
        "outputId": "6edf3dc4-6e4c-42be-edb6-fa665b19eed7"
      },
      "source": [
        "plot_roc_curve(random_forest_clf, X_test_imp, y_test)"
      ],
      "execution_count": null,
      "outputs": [
        {
          "output_type": "execute_result",
          "data": {
            "text/plain": [
              "<sklearn.metrics._plot.roc_curve.RocCurveDisplay at 0x7f665229c438>"
            ]
          },
          "metadata": {
            "tags": []
          },
          "execution_count": 74
        },
        {
          "output_type": "display_data",
          "data": {
            "image/png": "[encoded data removed]",
            "text/plain": [
              "<Figure size 432x288 with 1 Axes>"
            ]
          },
          "metadata": {
            "tags": []
          }
        }
      ]
    },
    {
      "cell_type": "code",
      "metadata": {
        "id": "9y5kOGbjZ_PG"
      },
      "source": [],
      "execution_count": null,
      "outputs": []
    },
    {
      "cell_type": "code",
      "metadata": {
        "id": "RRWn_kqmZ_UP"
      },
      "source": [
        "from sklearn.model_selection import cross_validate\n",
        "from sklearn.metrics import recall_score\n",
        "from sklearn.impute import SimpleImputer"
      ],
      "execution_count": null,
      "outputs": []
    },
    {
      "cell_type": "code",
      "metadata": {
        "id": "QD4BqOB3iIKD"
      },
      "source": [
        "random_forest_clf = RandomForestClassifier(n_estimators=300, class_weight={0: 0.5, 1: 0.5})"
      ],
      "execution_count": null,
      "outputs": []
    },
    {
      "cell_type": "code",
      "metadata": {
        "colab": {
          "base_uri": "https://localhost:8080/"
        },
        "id": "lzV_FOFnZ_X2",
        "outputId": "5f2a08dc-96b4-401c-8c11-959d0348bb24"
      },
      "source": [
        "scoring = ['f1']\n",
        "scores = cross_validate(random_forest_clf, X[X.columns[2:]], y, scoring=scoring)\n",
        "scores"
      ],
      "execution_count": null,
      "outputs": [
        {
          "output_type": "execute_result",
          "data": {
            "text/plain": [
              "{'fit_time': array([3.57809782, 3.77468252, 3.84943056, 3.71438432, 3.73424816]),\n",
              " 'score_time': array([0.04105449, 0.056494  , 0.05688739, 0.05681419, 0.05876541]),\n",
              " 'test_f1': array([0.08333333, 0.08      , 0.07407407, 0.15384615, 0.07692308])}"
            ]
          },
          "metadata": {
            "tags": []
          },
          "execution_count": 60
        }
      ]
    },
    {
      "cell_type": "code",
      "metadata": {
        "colab": {
          "base_uri": "https://localhost:8080/"
        },
        "id": "p0WuNClWv5M3",
        "outputId": "6ce388dd-31ba-4989-b33a-b02b4ca833ee"
      },
      "source": [
        "print(scores['test_f1'].mean())"
      ],
      "execution_count": null,
      "outputs": [
        {
          "output_type": "stream",
          "text": [
            "0.09363532763532764\n"
          ],
          "name": "stdout"
        }
      ]
    },
    {
      "cell_type": "code",
      "metadata": {
        "colab": {
          "base_uri": "https://localhost:8080/"
        },
        "id": "I1jhAwsivJ_S",
        "outputId": "fcb5e10c-44d5-43a3-a4a1-4eccdb4e8a62"
      },
      "source": [
        "scoring = ['f1']\n",
        "scores = cross_validate(random_forest_clf, X_full[X_full.columns[7:]], y, scoring=scoring)\n",
        "scores"
      ],
      "execution_count": null,
      "outputs": [
        {
          "output_type": "execute_result",
          "data": {
            "text/plain": [
              "{'fit_time': array([6.50778985, 6.84472227, 6.47429752, 6.17811799, 6.03826308]),\n",
              " 'score_time': array([0.05453634, 0.05373192, 0.04106736, 0.05316305, 0.0543983 ]),\n",
              " 'test_f1': array([0.65116279, 0.76923077, 0.61538462, 0.57894737, 0.66666667])}"
            ]
          },
          "metadata": {
            "tags": []
          },
          "execution_count": 67
        }
      ]
    },
    {
      "cell_type": "code",
      "metadata": {
        "colab": {
          "base_uri": "https://localhost:8080/"
        },
        "id": "tKUSHLezwCAH",
        "outputId": "b1e726c6-1df0-4372-d79f-ec08c276bfaa"
      },
      "source": [
        "print(scores['test_f1'].mean())"
      ],
      "execution_count": null,
      "outputs": [
        {
          "output_type": "stream",
          "text": [
            "0.6562784420801556\n"
          ],
          "name": "stdout"
        }
      ]
    },
    {
      "cell_type": "code",
      "metadata": {
        "colab": {
          "base_uri": "https://localhost:8080/"
        },
        "id": "vEZEomW2b8yh",
        "outputId": "1285e674-5880-4ac2-96e9-6bbca7e4a885"
      },
      "source": [
        "X_ex.replace([np.inf, -np.inf], np.nan, inplace=True)\n",
        "\n",
        "\n",
        "imp = SimpleImputer(missing_values=np.nan, strategy='mean')\n",
        "imp = imp.fit(X_ex)\n",
        "X_ex_imp = imp.transform(X_ex)"
      ],
      "execution_count": null,
      "outputs": [
        {
          "output_type": "stream",
          "text": [
            "/usr/local/lib/python3.6/dist-packages/pandas/core/frame.py:4389: SettingWithCopyWarning: \n",
            "A value is trying to be set on a copy of a slice from a DataFrame\n",
            "\n",
            "See the caveats in the documentation: https://pandas.pydata.org/pandas-docs/stable/user_guide/indexing.html#returning-a-view-versus-a-copy\n",
            "  method=method,\n"
          ],
          "name": "stderr"
        }
      ]
    },
    {
      "cell_type": "code",
      "metadata": {
        "colab": {
          "base_uri": "https://localhost:8080/"
        },
        "id": "HZsMAL9naEep",
        "outputId": "b6eeff06-bf53-4823-ba52-b97ec6641cf1"
      },
      "source": [
        "scores = cross_validate(random_forest_clf, X_ex_imp, y_ex, scoring=scoring)\n",
        "scores"
      ],
      "execution_count": null,
      "outputs": [
        {
          "output_type": "execute_result",
          "data": {
            "text/plain": [
              "{'fit_time': array([ 9.5546782 , 10.67951918, 10.60102439, 10.19366002, 11.39090157]),\n",
              " 'score_time': array([0.06262279, 0.05812407, 0.0644443 , 0.06393814, 0.05795836]),\n",
              " 'test_f1': array([0.68421053, 0.57142857, 0.57777778, 0.55813953, 0.14886731])}"
            ]
          },
          "metadata": {
            "tags": []
          },
          "execution_count": 69
        }
      ]
    },
    {
      "cell_type": "code",
      "metadata": {
        "colab": {
          "base_uri": "https://localhost:8080/"
        },
        "id": "RfQAOAjWaEnD",
        "outputId": "da375873-be62-4828-ad1c-6dc9c418852c"
      },
      "source": [
        "print(scores['test_f1'].mean())"
      ],
      "execution_count": null,
      "outputs": [
        {
          "output_type": "stream",
          "text": [
            "0.5080847448643435\n"
          ],
          "name": "stdout"
        }
      ]
    },
    {
      "cell_type": "markdown",
      "metadata": {
        "id": "Qr9Geuz5C0Fs"
      },
      "source": [
        "## Skope-rules"
      ]
    },
    {
      "cell_type": "code",
      "metadata": {
        "colab": {
          "base_uri": "https://localhost:8080/"
        },
        "id": "PGDDBwSK0Jg7",
        "outputId": "faf1f834-9e7c-469f-da4e-14405d6a3c55"
      },
      "source": [
        "!pip install skope-rules"
      ],
      "execution_count": null,
      "outputs": [
        {
          "output_type": "stream",
          "text": [
            "Collecting skope-rules\n",
            "  Downloading https://files.pythonhosted.org/packages/3f/5b/d3ea2e1635601557945c0a166b206b0b6e8b284cb74cb4bdb1b423ec7dd4/skope_rules-1.0.1-py3-none-any.whl\n",
            "Requirement already satisfied: scikit-learn>=0.17.1 in /usr/local/lib/python3.6/dist-packages (from skope-rules) (0.22.2.post1)\n",
            "Requirement already satisfied: numpy>=1.10.4 in /usr/local/lib/python3.6/dist-packages (from skope-rules) (1.19.4)\n",
            "Requirement already satisfied: scipy>=0.17.0 in /usr/local/lib/python3.6/dist-packages (from skope-rules) (1.4.1)\n",
            "Requirement already satisfied: pandas>=0.18.1 in /usr/local/lib/python3.6/dist-packages (from skope-rules) (1.1.5)\n",
            "Requirement already satisfied: joblib>=0.11 in /usr/local/lib/python3.6/dist-packages (from scikit-learn>=0.17.1->skope-rules) (1.0.0)\n",
            "Requirement already satisfied: pytz>=2017.2 in /usr/local/lib/python3.6/dist-packages (from pandas>=0.18.1->skope-rules) (2018.9)\n",
            "Requirement already satisfied: python-dateutil>=2.7.3 in /usr/local/lib/python3.6/dist-packages (from pandas>=0.18.1->skope-rules) (2.8.1)\n",
            "Requirement already satisfied: six>=1.5 in /usr/local/lib/python3.6/dist-packages (from python-dateutil>=2.7.3->pandas>=0.18.1->skope-rules) (1.15.0)\n",
            "Installing collected packages: skope-rules\n",
            "Successfully installed skope-rules-1.0.1\n"
          ],
          "name": "stdout"
        }
      ]
    },
    {
      "cell_type": "code",
      "metadata": {
        "id": "HGbXO3rtwyzi",
        "colab": {
          "base_uri": "https://localhost:8080/"
        },
        "outputId": "139d34c2-5d00-4565-caa5-508bd4b9ce5c"
      },
      "source": [
        "from skrules import SkopeRules\n"
      ],
      "execution_count": null,
      "outputs": [
        {
          "output_type": "stream",
          "text": [
            "/usr/local/lib/python3.6/dist-packages/sklearn/externals/six.py:31: FutureWarning: The module is deprecated in version 0.21 and will be removed in version 0.23 since we've dropped support for Python 2.7. Please rely on the official version of six (https://pypi.org/project/six/).\n",
            "  \"(https://pypi.org/project/six/).\", FutureWarning)\n"
          ],
          "name": "stderr"
        }
      ]
    },
    {
      "cell_type": "code",
      "metadata": {
        "colab": {
          "base_uri": "https://localhost:8080/"
        },
        "id": "hVLYrBGK0GUP",
        "outputId": "3c18262d-3811-4da3-d21f-d104c427be1f"
      },
      "source": [
        "# Train a skope-rules-boosting classifier\n",
        "# feature_names=paper_data.columns[8:]\n",
        "skope_rules_clf = SkopeRules(feature_names=X_train.columns, n_estimators=100,\n",
        "                               recall_min=0.2, precision_min=0.2,\n",
        "                               max_depth_duplication= 4, max_depth = 5)\n",
        "skope_rules_clf.fit(X_train, y_train)"
      ],
      "execution_count": null,
      "outputs": [
        {
          "output_type": "execute_result",
          "data": {
            "text/plain": [
              "SkopeRules(bootstrap=False, bootstrap_features=False,\n",
              "           feature_names=Index(['ager', 'agexp', 'anoc', 'army85', 'autch98', 'auto4', 'autonomy',\n",
              "       'avgnabo', 'centpol3', 'coldwar', 'decade1', 'decade2', 'decade3',\n",
              "       'decade4', 'dem', 'dem4', 'demch98', 'dlang', 'drel', 'durable', 'ef',\n",
              "       'ef2', 'ehet', 'elfo', 'elfo2', 'etdo4590', 'expgdp', 'exrec',\n",
              "       'fedpol3', 'fuelexp', 'gdpgrowth', 'geo1...\n",
              "       'polch98', 'polcomp', 'popdense', 'presi', 'pri', 'proxregc', 'ptime',\n",
              "       'reg', 'regd4_alt', 'relfrac', 'seceduc', 'second', 'semipol3', 'sip2',\n",
              "       'sxpnew', 'sxpsq', 'tnatwar', 'trade', 'warhist', 'xconst'],\n",
              "      dtype='object'),\n",
              "           max_depth=5, max_depth_duplication=4, max_features=1.0,\n",
              "           max_samples=0.8, max_samples_features=1.0, min_samples_split=2,\n",
              "           n_estimators=100, n_jobs=1, precision_min=0.2, random_state=None,\n",
              "           recall_min=0.2, verbose=0)"
            ]
          },
          "metadata": {
            "tags": []
          },
          "execution_count": 164
        }
      ]
    },
    {
      "cell_type": "code",
      "metadata": {
        "id": "PHI6gNOM0Sm9"
      },
      "source": [
        "skope_rules_scoring = skope_rules_clf.score_top_rules(X_test)"
      ],
      "execution_count": null,
      "outputs": []
    },
    {
      "cell_type": "code",
      "metadata": {
        "colab": {
          "base_uri": "https://localhost:8080/"
        },
        "id": "0J1BdUNR0WEZ",
        "outputId": "51407ebc-8273-4f99-9e0f-79cf888a68c3"
      },
      "source": [
        "# Get number of rules created\n",
        "print(str(len(skope_rules_clf.rules_)) + ' rules have been built with ' +\n",
        "      'SkopeRules.\\n')"
      ],
      "execution_count": null,
      "outputs": [
        {
          "output_type": "stream",
          "text": [
            "6 rules have been built with SkopeRules.\n",
            "\n"
          ],
          "name": "stdout"
        }
      ]
    },
    {
      "cell_type": "code",
      "metadata": {
        "colab": {
          "base_uri": "https://localhost:8080/"
        },
        "id": "mz0327Gm1a5b",
        "outputId": "e7a53bbb-fb6c-4df2-b44f-40cbbfda1c2d"
      },
      "source": [
        "import json\n",
        "\n",
        "for i_rule, rule in enumerate(skope_rules_clf.rules_[:9]):\n",
        "    print(json.dumps(rule))"
      ],
      "execution_count": null,
      "outputs": [
        {
          "output_type": "stream",
          "text": [
            "[\"agexp > 10.917234897613525 and nwstate <= 0.025939878076314926 and popdense > 73.18764877319336 and sxpnew <= 0.10493441298604012 and sxpnew > 0.10259348899126053\", [0.45454545454545453, 0.2631578947368421, 1]]\n",
            "[\"agexp > 9.26222562789917 and nwstate <= 0.02575663384050131 and popdense <= 101.7993278503418 and popdense > 73.18764877319336 and sxpsq > 0.022167881950736046\", [0.5217391304347826, 0.21818181818181817, 1]]\n",
            "[\"agexp > 11.1209135055542 and etdo4590 <= 0.6065419912338257 and mirps3 <= 0.27200382947921753 and nwstate <= 0.025939878076314926 and popdense > 73.18764877319336\", [0.3, 0.3157894736842105, 1]]\n",
            "[\"agexp > 9.264163970947266 and expgdp > 20.96492290496826 and nwstate <= 0.025939878076314926 and popdense <= 101.83086395263672 and popdense > 97.3112907409668\", [0.5454545454545454, 0.20689655172413793, 1]]\n",
            "[\"agexp > 9.260287284851074 and milper > 128.15564346313477 and nwstate <= 0.025939878076314926 and sxpnew <= 0.14166831225156784 and sxpsq > 0.022212110459804535\", [0.4074074074074074, 0.20754716981132076, 1]]\n",
            "[\"agexp > 10.932549953460693 and nwstate <= 0.025939878076314926 and popdense > 81.3488998413086 and sxpnew > 0.1025930717587471\", [0.2, 0.26666666666666666, 1]]\n"
          ],
          "name": "stdout"
        }
      ]
    },
    {
      "cell_type": "code",
      "metadata": {
        "colab": {
          "base_uri": "https://localhost:8080/",
          "height": 683
        },
        "id": "Z1gyryq51eY0",
        "outputId": "52dc4314-ca6c-48b6-8b1c-dfa91f645ca2"
      },
      "source": [
        "def compute_y_pred_from_query(X, rule):\n",
        "    score = np.zeros(X.shape[0])\n",
        "    X = X.reset_index(drop=True)\n",
        "    score[list(X.query(rule).index)] = 1\n",
        "    return(score)\n",
        "\n",
        "def compute_performances_from_y_pred(y_true, y_pred, index_name='default_index'):\n",
        "    df = pd.DataFrame(data=\n",
        "        {\n",
        "            'precision':[sum(y_true * y_pred)/sum(y_pred)],\n",
        "            'recall':[sum(y_true * y_pred)/sum(y_true)]\n",
        "        },\n",
        "        index=[index_name],\n",
        "        columns=['precision', 'recall']\n",
        "    )\n",
        "    return(df)\n",
        "\n",
        "def compute_train_test_query_performances(X_train, y_train, X_test, y_test, rule):\n",
        "    \n",
        "    y_train_pred = compute_y_pred_from_query(X_train, rule)\n",
        "    y_test_pred = compute_y_pred_from_query(X_test, rule)\n",
        "    \n",
        "    performances = None\n",
        "    performances = pd.concat([\n",
        "        performances,\n",
        "        compute_performances_from_y_pred(y_train, y_train_pred, 'train_set')],\n",
        "        axis=0)\n",
        "    performances = pd.concat([\n",
        "        performances,\n",
        "        compute_performances_from_y_pred(y_test, y_test_pred, 'test_set')],\n",
        "        axis=0)\n",
        "            \n",
        "    return(performances)\n",
        "\n",
        "for i in range(6):\n",
        "    print('Rule '+str(i+1)+':')\n",
        "    display(compute_train_test_query_performances(X_train, y_train,\n",
        "                                                  X_test, y_test,\n",
        "                                                  skope_rules_clf.rules_[i][0])\n",
        "           )"
      ],
      "execution_count": null,
      "outputs": [
        {
          "output_type": "stream",
          "text": [
            "Rule 1:\n"
          ],
          "name": "stdout"
        },
        {
          "output_type": "display_data",
          "data": {
            "text/html": [
              "<div>\n",
              "<style scoped>\n",
              "    .dataframe tbody tr th:only-of-type {\n",
              "        vertical-align: middle;\n",
              "    }\n",
              "\n",
              "    .dataframe tbody tr th {\n",
              "        vertical-align: top;\n",
              "    }\n",
              "\n",
              "    .dataframe thead th {\n",
              "        text-align: right;\n",
              "    }\n",
              "</style>\n",
              "<table border=\"1\" class=\"dataframe\">\n",
              "  <thead>\n",
              "    <tr style=\"text-align: right;\">\n",
              "      <th></th>\n",
              "      <th>precision</th>\n",
              "      <th>recall</th>\n",
              "    </tr>\n",
              "  </thead>\n",
              "  <tbody>\n",
              "    <tr>\n",
              "      <th>train_set</th>\n",
              "      <td>0.410256</td>\n",
              "      <td>0.225352</td>\n",
              "    </tr>\n",
              "    <tr>\n",
              "      <th>test_set</th>\n",
              "      <td>0.526316</td>\n",
              "      <td>0.222222</td>\n",
              "    </tr>\n",
              "  </tbody>\n",
              "</table>\n",
              "</div>"
            ],
            "text/plain": [
              "           precision    recall\n",
              "train_set   0.410256  0.225352\n",
              "test_set    0.526316  0.222222"
            ]
          },
          "metadata": {
            "tags": []
          }
        },
        {
          "output_type": "stream",
          "text": [
            "Rule 2:\n"
          ],
          "name": "stdout"
        },
        {
          "output_type": "display_data",
          "data": {
            "text/html": [
              "<div>\n",
              "<style scoped>\n",
              "    .dataframe tbody tr th:only-of-type {\n",
              "        vertical-align: middle;\n",
              "    }\n",
              "\n",
              "    .dataframe tbody tr th {\n",
              "        vertical-align: top;\n",
              "    }\n",
              "\n",
              "    .dataframe thead th {\n",
              "        text-align: right;\n",
              "    }\n",
              "</style>\n",
              "<table border=\"1\" class=\"dataframe\">\n",
              "  <thead>\n",
              "    <tr style=\"text-align: right;\">\n",
              "      <th></th>\n",
              "      <th>precision</th>\n",
              "      <th>recall</th>\n",
              "    </tr>\n",
              "  </thead>\n",
              "  <tbody>\n",
              "    <tr>\n",
              "      <th>train_set</th>\n",
              "      <td>0.466667</td>\n",
              "      <td>0.197183</td>\n",
              "    </tr>\n",
              "    <tr>\n",
              "      <th>test_set</th>\n",
              "      <td>0.352941</td>\n",
              "      <td>0.133333</td>\n",
              "    </tr>\n",
              "  </tbody>\n",
              "</table>\n",
              "</div>"
            ],
            "text/plain": [
              "           precision    recall\n",
              "train_set   0.466667  0.197183\n",
              "test_set    0.352941  0.133333"
            ]
          },
          "metadata": {
            "tags": []
          }
        },
        {
          "output_type": "stream",
          "text": [
            "Rule 3:\n"
          ],
          "name": "stdout"
        },
        {
          "output_type": "display_data",
          "data": {
            "text/html": [
              "<div>\n",
              "<style scoped>\n",
              "    .dataframe tbody tr th:only-of-type {\n",
              "        vertical-align: middle;\n",
              "    }\n",
              "\n",
              "    .dataframe tbody tr th {\n",
              "        vertical-align: top;\n",
              "    }\n",
              "\n",
              "    .dataframe thead th {\n",
              "        text-align: right;\n",
              "    }\n",
              "</style>\n",
              "<table border=\"1\" class=\"dataframe\">\n",
              "  <thead>\n",
              "    <tr style=\"text-align: right;\">\n",
              "      <th></th>\n",
              "      <th>precision</th>\n",
              "      <th>recall</th>\n",
              "    </tr>\n",
              "  </thead>\n",
              "  <tbody>\n",
              "    <tr>\n",
              "      <th>train_set</th>\n",
              "      <td>0.301370</td>\n",
              "      <td>0.309859</td>\n",
              "    </tr>\n",
              "    <tr>\n",
              "      <th>test_set</th>\n",
              "      <td>0.391304</td>\n",
              "      <td>0.200000</td>\n",
              "    </tr>\n",
              "  </tbody>\n",
              "</table>\n",
              "</div>"
            ],
            "text/plain": [
              "           precision    recall\n",
              "train_set   0.301370  0.309859\n",
              "test_set    0.391304  0.200000"
            ]
          },
          "metadata": {
            "tags": []
          }
        },
        {
          "output_type": "stream",
          "text": [
            "Rule 4:\n"
          ],
          "name": "stdout"
        },
        {
          "output_type": "display_data",
          "data": {
            "text/html": [
              "<div>\n",
              "<style scoped>\n",
              "    .dataframe tbody tr th:only-of-type {\n",
              "        vertical-align: middle;\n",
              "    }\n",
              "\n",
              "    .dataframe tbody tr th {\n",
              "        vertical-align: top;\n",
              "    }\n",
              "\n",
              "    .dataframe thead th {\n",
              "        text-align: right;\n",
              "    }\n",
              "</style>\n",
              "<table border=\"1\" class=\"dataframe\">\n",
              "  <thead>\n",
              "    <tr style=\"text-align: right;\">\n",
              "      <th></th>\n",
              "      <th>precision</th>\n",
              "      <th>recall</th>\n",
              "    </tr>\n",
              "  </thead>\n",
              "  <tbody>\n",
              "    <tr>\n",
              "      <th>train_set</th>\n",
              "      <td>0.482759</td>\n",
              "      <td>0.197183</td>\n",
              "    </tr>\n",
              "    <tr>\n",
              "      <th>test_set</th>\n",
              "      <td>0.368421</td>\n",
              "      <td>0.155556</td>\n",
              "    </tr>\n",
              "  </tbody>\n",
              "</table>\n",
              "</div>"
            ],
            "text/plain": [
              "           precision    recall\n",
              "train_set   0.482759  0.197183\n",
              "test_set    0.368421  0.155556"
            ]
          },
          "metadata": {
            "tags": []
          }
        },
        {
          "output_type": "stream",
          "text": [
            "Rule 5:\n"
          ],
          "name": "stdout"
        },
        {
          "output_type": "display_data",
          "data": {
            "text/html": [
              "<div>\n",
              "<style scoped>\n",
              "    .dataframe tbody tr th:only-of-type {\n",
              "        vertical-align: middle;\n",
              "    }\n",
              "\n",
              "    .dataframe tbody tr th {\n",
              "        vertical-align: top;\n",
              "    }\n",
              "\n",
              "    .dataframe thead th {\n",
              "        text-align: right;\n",
              "    }\n",
              "</style>\n",
              "<table border=\"1\" class=\"dataframe\">\n",
              "  <thead>\n",
              "    <tr style=\"text-align: right;\">\n",
              "      <th></th>\n",
              "      <th>precision</th>\n",
              "      <th>recall</th>\n",
              "    </tr>\n",
              "  </thead>\n",
              "  <tbody>\n",
              "    <tr>\n",
              "      <th>train_set</th>\n",
              "      <td>0.410256</td>\n",
              "      <td>0.225352</td>\n",
              "    </tr>\n",
              "    <tr>\n",
              "      <th>test_set</th>\n",
              "      <td>0.538462</td>\n",
              "      <td>0.155556</td>\n",
              "    </tr>\n",
              "  </tbody>\n",
              "</table>\n",
              "</div>"
            ],
            "text/plain": [
              "           precision    recall\n",
              "train_set   0.410256  0.225352\n",
              "test_set    0.538462  0.155556"
            ]
          },
          "metadata": {
            "tags": []
          }
        },
        {
          "output_type": "stream",
          "text": [
            "Rule 6:\n"
          ],
          "name": "stdout"
        },
        {
          "output_type": "display_data",
          "data": {
            "text/html": [
              "<div>\n",
              "<style scoped>\n",
              "    .dataframe tbody tr th:only-of-type {\n",
              "        vertical-align: middle;\n",
              "    }\n",
              "\n",
              "    .dataframe tbody tr th {\n",
              "        vertical-align: top;\n",
              "    }\n",
              "\n",
              "    .dataframe thead th {\n",
              "        text-align: right;\n",
              "    }\n",
              "</style>\n",
              "<table border=\"1\" class=\"dataframe\">\n",
              "  <thead>\n",
              "    <tr style=\"text-align: right;\">\n",
              "      <th></th>\n",
              "      <th>precision</th>\n",
              "      <th>recall</th>\n",
              "    </tr>\n",
              "  </thead>\n",
              "  <tbody>\n",
              "    <tr>\n",
              "      <th>train_set</th>\n",
              "      <td>0.19802</td>\n",
              "      <td>0.281690</td>\n",
              "    </tr>\n",
              "    <tr>\n",
              "      <th>test_set</th>\n",
              "      <td>0.22449</td>\n",
              "      <td>0.244444</td>\n",
              "    </tr>\n",
              "  </tbody>\n",
              "</table>\n",
              "</div>"
            ],
            "text/plain": [
              "           precision    recall\n",
              "train_set    0.19802  0.281690\n",
              "test_set     0.22449  0.244444"
            ]
          },
          "metadata": {
            "tags": []
          }
        }
      ]
    },
    {
      "cell_type": "code",
      "metadata": {
        "id": "HH_IQsIKPoLv"
      },
      "source": [
        "import random"
      ],
      "execution_count": null,
      "outputs": []
    },
    {
      "cell_type": "code",
      "metadata": {
        "colab": {
          "base_uri": "https://localhost:8080/"
        },
        "id": "UOSjXuN1xNxP",
        "outputId": "042b1826-5f1b-4e63-de4b-fc1f0b2d956b"
      },
      "source": [
        "for i_rule, rule in enumerate(skope_rules_clf.rules_[:6]):\n",
        "  print(rule)\n",
        "  scores = compute_y_pred_from_query(X_test, rule[0])\n",
        "  #print(scores.shape)\n",
        "  #print(y_test.shape)\n",
        "  #print(X_test.shape)\n",
        "\n",
        "  tp = []\n",
        "  fp = []\n",
        "  tn = []\n",
        "  fn = []\n",
        "\n",
        "  for i in range(len(scores)):\n",
        "    if y_test.iloc[i] == scores[i] and scores[i] == 1:\n",
        "      tp.append(country_codes._get_value(X_test_full.cowcode.to_numpy()[i], \"StateNme\") + \" \" + str(X_test_full.year.to_numpy()[i]))\n",
        "    if y_test.iloc[i] != scores[i] and scores[i] == 1:\n",
        "      try:\n",
        "        fp.append(country_codes._get_value(X_test_full.cowcode.to_numpy()[i], \"StateNme\") + \" \" + str(X_test_full.year.to_numpy()[i]))\n",
        "      except:\n",
        "        fp.append(str(X_test_full.cowcode.to_numpy()[i]) + \" \" + str(X_test_full.year.to_numpy()[i]))\n",
        "    if y_test.iloc[i] != scores[i] and scores[i] == 0:\n",
        "      fn.append(country_codes._get_value(X_test_full.cowcode.to_numpy()[i], \"StateNme\") + \" \" + str(X_test_full.year.to_numpy()[i]))\n",
        "    if y_test.iloc[i] == scores[i] and scores[i] == 0:\n",
        "      try:\n",
        "        tn.append(country_codes._get_value(X_test_full.cowcode.to_numpy()[i], \"StateNme\") + \" \" + str(X_test_full.year.to_numpy()[i]))\n",
        "      except:\n",
        "        tn.append(str(X_test_full.cowcode.to_numpy()[i]) + \" \" + str(X_test_full.year.to_numpy()[i]))\n",
        "\n",
        "  tp_len = len(tp)\n",
        "  fp_len = len(fp)\n",
        "  tn_len = len(tn)\n",
        "  fn_len = len(fn)\n",
        "\n",
        "  # Fill it to have min pop of 10\n",
        "  for k in range(10):\n",
        "    if len(tp) < 10:\n",
        "      tp.append(\"\")\n",
        "    if len(fp) < 10:\n",
        "      fp.append(\"\")\n",
        "    if len(tn) < 10:\n",
        "      tn.append(\"\")\n",
        "    if len(fn) < 10:\n",
        "      fn.append(\"\")\n",
        "\n",
        "  no_wars = 10\n",
        "\n",
        "  wars_tp = random.sample(tp, no_wars)\n",
        "  wars_fp = random.sample(fp, no_wars)\n",
        "  wars_tn = random.sample(tn, no_wars)\n",
        "  wars_fn = random.sample(fn, no_wars)\n",
        "\n",
        "  for j in range(no_wars):\n",
        "    war_tp = wars_tp[j]\n",
        "    if isinstance(war_tp, np.ndarray):\n",
        "      wars_tp[j] = war_tp[0]\n",
        "    war_fp = wars_fp[j]\n",
        "    if isinstance(war_fp, np.ndarray):\n",
        "      wars_fp[j] = war_fp[0]\n",
        "    war_tn = wars_tn[j]\n",
        "    if isinstance(war_tn, np.ndarray):\n",
        "      wars_tn[j] = war_tn[0]\n",
        "    war_fn = wars_fn[j]\n",
        "    if isinstance(war_fn, np.ndarray):\n",
        "      wars_fn[j] = war_fn[0]\n",
        "\n",
        "  wars_tp = list(filter(lambda item: item != '', wars_tp))\n",
        "  wars_fp = list(filter(lambda item: item != '', wars_fp))\n",
        "  wars_tn = list(filter(lambda item: item != '', wars_tn))\n",
        "  wars_fn = list(filter(lambda item: item != '', wars_fn))\n",
        "\n",
        "  print('<thead><tr><th scope=\"col\">TP (' + str(tp_len) + ')</th><th scope=\"col\">TN (' + str(tn_len) + \n",
        "        ')</th><th scope=\"col\">FN (' + str(fn_len) + ')</th><th scope=\"col\">FP (' + str(fp_len) + ')</th></tr></thead>')\n",
        "  print('<tbody>')\n",
        "  for j in range(no_wars):\n",
        "    if j >= len(wars_tp):\n",
        "      war_tp = ''\n",
        "    else:\n",
        "      war_tp = wars_tp[j]\n",
        "\n",
        "    if j >= len(wars_fp):\n",
        "      war_fp = ''\n",
        "    else:\n",
        "      war_fp = wars_fp[j]\n",
        "\n",
        "    if j >= len(wars_tn):\n",
        "      war_tn = ''\n",
        "    else:\n",
        "      war_tn = wars_tn[j]\n",
        "\n",
        "    if j >= len(wars_fn):\n",
        "      war_fn = ''\n",
        "    else:\n",
        "      war_fn = wars_fn[j]\n",
        "\n",
        "    print('<tr><td>' + war_tp + '</td><td>' + war_tn + '</td><td>' + war_fn + '</td><td>' + war_fp + '</td></tr>')\n",
        "  print('</tbody>')"
      ],
      "execution_count": null,
      "outputs": [
        {
          "output_type": "stream",
          "text": [
            "('agexp > 10.917234897613525 and nwstate <= 0.025939878076314926 and popdense > 73.18764877319336 and sxpnew <= 0.10493441298604012 and sxpnew > 0.10259348899126053', (0.45454545454545453, 0.2631578947368421, 1))\n",
            "<thead><tr><th scope=\"col\">TP (10)</th><th scope=\"col\">TN (2088)</th><th scope=\"col\">FN (35)</th><th scope=\"col\">FP (9)</th></tr></thead>\n",
            "<tbody>\n",
            "<tr><td>Laos 1960</td><td>Norway 1963</td><td>Guatemala 1978</td><td>Colombia 1958</td></tr>\n",
            "<tr><td>China 1950</td><td>Liberia 1983</td><td>Algeria 1962</td><td>Colombia 1950</td></tr>\n",
            "<tr><td>Burundi 1965</td><td>364 1977</td><td>Sudan 1983</td><td>China 1956</td></tr>\n",
            "<tr><td>Indonesia 1953</td><td>Uruguay 1966</td><td>Sri Lanka 1971</td><td>Congo 1998</td></tr>\n",
            "<tr><td>Burundi 1988</td><td>818 1985</td><td>Peru 1982</td><td>Kosovo 1999</td></tr>\n",
            "<tr><td>Iraq 1959</td><td>Sudan 1959</td><td>Thailand 1967</td><td>Ethiopia 1977</td></tr>\n",
            "<tr><td>Paraguay 1947</td><td>Colombia 1978</td><td>Tajikistan 1992</td><td>Colombia 1956</td></tr>\n",
            "<tr><td>Republic of Vietnam 1960</td><td>Dominican Republic 1991</td><td>Mozambique 1976</td><td>Myanmar 1950</td></tr>\n",
            "<tr><td>Burundi 1991</td><td>Yemen Arab Republic 1980</td><td>Democratic Republic of the Congo 1991</td><td>Colombia 1953</td></tr>\n",
            "<tr><td>Philippines 1950</td><td>Uganda 1980</td><td>Pakistan 1971</td><td></td></tr>\n",
            "</tbody>\n",
            "('agexp > 9.26222562789917 and nwstate <= 0.02575663384050131 and popdense <= 101.7993278503418 and popdense > 73.18764877319336 and sxpsq > 0.022167881950736046', (0.5217391304347826, 0.21818181818181817, 1))\n",
            "<thead><tr><th scope=\"col\">TP (6)</th><th scope=\"col\">TN (2086)</th><th scope=\"col\">FN (39)</th><th scope=\"col\">FP (11)</th></tr></thead>\n",
            "<tbody>\n",
            "<tr><td>Laos 1960</td><td>Luxembourg 1964</td><td>Cyprus 1963</td><td>Indonesia 1989</td></tr>\n",
            "<tr><td>Republic of Vietnam 1960</td><td>Colombia 1977</td><td>Sudan 1983</td><td>Colombia 1953</td></tr>\n",
            "<tr><td>Iraq 1959</td><td>Benin 1993</td><td>Burundi 1991</td><td>Kosovo 1999</td></tr>\n",
            "<tr><td>Paraguay 1947</td><td>Kuwait 1971</td><td>Algeria 1962</td><td>Indonesia 1977</td></tr>\n",
            "<tr><td>Indonesia 1953</td><td>Cuba 1982</td><td>Djibouti 1991</td><td>Indonesia 1976</td></tr>\n",
            "<tr><td>Philippines 1950</td><td>Kazakhstan 1993</td><td>South Africa 1976</td><td>Finland 1964</td></tr>\n",
            "<tr><td></td><td>Italy 1955</td><td>Sri Lanka 1971</td><td>Colombia 1958</td></tr>\n",
            "<tr><td></td><td>Vanuatu 1996</td><td>Zimbabwe 1972</td><td>Uganda 1987</td></tr>\n",
            "<tr><td></td><td>Mauritania 1974</td><td>Thailand 1967</td><td>Congo 1998</td></tr>\n",
            "<tr><td></td><td>Uganda 1970</td><td>Haiti 1991</td><td>Portugal 1964</td></tr>\n",
            "</tbody>\n",
            "('agexp > 11.1209135055542 and etdo4590 <= 0.6065419912338257 and mirps3 <= 0.27200382947921753 and nwstate <= 0.025939878076314926 and popdense > 73.18764877319336', (0.3, 0.3157894736842105, 1))\n",
            "<thead><tr><th scope=\"col\">TP (9)</th><th scope=\"col\">TN (2083)</th><th scope=\"col\">FN (36)</th><th scope=\"col\">FP (14)</th></tr></thead>\n",
            "<tbody>\n",
            "<tr><td>China 1950</td><td>South Africa 1980</td><td>Somalia 1988</td><td>Indonesia 1976</td></tr>\n",
            "<tr><td>Guinea-Bissau 1998</td><td>Cape Verde 1980</td><td>Kosovo 1991</td><td>Burundi 1968</td></tr>\n",
            "<tr><td>Iraq 1959</td><td>Laos 1970</td><td>Democratic Republic of the Congo 1977</td><td>Philippines 1970</td></tr>\n",
            "<tr><td>Burundi 1965</td><td>China 1954</td><td>Democratic Republic of the Congo 1984</td><td>El Salvador 1976</td></tr>\n",
            "<tr><td>Paraguay 1947</td><td>Trinidad and Tobago 1978</td><td>Sri Lanka 1971</td><td>Yemen Arab Republic 1965</td></tr>\n",
            "<tr><td>Burundi 1988</td><td>Yemen Arab Republic 1980</td><td>Algeria 1991</td><td>Uganda 1991</td></tr>\n",
            "<tr><td>Philippines 1950</td><td>Brazil 1994</td><td>Dominican Republic 1965</td><td>Uganda 1987</td></tr>\n",
            "<tr><td>Indonesia 1953</td><td>German Federal Republic 1977</td><td>Pakistan 1971</td><td>Lebanon 1964</td></tr>\n",
            "<tr><td>Burundi 1991</td><td>Taiwan 1959</td><td>Iraq 1961</td><td>Angola 1999</td></tr>\n",
            "<tr><td></td><td>Czech Republic 1993</td><td>Indonesia 1950</td><td>Indonesia 1977</td></tr>\n",
            "</tbody>\n",
            "('agexp > 9.264163970947266 and expgdp > 20.96492290496826 and nwstate <= 0.025939878076314926 and popdense <= 101.83086395263672 and popdense > 97.3112907409668', (0.5454545454545454, 0.20689655172413793, 1))\n",
            "<thead><tr><th scope=\"col\">TP (7)</th><th scope=\"col\">TN (2085)</th><th scope=\"col\">FN (38)</th><th scope=\"col\">FP (12)</th></tr></thead>\n",
            "<tbody>\n",
            "<tr><td>Philippines 1950</td><td>Myanmar 1952</td><td>Tajikistan 1992</td><td>Indonesia 1990</td></tr>\n",
            "<tr><td>Indonesia 1953</td><td>Ireland 1996</td><td>Turkey 1984</td><td>Portugal 1975</td></tr>\n",
            "<tr><td>Laos 1960</td><td>Yemen Arab Republic 1960</td><td>Djibouti 1991</td><td>Congo 1998</td></tr>\n",
            "<tr><td>Paraguay 1947</td><td>United Arab Emirates 1975</td><td>Dominican Republic 1965</td><td>Philippines 1952</td></tr>\n",
            "<tr><td>Republic of Vietnam 1960</td><td>Algeria 1965</td><td>Indonesia 1950</td><td>Portugal 1970</td></tr>\n",
            "<tr><td>Guinea-Bissau 1998</td><td>Pakistan 1987</td><td>Burundi 1965</td><td>Indonesia 1959</td></tr>\n",
            "<tr><td>Iraq 1959</td><td>Norway 1989</td><td>Democratic Republic of the Congo 1991</td><td>Finland 1981</td></tr>\n",
            "<tr><td></td><td>Hungary 1992</td><td>Haiti 1991</td><td>Papua New Guinea 1998</td></tr>\n",
            "<tr><td></td><td>Lesotho 1994</td><td>Thailand 1967</td><td>Finland 1979</td></tr>\n",
            "<tr><td></td><td>Argentina 1967</td><td>South Africa 1976</td><td>Kosovo 1999</td></tr>\n",
            "</tbody>\n",
            "('agexp > 9.260287284851074 and milper > 128.15564346313477 and nwstate <= 0.025939878076314926 and sxpnew <= 0.14166831225156784 and sxpsq > 0.022212110459804535', (0.4074074074074074, 0.20754716981132076, 1))\n",
            "<thead><tr><th scope=\"col\">TP (7)</th><th scope=\"col\">TN (2091)</th><th scope=\"col\">FN (38)</th><th scope=\"col\">FP (6)</th></tr></thead>\n",
            "<tbody>\n",
            "<tr><td>Burundi 1991</td><td>Czechoslovakia 1961</td><td>Algeria 1962</td><td>Yemen 1994</td></tr>\n",
            "<tr><td>Indonesia 1953</td><td>Ecuador 1983</td><td>Cyprus 1963</td><td>Afghanistan 1992</td></tr>\n",
            "<tr><td>Democratic Republic of the Congo 1991</td><td>Italy 1995</td><td>Dominican Republic 1965</td><td>Congo 1998</td></tr>\n",
            "<tr><td>Somalia 1988</td><td>Bhutan 2000</td><td>Tajikistan 1992</td><td>Kosovo 1999</td></tr>\n",
            "<tr><td>Paraguay 1947</td><td>Niger 1981</td><td>Democratic Republic of the Congo 1967</td><td>Myanmar 1983</td></tr>\n",
            "<tr><td>Republic of Vietnam 1960</td><td>Finland 1993</td><td>Iraq 1961</td><td>Chad 1994</td></tr>\n",
            "<tr><td>Philippines 1950</td><td>Germany 1996</td><td>Uganda 1966</td><td></td></tr>\n",
            "<tr><td></td><td>Benin 1970</td><td>Turkey 1984</td><td></td></tr>\n",
            "<tr><td></td><td>Italy 1989</td><td>Democratic Republic of the Congo 1984</td><td></td></tr>\n",
            "<tr><td></td><td>Argentina 1957</td><td>Laos 1960</td><td></td></tr>\n",
            "</tbody>\n",
            "('agexp > 10.932549953460693 and nwstate <= 0.025939878076314926 and popdense > 81.3488998413086 and sxpnew > 0.1025930717587471', (0.2, 0.26666666666666666, 1))\n",
            "<thead><tr><th scope=\"col\">TP (11)</th><th scope=\"col\">TN (2059)</th><th scope=\"col\">FN (34)</th><th scope=\"col\">FP (38)</th></tr></thead>\n",
            "<tbody>\n",
            "<tr><td>Laos 1960</td><td>Zanzibar 1972</td><td>Pakistan 1971</td><td>Congo 1998</td></tr>\n",
            "<tr><td>Indonesia 1953</td><td>United Kingdom 1986</td><td>Russia 1994</td><td>Sri Lanka 1980</td></tr>\n",
            "<tr><td>Philippines 1950</td><td>Samoa 1991</td><td>Mozambique 1976</td><td>Sri Lanka 1973</td></tr>\n",
            "<tr><td>China 1950</td><td>Paraguay 1978</td><td>Guatemala 1978</td><td>Sri Lanka 1978</td></tr>\n",
            "<tr><td>Republic of Vietnam 1960</td><td>Gambia 1978</td><td>Turkey 1984</td><td>Sri Lanka 1982</td></tr>\n",
            "<tr><td>Sri Lanka 1971</td><td>Egypt 1964</td><td>Democratic Republic of the Congo 1977</td><td>Singapore 1978</td></tr>\n",
            "<tr><td>Burundi 1988</td><td>Costa Rica 1998</td><td>Democratic Republic of the Congo 1991</td><td>818 1982</td></tr>\n",
            "<tr><td>Burundi 1965</td><td>Solomon Islands 1992</td><td>Zimbabwe 1972</td><td>Sri Lanka 1967</td></tr>\n",
            "<tr><td>Paraguay 1947</td><td>Costa Rica 1972</td><td>Algeria 1962</td><td>818 1983</td></tr>\n",
            "<tr><td>Burundi 1991</td><td>Israel 1987</td><td>Sierra Leone 1991</td><td>Singapore 1968</td></tr>\n",
            "</tbody>\n"
          ],
          "name": "stdout"
        }
      ]
    },
    {
      "cell_type": "code",
      "metadata": {
        "colab": {
          "base_uri": "https://localhost:8080/"
        },
        "id": "a29jRyrl1yec",
        "outputId": "47931b04-cacb-4933-f0fe-327408f70202"
      },
      "source": [
        "n_rule_chosen = 6\n",
        "y_pred = skope_rules_clf.predict_top_rules(X_test, n_rule_chosen)\n",
        "\n",
        "print('The performances reached with '+str(n_rule_chosen)+' discovered rules are the following:')\n",
        "compute_performances_from_y_pred(y_test, y_pred, 'test_set')\n",
        "precision_recall_fscore_support(y_test, y_pred, average='binary')"
      ],
      "execution_count": null,
      "outputs": [
        {
          "output_type": "stream",
          "text": [
            "The performances reached with 6 discovered rules are the following:\n"
          ],
          "name": "stdout"
        },
        {
          "output_type": "execute_result",
          "data": {
            "text/plain": [
              "(0.18181818181818182, 0.3111111111111111, 0.22950819672131148, None)"
            ]
          },
          "metadata": {
            "tags": []
          },
          "execution_count": 172
        }
      ]
    },
    {
      "cell_type": "code",
      "metadata": {
        "id": "jiL_IHcj4g1O"
      },
      "source": [
        " "
      ],
      "execution_count": null,
      "outputs": []
    }
  ]
}